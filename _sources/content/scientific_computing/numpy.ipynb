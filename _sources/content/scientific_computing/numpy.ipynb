{
 "cells": [
  {
   "cell_type": "markdown",
   "metadata": {},
   "source": [
    "# Numpy\n",
    "\n",
    "For technical reasons, pure Python is not fast enough for numerical data analysis.\n",
    "To work around this problem various packages were developed.\n",
    "Most packages are based on the API, which was developed and implemented by [Numpy](https://www.numpy.org/).\n",
    "Therefore we are concentrating in particular on numpy.\n",
    "\n",
    "Numpy is a package to compute efficiently on multi-dimensional arrays (tensors) with Python.\n",
    "It offers various features, some of them listed below:\n",
    "\n",
    "-  types:\n",
    "   -   numeric data types of different precisions\n",
    "   -   ndarray: multi-dimensional array of a particular type.\n",
    "   -   masked Arrays: array that may have missing values, e.g. for missing data or land masks\n",
    "-  functions and methods:\n",
    "   -   ufunc: operate element wise on arrays (+, -, sin, cos, ...)\n",
    "   -   ndarray methoden: e.g. mean, sum, max, transpose, dot ...\n",
    "   -   linear algebra (matrix inversion, etc.)\n",
    "   -   ...\n",
    "   \n",
    "Before we can use numpy, we have to import it."
   ]
  },
  {
   "cell_type": "code",
   "execution_count": 1,
   "metadata": {},
   "outputs": [],
   "source": [
    "import numpy as np"
   ]
  },
  {
   "cell_type": "markdown",
   "metadata": {},
   "source": [
    "## Ndarray\n",
    "\n",
    "The [ndarray](https://docs.scipy.org/doc/numpy/reference/generated/numpy.ndarray.html) class is the foundation of numpy. A ndarray object represents a multidimensional and homogeneous array consisting of elements of fixed size. This means that all elements are of the same type.\n",
    "\n",
    "### Creating Arrays\n",
    "To create an ndarray object, the following functions are used:\n",
    "\n",
    "-   [numpy.array](https://docs.scipy.org/doc/numpy/reference/generated/numpy.array.html)\n",
    "-   [numpy.zeros](https://docs.scipy.org/doc/numpy/reference/generated/numpy.zeros.html)\n",
    "-   [numpy.empty](https://docs.scipy.org/doc/numpy/reference/generated/numpy.empty.html)\n",
    "-   [numpy.ones](https://docs.scipy.org/doc/numpy/reference/generated/numpy.ones.html)\n",
    "-   [numpy.full](https://docs.scipy.org/doc/numpy/reference/generated/numpy.full.html)\n",
    "-   [numpy.zeros_like](https://docs.scipy.org/doc/numpy/reference/generated/numpy.zeros_like.html)\n",
    "-   [numpy.empty_like](https://docs.scipy.org/doc/numpy/reference/generated/numpy.empty_like.html)\n",
    "-   [numpy.ones_like](https://docs.scipy.org/doc/numpy/reference/generated/numpy.ones_like.html)\n",
    "-   [numpy.full_like](https://docs.scipy.org/doc/numpy/reference/generated/numpy.full_like.html)\n",
    "\n",
    "```{margin}\n",
    "The second example shows, that all elements of an array do have the same type.\n",
    "When an array is created from a sequence of multiple types, all elements will be converted to a compatible type without data loss.\n",
    "```"
   ]
  },
  {
   "cell_type": "code",
   "execution_count": 17,
   "metadata": {},
   "outputs": [],
   "source": [
    "a1 = np.array([1, 2, 3])\n",
    "\n",
    "a2 = np.array([1., 2, 3])\n",
    "\n",
    "# Array containing only zeros\n",
    "z = np.zeros((3, 2))\n",
    "\n",
    "# Array containing only ones\n",
    "o = np.ones((5, 3))\n",
    "\n",
    "# Array containing only zeros with the same metadata as o\n",
    "zeros_from_ones = np.zeros_like(o)\n",
    "\n",
    "# Array without initial values\n",
    "buffer = np.empty((3, 2))\n",
    "\n",
    "# 10x10 identity matrix\n",
    "a = np.eye(10)\n",
    "\n",
    "# As range(), but also for floats\n",
    "x1 = np.arange(1, 10, 0.1)\n",
    "\n",
    "x2 = np.linspace(0, 2 * np.pi, 100)\n",
    "\n",
    "y = np.sin(x1)"
   ]
  },
  {
   "cell_type": "markdown",
   "metadata": {},
   "source": [
    "```{note}\n",
    "Arrays can also be initialized via a sequence, such as a list or a tuple, or other iterable types, e.g. a range.\n",
    "```"
   ]
  },
  {
   "cell_type": "code",
   "execution_count": 6,
   "metadata": {
    "tags": [
     "hide_ouput"
    ]
   },
   "outputs": [
    {
     "name": "stdout",
     "output_type": "stream",
     "text": [
      "[0 1 2]\n"
     ]
    }
   ],
   "source": [
    "print(np.array(range(3)))"
   ]
  },
  {
   "cell_type": "markdown",
   "metadata": {},
   "source": [
    "### Attributes\n",
    "\n",
    "Arrays have attributes which contain its meta data. These attributes are:\n",
    "\n",
    "-   `ndim`: Number of dimensions\n",
    "-   `shape`: tuple of the length of the dimensions\n",
    "-   `size`: number of all elements\n",
    "-   `dtype`: data type of all elements\n",
    "-   `itemsize`: size of the elements in bytes"
   ]
  },
  {
   "cell_type": "code",
   "execution_count": 23,
   "metadata": {},
   "outputs": [
    {
     "name": "stdout",
     "output_type": "stream",
     "text": [
      "[[2 3 1]\n",
      " [5 7 3]]\n",
      "2\n",
      "(2, 3)\n",
      "6\n",
      "int64\n",
      "8\n"
     ]
    }
   ],
   "source": [
    "a = np.array([[2, 3, 1], [5, 7, 3]])\n",
    "\n",
    "print(a)\n",
    "print(a.ndim)\n",
    "print(a.shape)\n",
    "print(a.size)\n",
    "print(a.dtype)\n",
    "print(a.itemsize)"
   ]
  },
  {
   "cell_type": "markdown",
   "metadata": {},
   "source": [
    "### Indexing and Slicing\n",
    "\n",
    "Indexing and slicing works in the same way as it does for sequences."
   ]
  },
  {
   "cell_type": "code",
   "execution_count": 24,
   "metadata": {
    "tags": [
     "hide_ouput"
    ]
   },
   "outputs": [
    {
     "name": "stdout",
     "output_type": "stream",
     "text": [
      "[0 1 2 3 4 5 6 7 8]\n",
      "4\n",
      "[1 2]\n",
      "[8 7 6 5 4 3 2 1 0]\n"
     ]
    }
   ],
   "source": [
    "a = np.array(range(9), dtype=np.int)\n",
    "print(a)\n",
    "print(a[4])\n",
    "print(a[1:3])\n",
    "print(a[::-1])"
   ]
  },
  {
   "cell_type": "markdown",
   "metadata": {},
   "source": [
    "Numpy array are `mutable` which means that we can change elements of an array after it has been created.\n",
    "\n",
    "```{note}\n",
    "When changing an element of an array, the data will be casted to the type of the array.\n",
    "This may cause loss of information as shown below.\n",
    "```"
   ]
  },
  {
   "cell_type": "code",
   "execution_count": 13,
   "metadata": {
    "tags": [
     "hide_ouput"
    ]
   },
   "outputs": [
    {
     "name": "stdout",
     "output_type": "stream",
     "text": [
      "[0 1 2 3 4 5 6 7 8]\n",
      "[0 1 2 3 4 3 6 7 8]\n"
     ]
    }
   ],
   "source": [
    "a = np.array(range(9))\n",
    "print(a)\n",
    "\n",
    "a[5] = 3.4\n",
    "print(a)"
   ]
  },
  {
   "cell_type": "markdown",
   "metadata": {},
   "source": [
    "```{warning}\n",
    "Unlike for lists, slices of an numpy array are references to the slice of the original array.\n",
    "Hence changing data of a slice also changes the original array!\n",
    "```"
   ]
  },
  {
   "cell_type": "code",
   "execution_count": 15,
   "metadata": {
    "tags": [
     "hide_ouput"
    ]
   },
   "outputs": [
    {
     "name": "stdout",
     "output_type": "stream",
     "text": [
      "[20]\n",
      "[ 0 20  2  3  4  5  6  7  8]\n"
     ]
    }
   ],
   "source": [
    "a = np.array(range(9))\n",
    "\n",
    "b = a[1:2]\n",
    "b[0] = 20\n",
    "\n",
    "print(b)\n",
    "print(a)"
   ]
  },
  {
   "cell_type": "markdown",
   "metadata": {},
   "source": [
    "Multi-dimensional arrays may have one index per axis. Tuples of indices are automatically filled with `:` to the right."
   ]
  },
  {
   "cell_type": "code",
   "execution_count": 30,
   "metadata": {
    "tags": [
     "hide_ouput"
    ]
   },
   "outputs": [
    {
     "name": "stdout",
     "output_type": "stream",
     "text": [
      "[[[0.75927542 0.67008731 0.06948295 0.3219854 ]\n",
      "  [0.8164175  0.89856409 0.48034308 0.85270738]\n",
      "  [0.13092369 0.29600006 0.6499389  0.10710406]]\n",
      "\n",
      " [[0.2234761  0.95906661 0.68333508 0.70382561]\n",
      "  [0.59257239 0.62352223 0.95006678 0.86956172]\n",
      "  [0.06296639 0.27606878 0.12782001 0.62795607]]]\n",
      "0.2760687789695674\n",
      "[0.89856409 0.62352223]\n",
      "[[[0.2234761  0.95906661 0.68333508 0.70382561]\n",
      "  [0.59257239 0.62352223 0.95006678 0.86956172]\n",
      "  [0.06296639 0.27606878 0.12782001 0.62795607]]]\n",
      "[[0.2234761  0.95906661 0.68333508 0.70382561]\n",
      " [0.59257239 0.62352223 0.95006678 0.86956172]\n",
      " [0.06296639 0.27606878 0.12782001 0.62795607]]\n"
     ]
    }
   ],
   "source": [
    "a = np.random.random((2, 3, 4))\n",
    "\n",
    "print(a)\n",
    "print(a[1, 2, 1])\n",
    "print(a[:, 1, 1])\n",
    "print(a[1:, :, :])\n",
    "\n",
    "print(a[-1])"
   ]
  },
  {
   "cell_type": "markdown",
   "metadata": {},
   "source": [
    "Sometimes we may want to write code that does not assume a particular number of dimensions for the arrays.\n",
    "Here, the `...` notation is useful. It is used as an dummy for as many `:` as necessary to fill the index tuple."
   ]
  },
  {
   "cell_type": "code",
   "execution_count": 38,
   "metadata": {
    "tags": [
     "hide_ouput"
    ]
   },
   "outputs": [
    {
     "name": "stdout",
     "output_type": "stream",
     "text": [
      "[[0.75927542 0.8164175  0.13092369]\n",
      " [0.2234761  0.59257239 0.06296639]]\n",
      "[[0.67008731 0.89856409 0.29600006]\n",
      " [0.95906661 0.62352223 0.27606878]]\n"
     ]
    }
   ],
   "source": [
    "print(a[..., 0])\n",
    "print(a[:2, ..., 1])"
   ]
  },
  {
   "cell_type": "code",
   "execution_count": 39,
   "metadata": {
    "tags": [
     "hide_ouput"
    ]
   },
   "outputs": [
    {
     "name": "stdout",
     "output_type": "stream",
     "text": [
      "True\n",
      "True\n",
      "True\n"
     ]
    }
   ],
   "source": [
    "x = np.arange(2 * 3 * 2 * 5 * 4).reshape(2, 3, 2, 5, 4)\n",
    "\n",
    "print((x[1, 2, ...] == x[1, 2, :, :, :]).all())\n",
    "print((x[..., 3] == x[:, :, :, :, 3]).all())\n",
    "print((x[1, ..., 4, :] == x[1, :, :, 4, :]).all())"
   ]
  },
  {
   "cell_type": "markdown",
   "metadata": {},
   "source": [
    "### Iterating over arrays\n",
    "\n",
    "We can iterate over the elements of an one-dimensional array in the same way as we do for lists."
   ]
  },
  {
   "cell_type": "code",
   "execution_count": 25,
   "metadata": {
    "tags": [
     "hide_ouput"
    ]
   },
   "outputs": [
    {
     "name": "stdout",
     "output_type": "stream",
     "text": [
      "0.0\n",
      "1.0\n",
      "2.0\n",
      "3.0\n",
      "3.9999999999999996\n",
      "4.999999999999999\n",
      "5.999999999999999\n",
      "6.999999999999999\n",
      "7.999999999999999\n",
      "8.999999999999998\n"
     ]
    }
   ],
   "source": [
    "a = np.arange(10) ** 3\n",
    "\n",
    "for e in a:\n",
    "    print(e ** (1 / 3.))"
   ]
  },
  {
   "cell_type": "markdown",
   "metadata": {},
   "source": [
    "Multi-dimensional arrays are iterated over with respect to the first axis.\n",
    "If we are iterating over an array of shape `(2, 3)`, the `for` loop will consist of two iterations and the variable in within the loop body will be an array of shape `(3,)`."
   ]
  },
  {
   "cell_type": "code",
   "execution_count": 43,
   "metadata": {
    "tags": [
     "hide_ouput"
    ]
   },
   "outputs": [
    {
     "name": "stdout",
     "output_type": "stream",
     "text": [
      "[0 1 2 3 4]\n",
      "[5 6 7 8 9]\n",
      "[10 11 12 13 14]\n"
     ]
    }
   ],
   "source": [
    "a = np.arange(5 * 3).reshape((3, 5))\n",
    "for row in a:\n",
    "    print(row)"
   ]
  },
  {
   "cell_type": "markdown",
   "metadata": {},
   "source": [
    "To iterate over all elements of an array, the attribute `flat` can be used."
   ]
  },
  {
   "cell_type": "code",
   "execution_count": 42,
   "metadata": {
    "tags": [
     "hide_ouput"
    ]
   },
   "outputs": [
    {
     "name": "stdout",
     "output_type": "stream",
     "text": [
      "0\n",
      "1\n",
      "2\n",
      "3\n",
      "4\n",
      "5\n",
      "6\n",
      "7\n",
      "8\n",
      "9\n",
      "10\n",
      "11\n",
      "12\n",
      "13\n",
      "14\n"
     ]
    }
   ],
   "source": [
    "for element in a.flat:\n",
    "    print(element)"
   ]
  },
  {
   "cell_type": "markdown",
   "metadata": {},
   "source": [
    "### Reshape\n",
    "\n",
    "Sometimes it is useful to change the shape of the array. Therefore numpy offers the following options:\n",
    "\n",
    "-   The `shape` attribute of the array can be overwritten.\n",
    "-   `transpose` returns the transposed array. The order of the axis is reversed.\n",
    "-   [reshape](https://docs.scipy.org/doc/numpy/reference/generated/numpy.reshape.html) returns a reference to the same data having its shape changed.\n",
    "-   [resize](https://docs.scipy.org/doc/numpy/reference/generated/numpy.ndarray.resize.html) changes the size of the array itself and returns `None`.\n",
    "\n",
    "```{note}\n",
    "When changing the shape of an array, the new shape must be compatible with the old one. That is, there must fit the same number of elements in both shapes.\n",
    "If the new shape is not compatible, a `ValueError` is raised.\n",
    "```"
   ]
  },
  {
   "cell_type": "code",
   "execution_count": 50,
   "metadata": {
    "tags": [
     "hide_ouput"
    ]
   },
   "outputs": [
    {
     "name": "stdout",
     "output_type": "stream",
     "text": [
      "[[ 0  1  2  3]\n",
      " [ 4  5  6  7]\n",
      " [ 8  9 10 11]]\n"
     ]
    }
   ],
   "source": [
    "a = np.arange(3 * 4).reshape((3, 4))\n",
    "print(a)"
   ]
  },
  {
   "cell_type": "code",
   "execution_count": 51,
   "metadata": {
    "tags": [
     "hide_ouput"
    ]
   },
   "outputs": [
    {
     "name": "stdout",
     "output_type": "stream",
     "text": [
      "[[[[ 0  1]]\n",
      "\n",
      "  [[ 2  3]]]\n",
      "\n",
      "\n",
      " [[[ 4  5]]\n",
      "\n",
      "  [[ 6  7]]]\n",
      "\n",
      "\n",
      " [[[ 8  9]]\n",
      "\n",
      "  [[10 11]]]]\n"
     ]
    }
   ],
   "source": [
    "a.shape = (3, 2, 1, 2)\n",
    "print(a)"
   ]
  },
  {
   "cell_type": "code",
   "execution_count": 52,
   "metadata": {
    "tags": [
     "hide_ouput"
    ]
   },
   "outputs": [
    {
     "name": "stdout",
     "output_type": "stream",
     "text": [
      "[[[[ 0  4  8]\n",
      "   [ 2  6 10]]]\n",
      "\n",
      "\n",
      " [[[ 1  5  9]\n",
      "   [ 3  7 11]]]]\n"
     ]
    }
   ],
   "source": [
    "print(a.transpose())"
   ]
  },
  {
   "cell_type": "code",
   "execution_count": 53,
   "metadata": {
    "tags": [
     "hide_ouput"
    ]
   },
   "outputs": [
    {
     "name": "stdout",
     "output_type": "stream",
     "text": [
      "[[ 0  1  2  3  4  5]\n",
      " [ 6  7  8  9 10 11]]\n"
     ]
    }
   ],
   "source": [
    "a.resize((2, 6))\n",
    "print(a)"
   ]
  },
  {
   "cell_type": "code",
   "execution_count": 54,
   "metadata": {
    "tags": [
     "hide_ouput"
    ]
   },
   "outputs": [
    {
     "name": "stdout",
     "output_type": "stream",
     "text": [
      "(3, 4)\n"
     ]
    }
   ],
   "source": [
    "b = a.reshape((3, -1))\n",
    "print(b.shape)"
   ]
  },
  {
   "cell_type": "code",
   "execution_count": 55,
   "metadata": {
    "tags": [
     "hide_ouput"
    ]
   },
   "outputs": [
    {
     "name": "stdout",
     "output_type": "stream",
     "text": [
      "[[  0   1   2   3   4   5]\n",
      " [  6   7   8   9 100  11]]\n"
     ]
    }
   ],
   "source": [
    "# b references to the same data as a!\n",
    "b[2, 2] = 100\n",
    "print(a)"
   ]
  },
  {
   "cell_type": "markdown",
   "metadata": {},
   "source": [
    "### Operators\n",
    "\n",
    "Numpy offers the same arithmetic and logic operators which we already know from the basic python data types.\n",
    "These operators always work element wise."
   ]
  },
  {
   "cell_type": "code",
   "execution_count": 59,
   "metadata": {
    "tags": [
     "hide_ouput"
    ]
   },
   "outputs": [],
   "source": [
    "a = np.arange(4)\n",
    "b = np.array([2, 7, 4.5, 1])"
   ]
  },
  {
   "cell_type": "code",
   "execution_count": 60,
   "metadata": {
    "tags": [
     "hide_ouput"
    ]
   },
   "outputs": [
    {
     "name": "stdout",
     "output_type": "stream",
     "text": [
      "[-2.  -6.  -2.5  2. ]\n"
     ]
    }
   ],
   "source": [
    "print(a - b)"
   ]
  },
  {
   "cell_type": "code",
   "execution_count": 61,
   "metadata": {
    "tags": [
     "hide_ouput"
    ]
   },
   "outputs": [
    {
     "name": "stdout",
     "output_type": "stream",
     "text": [
      "[0. 7. 9. 3.]\n"
     ]
    }
   ],
   "source": [
    "print(a * b)"
   ]
  },
  {
   "cell_type": "code",
   "execution_count": 62,
   "metadata": {
    "tags": [
     "hide_ouput"
    ]
   },
   "outputs": [
    {
     "name": "stdout",
     "output_type": "stream",
     "text": [
      "[ 4.   49.   20.25  1.  ]\n"
     ]
    }
   ],
   "source": [
    "print(b ** 2)"
   ]
  },
  {
   "cell_type": "code",
   "execution_count": 63,
   "metadata": {
    "tags": [
     "hide_ouput"
    ]
   },
   "outputs": [
    {
     "name": "stdout",
     "output_type": "stream",
     "text": [
      "[ 1.    7.   20.25  1.  ]\n"
     ]
    }
   ],
   "source": [
    "print(b ** a)"
   ]
  },
  {
   "cell_type": "code",
   "execution_count": 64,
   "metadata": {
    "tags": [
     "hide_ouput"
    ]
   },
   "outputs": [
    {
     "name": "stdout",
     "output_type": "stream",
     "text": [
      "[0 1 2 0]\n"
     ]
    }
   ],
   "source": [
    "print(a % 3)"
   ]
  },
  {
   "cell_type": "code",
   "execution_count": 65,
   "metadata": {
    "tags": [
     "hide_ouput"
    ]
   },
   "outputs": [
    {
     "name": "stdout",
     "output_type": "stream",
     "text": [
      "[0.         8.41470985 9.09297427 1.41120008]\n"
     ]
    }
   ],
   "source": [
    "print(10 * np.sin(a))"
   ]
  },
  {
   "cell_type": "code",
   "execution_count": 66,
   "metadata": {
    "tags": [
     "hide_ouput"
    ]
   },
   "outputs": [
    {
     "name": "stdout",
     "output_type": "stream",
     "text": [
      "[ True False False  True]\n"
     ]
    }
   ],
   "source": [
    "print(b <= 4)"
   ]
  },
  {
   "cell_type": "code",
   "execution_count": 67,
   "metadata": {
    "tags": [
     "hide_ouput"
    ]
   },
   "outputs": [
    {
     "name": "stdout",
     "output_type": "stream",
     "text": [
      "[2.  8.  6.5 4. ]\n"
     ]
    }
   ],
   "source": [
    "# in-place addition\n",
    "b += a\n",
    "print(b)"
   ]
  },
  {
   "cell_type": "markdown",
   "metadata": {},
   "source": [
    "```{margin}\n",
    "See the section about {ref}`Broadcasting` to learn when shapes are compatible.\n",
    "```\n",
    "In order to be able to perform element wise operations between two arrays, the shapes of these arrays must be compatible.\n",
    "If they are not compatible, a `ValueError` is raised."
   ]
  },
  {
   "cell_type": "code",
   "execution_count": 68,
   "metadata": {},
   "outputs": [
    {
     "ename": "ValueError",
     "evalue": "operands could not be broadcast together with shapes (3,) (2,) ",
     "output_type": "error",
     "traceback": [
      "\u001b[0;31m---------------------------------------------------------------------------\u001b[0m",
      "\u001b[0;31mValueError\u001b[0m                                Traceback (most recent call last)",
      "\u001b[0;32m<ipython-input-68-d99fc880d022>\u001b[0m in \u001b[0;36m<module>\u001b[0;34m\u001b[0m\n\u001b[1;32m      1\u001b[0m \u001b[0ma\u001b[0m \u001b[0;34m=\u001b[0m \u001b[0mnp\u001b[0m\u001b[0;34m.\u001b[0m\u001b[0marange\u001b[0m\u001b[0;34m(\u001b[0m\u001b[0;36m3\u001b[0m\u001b[0;34m)\u001b[0m\u001b[0;34m\u001b[0m\u001b[0;34m\u001b[0m\u001b[0m\n\u001b[1;32m      2\u001b[0m \u001b[0mb\u001b[0m \u001b[0;34m=\u001b[0m \u001b[0mnp\u001b[0m\u001b[0;34m.\u001b[0m\u001b[0marange\u001b[0m\u001b[0;34m(\u001b[0m\u001b[0;36m2\u001b[0m\u001b[0;34m)\u001b[0m\u001b[0;34m\u001b[0m\u001b[0;34m\u001b[0m\u001b[0m\n\u001b[0;32m----> 3\u001b[0;31m \u001b[0ma\u001b[0m \u001b[0;34m+\u001b[0m \u001b[0mb\u001b[0m\u001b[0;34m\u001b[0m\u001b[0;34m\u001b[0m\u001b[0m\n\u001b[0m",
      "\u001b[0;31mValueError\u001b[0m: operands could not be broadcast together with shapes (3,) (2,) "
     ]
    }
   ],
   "source": [
    "a = np.arange(3)\n",
    "b = np.arange(2)\n",
    "a + b"
   ]
  },
  {
   "cell_type": "markdown",
   "metadata": {},
   "source": [
    "Most unary operators (operators which have only one argument) are implemented as a method of the ndarray class.\n",
    "In many cases it is possible to apply the operators along one or more specific axis via the `axis` keyword."
   ]
  },
  {
   "cell_type": "code",
   "execution_count": 71,
   "metadata": {
    "tags": [
     "hide_ouput"
    ]
   },
   "outputs": [
    {
     "name": "stdout",
     "output_type": "stream",
     "text": [
      "[[1 2]\n",
      " [3 4]\n",
      " [5 6]]\n"
     ]
    }
   ],
   "source": [
    "a = np.array([[1, 2], [3, 4], [5, 6]])\n",
    "print(a)"
   ]
  },
  {
   "cell_type": "code",
   "execution_count": 72,
   "metadata": {
    "tags": [
     "hide_ouput"
    ]
   },
   "outputs": [
    {
     "name": "stdout",
     "output_type": "stream",
     "text": [
      "21\n"
     ]
    }
   ],
   "source": [
    "# sum of all elements\n",
    "print(a.sum())"
   ]
  },
  {
   "cell_type": "code",
   "execution_count": 73,
   "metadata": {
    "tags": [
     "hide_ouput"
    ]
   },
   "outputs": [
    {
     "name": "stdout",
     "output_type": "stream",
     "text": [
      "[ 9 12]\n"
     ]
    }
   ],
   "source": [
    "# sum along the first dimension\n",
    "print(a.sum(axis=0))"
   ]
  },
  {
   "cell_type": "code",
   "execution_count": 74,
   "metadata": {
    "tags": [
     "hide_ouput"
    ]
   },
   "outputs": [
    {
     "name": "stdout",
     "output_type": "stream",
     "text": [
      "1\n"
     ]
    }
   ],
   "source": [
    "# global minimum\n",
    "print(a.min())"
   ]
  },
  {
   "cell_type": "code",
   "execution_count": 75,
   "metadata": {
    "tags": [
     "hide_ouput"
    ]
   },
   "outputs": [
    {
     "name": "stdout",
     "output_type": "stream",
     "text": [
      "6\n"
     ]
    }
   ],
   "source": [
    "# global maximum\n",
    "print(a.max())"
   ]
  },
  {
   "cell_type": "code",
   "execution_count": 76,
   "metadata": {
    "tags": [
     "hide_ouput"
    ]
   },
   "outputs": [
    {
     "name": "stdout",
     "output_type": "stream",
     "text": [
      "3.5\n"
     ]
    }
   ],
   "source": [
    "# mean\n",
    "print(a.mean())"
   ]
  },
  {
   "cell_type": "code",
   "execution_count": 77,
   "metadata": {
    "tags": [
     "hide_ouput"
    ]
   },
   "outputs": [
    {
     "name": "stdout",
     "output_type": "stream",
     "text": [
      "[[ 1  3]\n",
      " [ 3  7]\n",
      " [ 5 11]]\n"
     ]
    }
   ],
   "source": [
    "# cummultative sum along the second dimension\n",
    "print(a.cumsum(axis=1))"
   ]
  },
  {
   "cell_type": "code",
   "execution_count": 81,
   "metadata": {
    "tags": [
     "hide_ouput"
    ]
   },
   "outputs": [
    {
     "name": "stdout",
     "output_type": "stream",
     "text": [
      "[2 4 6] [2 4 6]\n"
     ]
    }
   ],
   "source": [
    "# dot product (actually a binary operator)\n",
    "b = np.arange(2)\n",
    "print(a.dot(b), np.dot(a, b))"
   ]
  },
  {
   "cell_type": "markdown",
   "metadata": {},
   "source": [
    "## Masked arrays\n",
    "\n",
    "[MaskedArray](https://docs.scipy.org/doc/numpy/reference/maskedarray.html) is a subclass of ndarray.\n",
    "It extends the ndarray class by the possibility to mask elements. These are neglected in most of the computations.\n",
    "Functions which create or deal with masked arrays are available in the `numpy.ma` module.\n",
    "For most of the functions that create ndarrays there exist a counterpart for MaskedArrays."
   ]
  },
  {
   "cell_type": "code",
   "execution_count": 112,
   "metadata": {
    "tags": [
     "hide_ouput"
    ]
   },
   "outputs": [],
   "source": [
    "a = np.ma.ones((2, 2))"
   ]
  },
  {
   "cell_type": "markdown",
   "metadata": {},
   "source": [
    "Elements can be masked by assigning the special value `numpy.ma.masked` to them.\n",
    "\n",
    "```{margin}\n",
    "The masked value is shown as `--` when the array is printed. \n",
    "```"
   ]
  },
  {
   "cell_type": "code",
   "execution_count": 113,
   "metadata": {
    "tags": [
     "hide_ouput"
    ]
   },
   "outputs": [
    {
     "name": "stdout",
     "output_type": "stream",
     "text": [
      "[[1.0 --]\n",
      " [1.0 1.0]]\n",
      "3.0\n"
     ]
    }
   ],
   "source": [
    "# mask a value\n",
    "a[0, 1] = np.ma.masked\n",
    "print(a)\n",
    "print(a.sum())"
   ]
  },
  {
   "cell_type": "markdown",
   "metadata": {},
   "source": [
    "The mask is available as an attribute of the MaskedArray object.\n",
    "It is an array of the same shape of type boolean.\n",
    "Unmasking of masked values can be done by assigning `False` to elements of the mask.\n",
    "\n",
    "```{margin}\n",
    "To unmask all values, the mask attribute itself can be set to `False`\n",
    "```"
   ]
  },
  {
   "cell_type": "code",
   "execution_count": 115,
   "metadata": {
    "tags": [
     "hide_ouput"
    ]
   },
   "outputs": [
    {
     "name": "stdout",
     "output_type": "stream",
     "text": [
      "[[4.0 2.0]\n",
      " [4.0 4.0]]\n",
      "[[4.0 2.0]\n",
      " [4.0 4.0]]\n"
     ]
    }
   ],
   "source": [
    "a *= 2\n",
    "print(a)\n",
    "\n",
    "a.mask[0, 1] = False\n",
    "print(a)"
   ]
  },
  {
   "cell_type": "markdown",
   "metadata": {},
   "source": [
    "```{note}\n",
    "By masking a value the actual element is not changed but only marked as masked.\n",
    "Element wise operations on a masked array only affect unmasked elements.\n",
    "```"
   ]
  },
  {
   "cell_type": "markdown",
   "metadata": {},
   "source": [
    "## Numpy functions\n",
    "\n",
    "Numpy offers a huge set of functions covering almost all fundamental computational demands in science.\n",
    "Many of these functions are grouped in modules within the numpy package.\n",
    "The following list contains links to the official documentation.\n",
    "Take some time to see what is offered.\n",
    "There is a solution for many problems you will have to solve in the future.\n",
    "\n",
    "-  [Array manipulation routines](https://numpy.org/doc/stable/reference/routines.array-manipulation.html)\n",
    "-  [Mathematical functions](https://numpy.org/doc/stable/reference/routines.math.html)\n",
    "-  [Linear algebra](https://numpy.org/doc/stable/reference/routines.linalg.html)\n",
    "-  [Random sampling](https://numpy.org/doc/stable/reference/random/index.html)\n",
    "-  [Statistics](https://numpy.org/doc/stable/reference/routines.sort.html)\n",
    "-  [Discrete Fourier Transform](https://numpy.org/doc/stable/reference/routines.fft.html)\n",
    "-  [Logic functions](https://numpy.org/doc/stable/reference/routines.logic.html)\n",
    "-  [Sorting, searching and counting](https://numpy.org/doc/stable/reference/routines.sort.html)\n",
    "-  [Functional programming](https://numpy.org/doc/stable/reference/routines.functional.html)\n",
    "-  [Input and output](https://numpy.org/doc/stable/reference/routines.io.html)\n",
    "\n",
    "```{Note}\n",
    "The better you know the numpy library the easier it will be for you to write scientific software, e.g. for analyzing and visualizing data.\n",
    "```"
   ]
  },
  {
   "cell_type": "markdown",
   "metadata": {},
   "source": [
    "(Broadcasting)=\n",
    "## Broadcasting\n",
    "\n",
    "Numpy functions or element wise operations expect arrays of the compatible shape. In many cases we have data which does not have the same shape. Consider for example a sea surface temperature field which has the shape `(nlat, nlon)`, with the corresponding longitude vector of shape `(nlon,)` and latitude vector of shape `(nlat,)`. Nevertheless we want to be able to do things like the following"
   ]
  },
  {
   "cell_type": "markdown",
   "metadata": {},
   "source": [
    "```{margin}\n",
    "We need to weight the sst with the cosine of the latitude when computing the global mean to account for the curvature of the regular Lon/Lat grid.\n",
    "```\n",
    "```python\n",
    "mean_sst = (sst * np.cos(lat)).mean()\n",
    "```"
   ]
  },
  {
   "cell_type": "markdown",
   "metadata": {},
   "source": [
    "To enable such computations, `numpy` offers the so-called [broadcasting](https://docs.scipy.org/doc/numpy/user/basics.broadcasting.html).\n",
    "It follows these rules:\n",
    "\n",
    "```{margin}\n",
    "The rank of an array is the number of dimensions\n",
    "```\n",
    "-   If the input arrays do not have the same number of dimensions, a \"1\" is appended at the beginning of the shape of all arrays with less dimensions until they have the same *rank*.\n",
    "-   The dimensions with length \"1\" are treated as if they were as long as the corresponding dimension of the largest array."
   ]
  },
  {
   "cell_type": "code",
   "execution_count": 103,
   "metadata": {
    "tags": [
     "hide_ouput"
    ]
   },
   "outputs": [],
   "source": [
    "sst = np.arange(10*20).reshape(10, 20)\n",
    "lat = np.linspace(-np.pi/2, np.pi/2, 20)\n",
    "\n",
    "mean_sst = (sst * np.cos(lat)).mean()"
   ]
  },
  {
   "cell_type": "markdown",
   "metadata": {},
   "source": [
    "Because new dimensions are always appended at the beginning of the shape, it can happen, that one has to append a new dimension by hand. This can be achieved by indexing via the special constant `newaxis`."
   ]
  },
  {
   "cell_type": "code",
   "execution_count": 106,
   "metadata": {
    "tags": [
     "hide_ouput"
    ]
   },
   "outputs": [
    {
     "name": "stdout",
     "output_type": "stream",
     "text": [
      "(3,) (3, 1)\n"
     ]
    }
   ],
   "source": [
    "a = np.arange(3)\n",
    "print(a.shape, a[:, np.newaxis].shape)"
   ]
  },
  {
   "cell_type": "markdown",
   "metadata": {},
   "source": [
    "Here is a more complex example:"
   ]
  },
  {
   "cell_type": "code",
   "execution_count": 107,
   "metadata": {
    "tags": [
     "hide_ouput"
    ]
   },
   "outputs": [
    {
     "name": "stdout",
     "output_type": "stream",
     "text": [
      "(3, 4, 7) (7,) (4,) (3, 7)\n",
      "[[[  0   1   4   9  16  25  36]\n",
      "  [  0   8  18  30  44  60  78]\n",
      "  [  0  15  32  51  72  95 120]\n",
      "  [  0  22  46  72 100 130 162]]\n",
      "\n",
      " [[  0  29  60  93 128 165 204]\n",
      "  [  0  36  74 114 156 200 246]\n",
      "  [  0  43  88 135 184 235 288]\n",
      "  [  0  50 102 156 212 270 330]]\n",
      "\n",
      " [[  0  57 116 177 240 305 372]\n",
      "  [  0  64 130 198 268 340 414]\n",
      "  [  0  71 144 219 296 375 456]\n",
      "  [  0  78 158 240 324 410 498]]]\n"
     ]
    }
   ],
   "source": [
    "a = np.arange(3 * 4 * 7).reshape(3, 4, 7)\n",
    "b = np.arange(7)\n",
    "c = np.arange(4)\n",
    "d = np.arange(3 * 7).reshape((3, 7))\n",
    "\n",
    "print(a.shape, b.shape, c.shape, d.shape)\n",
    "print(a * b)"
   ]
  },
  {
   "cell_type": "markdown",
   "metadata": {},
   "source": [
    "```{margin}\n",
    "A `ValueError` is raised indicating that broadcasting failed. Additionally, the shapes of the arrays are given.\n",
    "```"
   ]
  },
  {
   "cell_type": "code",
   "execution_count": 108,
   "metadata": {},
   "outputs": [
    {
     "ename": "ValueError",
     "evalue": "operands could not be broadcast together with shapes (3,4,7) (4,) ",
     "output_type": "error",
     "traceback": [
      "\u001b[0;31m---------------------------------------------------------------------------\u001b[0m",
      "\u001b[0;31mValueError\u001b[0m                                Traceback (most recent call last)",
      "\u001b[0;32m<ipython-input-108-f6d9bab54ad1>\u001b[0m in \u001b[0;36m<module>\u001b[0;34m\u001b[0m\n\u001b[1;32m      1\u001b[0m \u001b[0;31m# This does not work!\u001b[0m\u001b[0;34m\u001b[0m\u001b[0;34m\u001b[0m\u001b[0;34m\u001b[0m\u001b[0m\n\u001b[0;32m----> 2\u001b[0;31m \u001b[0mprint\u001b[0m\u001b[0;34m(\u001b[0m\u001b[0ma\u001b[0m \u001b[0;34m*\u001b[0m \u001b[0mc\u001b[0m\u001b[0;34m)\u001b[0m\u001b[0;34m\u001b[0m\u001b[0;34m\u001b[0m\u001b[0m\n\u001b[0m",
      "\u001b[0;31mValueError\u001b[0m: operands could not be broadcast together with shapes (3,4,7) (4,) "
     ]
    }
   ],
   "source": [
    "# This does not work!\n",
    "print(a * c)"
   ]
  },
  {
   "cell_type": "code",
   "execution_count": 109,
   "metadata": {
    "tags": [
     "hide_ouput"
    ]
   },
   "outputs": [
    {
     "name": "stdout",
     "output_type": "stream",
     "text": [
      "[[[  0   0   0   0   0   0   0]\n",
      "  [  7   8   9  10  11  12  13]\n",
      "  [ 28  30  32  34  36  38  40]\n",
      "  [ 63  66  69  72  75  78  81]]\n",
      "\n",
      " [[  0   0   0   0   0   0   0]\n",
      "  [ 35  36  37  38  39  40  41]\n",
      "  [ 84  86  88  90  92  94  96]\n",
      "  [147 150 153 156 159 162 165]]\n",
      "\n",
      " [[  0   0   0   0   0   0   0]\n",
      "  [ 63  64  65  66  67  68  69]\n",
      "  [140 142 144 146 148 150 152]\n",
      "  [231 234 237 240 243 246 249]]]\n"
     ]
    }
   ],
   "source": [
    "# ...but this does!\n",
    "print(a * c[:, np.newaxis])"
   ]
  },
  {
   "cell_type": "code",
   "execution_count": 110,
   "metadata": {
    "tags": [
     "hide_ouput"
    ]
   },
   "outputs": [
    {
     "name": "stdout",
     "output_type": "stream",
     "text": [
      "[[[   0    0    0    0    0    0    0]\n",
      "  [   0    8   18   30   44   60   78]\n",
      "  [   0   30   64  102  144  190  240]\n",
      "  [   0   66  138  216  300  390  486]]\n",
      "\n",
      " [[   0    0    0    0    0    0    0]\n",
      "  [   0   36   74  114  156  200  246]\n",
      "  [   0   86  176  270  368  470  576]\n",
      "  [   0  150  306  468  636  810  990]]\n",
      "\n",
      " [[   0    0    0    0    0    0    0]\n",
      "  [   0   64  130  198  268  340  414]\n",
      "  [   0  142  288  438  592  750  912]\n",
      "  [   0  234  474  720  972 1230 1494]]]\n"
     ]
    }
   ],
   "source": [
    "print(a * b  * c[:, np.newaxis])"
   ]
  },
  {
   "cell_type": "code",
   "execution_count": 111,
   "metadata": {
    "tags": [
     "hide_ouput"
    ]
   },
   "outputs": [
    {
     "name": "stdout",
     "output_type": "stream",
     "text": [
      "[[[    0     0     0     0     0     0     0]\n",
      "  [    0     8    36    90   176   300   468]\n",
      "  [    0    30   128   306   576   950  1440]\n",
      "  [    0    66   276   648  1200  1950  2916]]\n",
      "\n",
      " [[    0     0     0     0     0     0     0]\n",
      "  [    0   288   666  1140  1716  2400  3198]\n",
      "  [    0   688  1584  2700  4048  5640  7488]\n",
      "  [    0  1200  2754  4680  6996  9720 12870]]\n",
      "\n",
      " [[    0     0     0     0     0     0     0]\n",
      "  [    0   960  2080  3366  4824  6460  8280]\n",
      "  [    0  2130  4608  7446 10656 14250 18240]\n",
      "  [    0  3510  7584 12240 17496 23370 29880]]]\n"
     ]
    }
   ],
   "source": [
    "print(a * b  * c[:, np.newaxis] * d[:, np.newaxis, :])"
   ]
  }
 ],
 "metadata": {
  "kernelspec": {
   "display_name": "Python [conda env:pherwiss_programming]",
   "language": "python",
   "name": "conda-env-pherwiss_programming-py"
  },
  "language_info": {
   "codemirror_mode": {
    "name": "ipython",
    "version": 3
   },
   "file_extension": ".py",
   "mimetype": "text/x-python",
   "name": "python",
   "nbconvert_exporter": "python",
   "pygments_lexer": "ipython3",
   "version": "3.8.2"
  }
 },
 "nbformat": 4,
 "nbformat_minor": 4
}
