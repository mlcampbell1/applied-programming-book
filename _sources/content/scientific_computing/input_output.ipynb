{
 "cells": [
  {
   "cell_type": "markdown",
   "metadata": {},
   "source": [
    "# Data Input and Output\n",
    "\n",
    "The main application of Python or any other programming language in your future career will be the processing and analysis of data."
   ]
  },
  {
   "cell_type": "code",
   "execution_count": 1,
   "metadata": {
    "tags": [
     "hide_input"
    ]
   },
   "outputs": [],
   "source": [
    "import numpy as np\n",
    "import netCDF4 as nc\n",
    "\n",
    "import matplotlib.pyplot as plt"
   ]
  },
  {
   "cell_type": "markdown",
   "metadata": {},
   "source": [
    "![](../images/8_data_life_cycle.png)"
   ]
  },
  {
   "cell_type": "markdown",
   "metadata": {},
   "source": [
    "You will use both self-collected (simulations, measurements) and already existing data.\n",
    "To share and to make data available is therefore a key element of scientific practice.\n",
    "Already when processing self-collected data, you should therefore keep in mind to describe them completely with their [metadata](https://en.wikipedia.org/wiki/Metadata).\n",
    "Metadata is data about data, such as the units of the measured quantities, details about factors influencing the data or contact details.\n",
    "Without the metadata, the data itself is not interpretable."
   ]
  },
  {
   "cell_type": "markdown",
   "metadata": {},
   "source": [
    "**Bad example:**\n",
    "\n",
    "      0|    1|    2|    3|    4|    5|    6|    7|    8|    9|\n",
    "    ----------------------------------------------------------\n",
    "    1.2| 2.34|  4.6| 2.31|567.1|45.24| 4.63|1.855|  4.2|  1.5|\n",
    "\n",
    "\n",
    "**Good example:**\n",
    "\n",
    "    Incubator experiment No. 3456\n",
    "    Date: 13.03.2018\n",
    "    Contact: Martin Claus <mclaus@geomar.de>\n",
    "    Bacteria: Escherichia coli\n",
    "    Substrate: Agar plates\n",
    "    Cultivation: 10 days following Aaronson et al. (2017)\n",
    "    \n",
    "    temperature [°C]   |   0|    1|    2|    3|    4|    5|    6|    7|    8|    9|\n",
    "    -----------------------------------------------------------------------------\n",
    "    growth rate [1/day]| 1.2| 2.34|  4.6| 2.31|567.1|45.24| 4.63|1.855|  4.2|  1.5|"
   ]
  },
  {
   "cell_type": "markdown",
   "metadata": {},
   "source": [
    "The data in both example are the same. However, the bad example is not understandable and interpretable for anybody who was not involved in the experiment."
   ]
  },
  {
   "cell_type": "markdown",
   "metadata": {},
   "source": [
    "## Data format\n",
    "\n",
    "The data format declares the way, how data is structured and how it should be interpreted when processed. Generally one can classify as\n",
    "\n",
    "-   Self-describing data formats: the datasets contain both the data and their metadata\n",
    "\n",
    "-   Non-self-describing data formats: the metadata is separated from the actual data\n",
    "\n",
    "Further one can classify by the storage format of the actual data:\n",
    "\n",
    "-   Binary data formats:\n",
    "    Data is saved in binary form as they are represented in the memory. The respective type of the data (e.g. 64 byte float or 8 byte integer) is part of the metadata and needs to be known.\n",
    "    \n",
    "-   Text-based data formates:\n",
    "    The information is encoded as text characters, e.g. using [ASCII](https://en.wikipedia.org/wiki/ASCII) or [UTF-8](https://en.wikipedia.org/wiki/UTF-8).\n",
    "    The encoding and structure of the data is part of the metadata and must be known. \n",
    "    \n",
    "Generally it is advisable to use self-describing data formats, because they can be shared easily and are self-containing.\n",
    "If you use non-self-describing data formats, the metadata that is necessary to correctly interpret the data must be provided separately and may get lost.  \n",
    "\n",
    "In the following we will have a closer look on two very common data formats:\n",
    "\n",
    "-   [CSV](https://en.wikipedia.org/wiki/Comma-separated_values) (Comma-Separated Values): Text based data format for data in tabular form\n",
    "-   [NetCDF](https://www.unidata.ucar.edu/software/netcdf/) (Network Common Data Form): self-descriptive, binary data format for multidimensional arrays"
   ]
  },
  {
   "cell_type": "markdown",
   "metadata": {},
   "source": [
    "## CSV"
   ]
  },
  {
   "cell_type": "markdown",
   "metadata": {},
   "source": [
    "As an example we use the [Hurrel North Atlantic Oscillation Index (station based)](https://climatedataguide.ucar.edu/climate-data/hurrell-north-atlantic-oscillation-nao-index-station-based). The content of this text-file has the following structure: "
   ]
  },
  {
   "cell_type": "code",
   "execution_count": 3,
   "metadata": {
    "tags": [
     "hide_input"
    ]
   },
   "outputs": [
    {
     "name": "stdout",
     "output_type": "stream",
     "text": [
      " Hurrell Station-Based Monthly NAO Index\n",
      "year   Jan   Feb   Mar   Apr   May   Jun   Jul   Aug   Sep   Oct   Nov   Dec\n",
      "1865  -0.6  -1.2   0.2  -0.2  -0.4   0.0   0.5   1.5   1.8  -2.0  -0.9   0.8\n",
      "1866   0.5   0.8  -0.6  -2.3  -2.0   0.9  -0.5  -0.2   2.4  -0.3  -0.5   0.2\n",
      "1867  -3.5   1.1  -4.3   1.8  -4.2   0.1  -2.0   1.9   1.4   2.2  -3.5  -0.1\n",
      "...\n",
      "2015   3.5   2.4   3.1  -0.1   1.9  -0.7  -2.3   1.0  -1.6  -0.6   2.7   0.8\n",
      "2016   0.0   2.4   1.4  -1.7  -0.8  -0.2   0.4   0.2   2.8  -1.2   1.0   0.9\n",
      "2017  -0.4   1.2   1.5  -1.0  -2.4   1.4   1.8   0.3   2.3   0.7  -1.2   0.8\n",
      "2018   2.4   0.9  -1.0   1.2 -999. -999. -999. -999. -999. -999. -999. -999.\n",
      "\n"
     ]
    }
   ],
   "source": [
    "!head -n 5 ../../data/nao_station_monthly.txt\n",
    "!echo ...\n",
    "!tail -n 5 ../../data/nao_station_monthly.txt"
   ]
  },
  {
   "cell_type": "markdown",
   "metadata": {},
   "source": [
    "The structure of the data is the following:\n",
    "\n",
    "-  2 Headlines\n",
    "-  13 columns (year, Jan., Feb., ...)\n",
    "-  missing values are marked by `-999.` \n",
    "\n",
    "To load the data into memory, we can use the function [numpy.genfromtxt](https://numpy.org/doc/stable/user/basics.io.genfromtxt.html). If we do not have any missing values we can alternatively use [numpy.loadtxt](https://docs.scipy.org/doc/numpy/reference/generated/numpy.loadtxt.html#numpy.loadtxt)."
   ]
  },
  {
   "cell_type": "code",
   "execution_count": 18,
   "metadata": {
    "tags": [
     "hide_output"
    ]
   },
   "outputs": [
    {
     "name": "stdout",
     "output_type": "stream",
     "text": [
      "[[1865.0 -0.6 -1.2 ... -2.0 -0.9 0.8]\n",
      " [1866.0 0.5 0.8 ... -0.3 -0.5 0.2]\n",
      " [1867.0 -3.5 1.1 ... 2.2 -3.5 -0.1]\n",
      " ...\n",
      " [2016.0 0.0 2.4 ... -1.2 1.0 0.9]\n",
      " [2017.0 -0.4 1.2 ... 0.7 -1.2 0.8]\n",
      " [2018.0 2.4 0.9 ... -- -- --]]\n"
     ]
    }
   ],
   "source": [
    "data = np.genfromtxt(\n",
    "    '../../data/nao_station_monthly.txt',\n",
    "    skip_header=2,\n",
    "    missing_values='-999.',\n",
    "    usemask=True\n",
    ")\n",
    "print(data)"
   ]
  },
  {
   "cell_type": "markdown",
   "metadata": {},
   "source": [
    "```{tip}\n",
    "The parameter `missing_values` may be given for [all data or for individual columns](https://numpy.org/doc/stable/user/basics.io.genfromtxt.html#missing-values). The values matching the `missing_value` string are by default replaced with the value of the `filling_values` argument. To actually [mask the missing values](https://numpy.org/doc/stable/user/basics.io.genfromtxt.html#usemask), we need to pass `usemask=True`.   \n",
    "```\n",
    "The result of `numpy.genfromtxt` is a 2D numpy array or MaskedArray that contains all the numerical values of the table in the file."
   ]
  },
  {
   "cell_type": "markdown",
   "metadata": {},
   "source": [
    "## NETCDF\n",
    "\n",
    "[NetCDF](https://www.unidata.ucar.edu/software/netcdf/docs/user_guide.html) is a data format for array-based, multidimensional, binary data. It is self-describing.\n",
    "NetCDF is also a collection of libraries and tools to open and work with NetCDF files.\n",
    "NetCDF is the standard data format for data exchange and archiving in many scientific disciplines, such as earth system science, computational fluid dynamics, plasma physics, astrophysics and many more."
   ]
  },
  {
   "cell_type": "markdown",
   "metadata": {},
   "source": [
    "### Structure of a NetCDF data set\n",
    "To display the content or the structure of a NetCDF data set, the command [ncdump](https://www.unidata.ucar.edu/software/netcdf/docs/netcdf_utilities_guide.html#ncdump_guide) can be used in the linux command line."
   ]
  },
  {
   "cell_type": "markdown",
   "metadata": {},
   "source": [
    "````{margin}\n",
    "```{note}\n",
    "The length of the dimension `time` is `UNLIMITED`.\n",
    "This means, that the length of this dimension is variable and can be extended at any time.\n",
    "This is very handy when writing data sets.\n",
    "When reading (in particular large) data sets, this may cause a sever loss of performance.\n",
    "```\n",
    "````"
   ]
  },
  {
   "cell_type": "code",
   "execution_count": 19,
   "metadata": {},
   "outputs": [
    {
     "name": "stdout",
     "output_type": "stream",
     "text": [
      "netcdf CRUTEM.4.6.0.0.anomalies {\n",
      "dimensions:\n",
      "\tlatitude = 36 ;\n",
      "\tlongitude = 72 ;\n",
      "\ttime = UNLIMITED ; // (2029 currently)\n",
      "\tfield_status_string_length = 1 ;\n",
      "variables:\n",
      "\tfloat latitude(latitude) ;\n",
      "\t\tlatitude:standard_name = \"latitude\" ;\n",
      "\t\tlatitude:long_name = \"latitude\" ;\n",
      "\t\tlatitude:point_spacing = \"even\" ;\n",
      "\t\tlatitude:units = \"degrees_north\" ;\n",
      "\t\tlatitude:axis = \"Y\" ;\n",
      "\tfloat longitude(longitude) ;\n",
      "\t\tlongitude:standard_name = \"longitude\" ;\n",
      "\t\tlongitude:long_name = \"longitude\" ;\n",
      "\t\tlongitude:point_spacing = \"even\" ;\n",
      "\t\tlongitude:units = \"degrees_east\" ;\n",
      "\t\tlongitude:axis = \"X\" ;\n",
      "\tfloat time(time) ;\n",
      "\t\ttime:standard_name = \"time\" ;\n",
      "\t\ttime:long_name = \"time\" ;\n",
      "\t\ttime:units = \"days since 1850-1-1 00:00:00\" ;\n",
      "\t\ttime:calendar = \"gregorian\" ;\n",
      "\t\ttime:axis = \"T\" ;\n",
      "\tfloat temperature_anomaly(time, latitude, longitude) ;\n",
      "\t\ttemperature_anomaly:long_name = \"temperature_anomaly\" ;\n",
      "\t\ttemperature_anomaly:units = \"K\" ;\n",
      "\t\ttemperature_anomaly:missing_value = -1.e+30f ;\n",
      "\t\ttemperature_anomaly:_FillValue = -1.e+30f ;\n",
      "\t\ttemperature_anomaly:reference_period = 1961s, 1990s ;\n",
      "\tchar field_status(time, field_status_string_length) ;\n",
      "\t\tfield_status:long_name = \"field_status\" ;\n",
      "\n",
      "// global attributes:\n",
      "\t\t:title = \"CRUTEM4 temperature anomalies\" ;\n",
      "\t\t:institution = \"Climatic Research Unit, University of East Anglia/Met Office Hadley Centre\" ;\n",
      "\t\t:history = \"\" ;\n",
      "\t\t:source = \"\" ;\n",
      "\t\t:comment = \"\" ;\n",
      "\t\t:reference = \"Jones, P. D., D. H. Lister, T. J. Osborn, C. Harpham, M. Salmon, and C. P. Morice (2012), Hemispheric and large-scale land-surface air temperature variations: An extensive revision and an update to 2010, J. Geophys. Res., 117, D05127, doi:10.1029/2011JD017139\" ;\n",
      "\t\t:version = \"CRUTEM.4.6.0.0\" ;\n",
      "\t\t:Conventions = \"CF-1.0\" ;\n",
      "}\n"
     ]
    }
   ],
   "source": [
    "!ncdump -h ../../data/CRUTEM.4.6.0.0.anomalies.nc"
   ]
  },
  {
   "cell_type": "markdown",
   "metadata": {},
   "source": [
    "From this output the general structure of a data set becomes apparent:\n",
    "-   *Dimensions* have a name and a length. To add coordinates to a dimension, variables with the same name may exist.\n",
    "-   *Variables* have\n",
    "    -   a data type (float, char, int)\n",
    "    -   a name\n",
    "    -   a shape, defined by a tuple of dimensions\n",
    "    -   attributes\n",
    "    \n",
    "    The actual data is stored as variables.\n",
    "-   Global attributes\n",
    "\n",
    "All attributes have a name, a data type and a value.\n",
    "```{note}\n",
    "Default names and values of attributes and variables for climate related data sets are defined in the [Climate and Forecast Metadata Conventions (CF conventions)](http://cfconventions.org/).\n",
    "By following the CF conventions, data sets become machine interpretable. For example, a geospatially referenced data set is automatically plotted on a map with coastlines by the software [ncview](http://meteora.ucsd.edu/~pierce/ncview_home_page.html).\n",
    "```\n"
   ]
  },
  {
   "cell_type": "markdown",
   "metadata": {},
   "source": [
    "Now we will open the data set with the [netCDF4](https://unidata.github.io/netcdf4-python/netCDF4/index.html) package, by creating an object of the class [netCDF4.Dataset](https://unidata.github.io/netcdf4-python/netCDF4/index.html#netCDF4.Dataset). We can inspect the structure of the data set by printing the object."
   ]
  },
  {
   "cell_type": "code",
   "execution_count": 21,
   "metadata": {},
   "outputs": [
    {
     "name": "stdout",
     "output_type": "stream",
     "text": [
      "<class 'netCDF4._netCDF4.Dataset'>\n",
      "root group (NETCDF3_CLASSIC data model, file format NETCDF3):\n",
      "    title: CRUTEM4 temperature anomalies\n",
      "    institution: Climatic Research Unit, University of East Anglia/Met Office Hadley Centre\n",
      "    history: \n",
      "    source: \n",
      "    comment: \n",
      "    reference: Jones, P. D., D. H. Lister, T. J. Osborn, C. Harpham, M. Salmon, and C. P. Morice (2012), Hemispheric and large-scale land-surface air temperature variations: An extensive revision and an update to 2010, J. Geophys. Res., 117, D05127, doi:10.1029/2011JD017139\n",
      "    version: CRUTEM.4.6.0.0\n",
      "    Conventions: CF-1.0\n",
      "    dimensions(sizes): latitude(36), longitude(72), time(2029), field_status_string_length(1)\n",
      "    variables(dimensions): float32 latitude(latitude), float32 longitude(longitude), float32 time(time), float32 temperature_anomaly(time,latitude,longitude), |S1 field_status(time,field_status_string_length)\n",
      "    groups: \n"
     ]
    }
   ],
   "source": [
    "ds = nc.Dataset('../../data/CRUTEM.4.6.0.0.anomalies.nc')\n",
    "print(ds)"
   ]
  },
  {
   "cell_type": "markdown",
   "metadata": {},
   "source": [
    "All the data and metadata of the data set are available as an attribute of the data set object. The most important attributes are `dimensions` and `variables`.\n",
    "The `dimensions` attribute is a dictionary mapping the dimension names on objects of the class [Dimension](https://unidata.github.io/netcdf4-python/netCDF4/index.html#netCDF4.Dimension). These objects can be used to access all relevant metadata and data related to the dimensions of the data set."
   ]
  },
  {
   "cell_type": "code",
   "execution_count": 29,
   "metadata": {},
   "outputs": [
    {
     "name": "stdout",
     "output_type": "stream",
     "text": [
      "time\n",
      "2029\n",
      "True\n"
     ]
    }
   ],
   "source": [
    "print(ds.dimensions[\"time\"].name)\n",
    "print(ds.dimensions[\"time\"].size)\n",
    "print(ds.dimensions[\"time\"].isunlimited())"
   ]
  },
  {
   "cell_type": "markdown",
   "metadata": {},
   "source": [
    "The variables attribute is a dictionary mapping the variable names on objects of the class [Variable](https://unidata.github.io/netcdf4-python/netCDF4/index.html#netCDF4.Variable).\n",
    "These are used to read or write data and to access the attributes of a variable."
   ]
  },
  {
   "cell_type": "code",
   "execution_count": 32,
   "metadata": {},
   "outputs": [
    {
     "name": "stdout",
     "output_type": "stream",
     "text": [
      "float32\n",
      "temperature_anomaly\n",
      "('time', 'latitude', 'longitude')\n",
      "temperature_anomaly\n",
      "K\n",
      "-1e+30\n"
     ]
    }
   ],
   "source": [
    "print(ds.variables['temperature_anomaly'].dtype)\n",
    "print(ds.variables['temperature_anomaly'].name)\n",
    "print(ds.variables['temperature_anomaly'].dimensions)\n",
    "print(ds.variables['temperature_anomaly'].long_name)\n",
    "print(ds.variables['temperature_anomaly'].units)\n",
    "print(ds.variables['temperature_anomaly'].missing_value)"
   ]
  },
  {
   "cell_type": "markdown",
   "metadata": {},
   "source": [
    "The global attributes are available as attributes of the data set object, e.g."
   ]
  },
  {
   "cell_type": "code",
   "execution_count": 33,
   "metadata": {},
   "outputs": [
    {
     "name": "stdout",
     "output_type": "stream",
     "text": [
      "Jones, P. D., D. H. Lister, T. J. Osborn, C. Harpham, M. Salmon, and C. P. Morice (2012), Hemispheric and large-scale land-surface air temperature variations: An extensive revision and an update to 2010, J. Geophys. Res., 117, D05127, doi:10.1029/2011JD017139\n"
     ]
    }
   ],
   "source": [
    "print(ds.reference)"
   ]
  },
  {
   "cell_type": "markdown",
   "metadata": {},
   "source": [
    "### Reading data\n",
    "\n",
    "To read data from a variable into the memory, we simply have to index or slice the variable object. To access the last time step of the variable `temperature_anomaly` we have to do the following\n",
    "````{margin}\n",
    "```{note}\n",
    "The order of the dimensions of the variable is identical to the order of the corresponding indices when accessing the variables' data.\n",
    "```\n",
    "````"
   ]
  },
  {
   "cell_type": "code",
   "execution_count": 35,
   "metadata": {},
   "outputs": [
    {
     "name": "stdout",
     "output_type": "stream",
     "text": [
      "[[-- -- -- ... -- -- --]\n",
      " [-- -- -- ... -- -- --]\n",
      " [-- -- -- ... -0.800000011920929 -- --]\n",
      " ...\n",
      " [-- -- -- ... -- -- --]\n",
      " [-- -- -- ... -- -- --]\n",
      " [-- -- -- ... -- -- --]]\n"
     ]
    },
    {
     "data": {
      "image/png": "[encoded data removed]",
      "text/plain": [
       "<Figure size 432x288 with 1 Axes>"
      ]
     },
     "metadata": {
      "needs_background": "light"
     },
     "output_type": "display_data"
    }
   ],
   "source": [
    "t_anom = ds.variables[\"temperature_anomaly\"][-1, :, :]\n",
    "\n",
    "plt.pcolormesh(\n",
    "    ds.variables['longitude'][:],\n",
    "    ds.variables['latitude'][:],\n",
    "    t_anom\n",
    ");\n",
    "print(t_anom)"
   ]
  },
  {
   "cell_type": "markdown",
   "metadata": {},
   "source": [
    "We can see that missing values are masked automatically. Sometimes the data in the binary format is scaled and has an offset to increase the precision of the numerical representation. These transformations are also applied automatically when reading the data into memory."
   ]
  },
  {
   "cell_type": "markdown",
   "metadata": {},
   "source": [
    "### Writing of NetCDF data sets\n",
    "\n",
    "NetCDF Data sets are easily read but writing them is a little bit more cumbersome.\n",
    "The following steps are necessary to create a complete NetCDF data set:\n",
    "\n",
    "1.   Create a data set object and set the global attributes:\n",
    "\n",
    "     ```python\n",
    "     ds = nc.Dataset('test.nc', mode='w')\n",
    "     ds.contact = 'Martin Claus <mclaus@geomar.de>'\n",
    "     ds.description = 'Zonally averaged surface temperature from NCEP Reanalysis'\n",
    "     ds.data_source = 'https://www.esrl.noaa.gov/psd/data/gridded/data.ncep.reanalysis.html'\n",
    "     ds.creation_date = '16-06-2019'\n",
    "     ```\n",
    "     ```{warning}\n",
    "     If the mode parameter of `nc.Dataset` is set to `w` a new file is created. An existing file with the same name will be deleted.\n",
    "     Other modes are `a`, `r+` and `r`. See the [documentation](https://unidata.github.io/netcdf4-python/netCDF4/index.html#netCDF4.Dataset.__init__)\n",
    "     ```\n",
    "\n",
    "2.   Create the dimensions:\n",
    "\n",
    "     ```python\n",
    "     ds.createDimension('latitude', 20)\n",
    "     ds.createDimension('time', None)   # unlimited dimension\n",
    "     ```\n",
    "\n",
    "3.   Create the variables:\n",
    "\n",
    "     ````{margin}\n",
    "     ```{note}\n",
    "     The `'f8'` specifies the datatype. See more options in the [documentation](https://unidata.github.io/netcdf4-python/netCDF4/index.html#netCDF4.Dataset.createVariable).\n",
    "     ```\n",
    "     ````\n",
    "     ```python\n",
    "     lon = ds.createVariable('latitude', 'f8', dimensions=('latitude',))\n",
    "     time = ds.createVariable('time', 'f8', dimensions=('time',))\n",
    "     t = ds.createVariable('temperature', 'f8', dimensions=('time', 'longitude')\n",
    "     ```\n",
    "\n",
    "4.   Write variable data and set their attributes\n",
    "\n",
    "     ```python\n",
    "     lon[:] = np.linspace(-80., 80., 20.)\n",
    "     lon.units = \"degrees_north\"\n",
    "     lon.long_name = \"Latitude\"\n",
    "\n",
    "     time.units = 'days since 2012-01-01 00:00'\n",
    "     time.calendar = 'gregorian'\n",
    "     time.long_name = 'Time'\n",
    "\n",
    "     t.units = 'degC'\n",
    "     t.long_name = 'zonally averaged temperature'\n",
    "\n",
    "     # write timestamp and data\n",
    "     time[0] = 0.\n",
    "     t[0, :] = ...\n",
    "     ```\n",
    "\n",
    "5.   Close the data set\n",
    "\n",
    "     Only now the data will be written to disk.\n",
    "\n",
    "     ```python\n",
    "     ds.close()\n",
    "     ```"
   ]
  },
  {
   "cell_type": "markdown",
   "metadata": {},
   "source": [
    "## Other formats\n",
    "Here is an incomplete list of links to libraries used to deal with other commonly used data formats. \n",
    "\n",
    "Format   |     Library\n",
    "---------|---------------\n",
    "JSON     |   [json](https://docs.python.org/3/library/json.html)\n",
    "XML      |   [xml.etree.ElementTree](https://docs.python.org/3/library/xml.etree.elementtree.html)\n",
    "Excel sheets      |   Transform to csv or [pandas](https://pandas.pydata.org/)\n",
    "matlab `.mat` files      |   [scipy.io.loadmat](https://docs.scipy.org/doc/scipy/reference/generated/scipy.io.loadmat.html#scipy.io.loadmat)\n",
    "shape files      |   [pyshp](https://pypi.org/project/pyshp/)"
   ]
  }
 ],
 "metadata": {
  "kernelspec": {
   "display_name": "Python [conda env:pherwiss_programming]",
   "language": "python",
   "name": "conda-env-pherwiss_programming-py"
  },
  "language_info": {
   "codemirror_mode": {
    "name": "ipython",
    "version": 3
   },
   "file_extension": ".py",
   "mimetype": "text/x-python",
   "name": "python",
   "nbconvert_exporter": "python",
   "pygments_lexer": "ipython3",
   "version": "3.8.2"
  }
 },
 "nbformat": 4,
 "nbformat_minor": 4
}
