{
 "cells": [
  {
   "cell_type": "markdown",
   "metadata": {},
   "source": [
    "# Object-oriented Programming\n",
    "Object-oriented programming (OOP) is a programming paradigm, which allows to structure a program such that data and behavior are combined in objects.\n",
    "\n",
    "An example: an object could represent a person. This person has characteristics (data) like name, age or address. Possible behavior could be running, speaking or walking.\n",
    "\n",
    "We already used the object `Turtle`. It has characteristics like position and angle and behavior like turning to the left or right and move forward. With `Turtle` we already have seen, that behavior of an object can change its state, that is its data. Additionally objects can also interact with other objects.\n",
    "\n",
    "So far we have focused on procedural programming. There tasks are collected as procedures, i.e. functions, and data is organized as data structures (lists, tuple, etc.). For OOP, the object is the main element of the programming structure and a reasonable transcription of tasks in objects and their interactions is the essential component of the programming performance.\n",
    "\n",
    "With Python one can, depending on the task, use procedural programming, object-oriented programming or a mixture of both. Hence, it is a multi-paradigm programming language."
   ]
  },
  {
   "cell_type": "markdown",
   "metadata": {},
   "source": [
    "## Classes\n",
    "\n",
    "Lets concentrate on the data first. Every object is an *instance* of a *class*. Classes serve to define new data structures from already existing ones (e.g. primitive data types, containers, other classes). They define the structure of an object, so to say a class is the blueprint of an object.\n",
    "\n",
    "The simplest class does not contain any structure. It is defined as follows:"
   ]
  },
  {
   "cell_type": "code",
   "execution_count": 1,
   "metadata": {},
   "outputs": [],
   "source": [
    "class Dog():\n",
    "    \"\"\"A simple class.\"\"\"\n",
    "    pass"
   ]
  },
  {
   "cell_type": "markdown",
   "metadata": {},
   "source": [
    "`pass` is an instruction that does not do anything. However it is needed, since Python requires an indented code block following the *class signature*. Classes also have a `docstring`!\n",
    "\n",
    "As a convention, class names are the only names in Python, which are written capitalized. For more complex names, the [CamelCase notation](https://en.wikipedia.org/wiki/Camel_case) is used."
   ]
  },
  {
   "cell_type": "markdown",
   "metadata": {},
   "source": [
    "## Instances\n",
    "\n",
    "If classes are blueprints, instances represent the products, which are build from them.\n",
    "\n",
    "```{margin}\n",
    "To create an instance from a class, you have to put two round brackets after the name of the class, like when calling a function.\n",
    "```"
   ]
  },
  {
   "cell_type": "code",
   "execution_count": 3,
   "metadata": {
    "tags": [
     "hide_output"
    ]
   },
   "outputs": [
    {
     "name": "stdout",
     "output_type": "stream",
     "text": [
      "False\n"
     ]
    }
   ],
   "source": [
    "class Dog():\n",
    "    \"\"\"A simple dog class.\"\"\"\n",
    "    pass\n",
    "\n",
    "jim = Dog()\n",
    "george = Dog()\n",
    "\n",
    "print(jim is george)"
   ]
  },
  {
   "cell_type": "markdown",
   "metadata": {},
   "source": [
    "Every instance of a class has the same structure, but the actual values of its properties can differ. With the instantiation, when an object is created, there will be enough memory reserved to save all the data for every object. Objects are `mutable`, so a allocation creates a reference and not a copy."
   ]
  },
  {
   "cell_type": "code",
   "execution_count": 4,
   "metadata": {
    "tags": [
     "hide_output"
    ]
   },
   "outputs": [
    {
     "name": "stdout",
     "output_type": "stream",
     "text": [
      "True\n"
     ]
    }
   ],
   "source": [
    "jim2 = jim\n",
    "print(jim2 is jim)"
   ]
  },
  {
   "cell_type": "markdown",
   "metadata": {},
   "source": [
    "If one wants to check, if a an object is created from a certain class, the function `isinstance(obj, class)` can be used."
   ]
  },
  {
   "cell_type": "code",
   "execution_count": 6,
   "metadata": {
    "tags": [
     "hide_output"
    ]
   },
   "outputs": [
    {
     "name": "stdout",
     "output_type": "stream",
     "text": [
      "True\n",
      "True\n",
      "True\n"
     ]
    }
   ],
   "source": [
    "print(isinstance(jim, Dog))\n",
    "print(isinstance(george, Dog))\n",
    "print(isinstance(jim, type(george)))"
   ]
  },
  {
   "cell_type": "markdown",
   "metadata": {},
   "source": [
    "## Attributes of instances\n",
    "\n",
    "Every class creates objects and every object can obtain properties, which are called attributes. To initialize attributes (to define its value at the creation of the object) the `__init__` method is used. All methods have at least one argument in their signature: the object itself, usually called `self`. Conventionally, it is omitted when calling the method and it references the instance automatically.\n",
    "\n",
    "```{margin}\n",
    "Note that the arguments passed to the class on creation of an instance are forwarded to the `__init__` method. Since `__init__` is a method, its first argument is the newly created instance.\n",
    "```"
   ]
  },
  {
   "cell_type": "code",
   "execution_count": 8,
   "metadata": {},
   "outputs": [
    {
     "name": "stdout",
     "output_type": "stream",
     "text": [
      "__init__ for Jimbo called\n",
      "This is Jimbo, 4 years old. He is living in \n",
      "This is Jimbo, 4 years old. He is living in Düsternbrooker Weg 20\n"
     ]
    }
   ],
   "source": [
    "class Dog():\n",
    "    \"\"\"Simple Dog with attributes.\"\"\"\n",
    "    \n",
    "    def __init__(self, name, age, address=''):\n",
    "        \"\"\"Set name, age and probably the address of the Dog.\"\"\"\n",
    "        print(\"__init__ for {} called\".format(name))\n",
    "        self.name = name\n",
    "        self.age = age\n",
    "        self.address = address\n",
    "\n",
    "jimbo = Dog('Jimbo', 4)\n",
    "print(\n",
    "    'This is {}, {} years old. He is living in {}'\n",
    "    .format(jimbo.name, jimbo.age, jimbo.address)\n",
    ")\n",
    "\n",
    "jimbo.address = 'Düsternbrooker Weg 20'\n",
    "print('This is {a.name}, {a.age} years old. He is living in {a.address}'.format(a=jimbo))"
   ]
  },
  {
   "cell_type": "markdown",
   "metadata": {},
   "source": [
    "As one can see, while creating the object `jimbo`, the method `__init__` is called. The attributes of an object can be accessed by using the `.` notation."
   ]
  },
  {
   "cell_type": "markdown",
   "metadata": {},
   "source": [
    "## Class attributes\n",
    "\n",
    "Instance attributes are different for every object of the class. There is also the possibility to define attributes for a whole class, which is then the same for all instances."
   ]
  },
  {
   "cell_type": "code",
   "execution_count": 11,
   "metadata": {},
   "outputs": [
    {
     "name": "stdout",
     "output_type": "stream",
     "text": [
      "Mammal Mammal\n"
     ]
    }
   ],
   "source": [
    "class Dog():\n",
    "    \"\"\"Person with class attribute.\"\"\"\n",
    "    \n",
    "    # class attribute\n",
    "    species = \"Mammal\"\n",
    "    \n",
    "    def __init__(self, name, age, address=''):\n",
    "        self.name = name\n",
    "        self.age = age\n",
    "        self.address = address\n",
    "        \n",
    "jimbo = Dog('Jimbo', 15)\n",
    "george = Dog('George', 2)\n",
    "\n",
    "print(jimbo.species, george.species)"
   ]
  },
  {
   "cell_type": "markdown",
   "metadata": {},
   "source": [
    "To change a class attribute, the new value can be assigned on the class level. Is the value assigned on instance level, a new instance attribute with the same name is created, which then supersedes the class attribute."
   ]
  },
  {
   "cell_type": "code",
   "execution_count": 14,
   "metadata": {},
   "outputs": [
    {
     "name": "stdout",
     "output_type": "stream",
     "text": [
      "Fish Fish Fish\n",
      "Fish Fish Amphibian Fish\n"
     ]
    }
   ],
   "source": [
    "Dog.species = 'Fish'\n",
    "judy = Dog('Judy', 30)\n",
    "print(judy.species, jimbo.species, george.species)\n",
    "\n",
    "george.species = 'Amphibian'\n",
    "print(judy.species, jimbo.species, george.species, george.__class__.species)"
   ]
  },
  {
   "cell_type": "markdown",
   "metadata": {},
   "source": [
    "## Instance methods\n",
    "\n",
    "Instance methods are defined within the class and represent possible behavior of an object. We have already seen an example of a method, the `__init__` method which is always called when an instance is created.\n",
    "\n",
    "Method signatures are very much like a function signatures. However, it always contains a reference to the instance as the first argument, usually called `self`. When calling the method, this argument is omitted and is passed by Python automatically. Apart from that, the same rules hold for method signatures as for function signatures.\n",
    "\n",
    "Via the reference `self` to the instance, it is possible to access all instance attributes, class attributes or methods within the method body."
   ]
  },
  {
   "cell_type": "code",
   "execution_count": 18,
   "metadata": {},
   "outputs": [
    {
     "name": "stdout",
     "output_type": "stream",
     "text": [
      "Jimbo is barking\n",
      "16\n"
     ]
    }
   ],
   "source": [
    "class Dog():\n",
    "    \"\"\"Simple Dog class with Method.\"\"\"\n",
    "    \n",
    "    species = \"Mammal\"\n",
    "    \n",
    "    def __init__(self, name, age):\n",
    "        self.name = name\n",
    "        self.age = age\n",
    "    \n",
    "    # Instanzmethode\n",
    "    def bark(self):\n",
    "        print('{} is barking'.format(self.name))\n",
    "    \n",
    "    def get_older(self):\n",
    "        self.age += 1\n",
    "        \n",
    "jimbo = Dog('Jimbo', 15)\n",
    "jimbo.bark()\n",
    "\n",
    "jimbo.get_older()\n",
    "print(jimbo.age)"
   ]
  },
  {
   "cell_type": "markdown",
   "metadata": {},
   "source": [
    "## Inheritance\n",
    "\n",
    "Inheritance is the process where a class takes attributes and behavior from another class. The new class is called *subclass* and the original class is called *parent class*.\n",
    "\n",
    "The intention behind this is that the subclass overwrites or extends parts of the parent class. That way, a new class can be created which mostly keeps the functionality of the parent class but differs in certain parts or offers new functionalities. E.g. we can differentiate dogs into breeds by introducing a new class attribute `breed`."
   ]
  },
  {
   "cell_type": "code",
   "execution_count": 19,
   "metadata": {},
   "outputs": [
    {
     "name": "stdout",
     "output_type": "stream",
     "text": [
      "Judy the Labrador is barking.\n",
      "Jim the Dobermann is barking.\n"
     ]
    }
   ],
   "source": [
    "class Dog():\n",
    "    \"\"\"Simple Dog class with Method.\"\"\"\n",
    "\n",
    "    species = \"Mammal\"\n",
    "    \n",
    "    def __init__(self, name, age):\n",
    "        self.name = name\n",
    "        self.age = age\n",
    "\n",
    "    # Instanzmethode\n",
    "    def bark(self):\n",
    "        print('{} is barking.'.format(self.name))\n",
    "\n",
    "        \n",
    "class Labrador(Dog):\n",
    "    \"\"\"Simple class for Labrador.\"\"\"\n",
    "    breed = \"Labrador\"\n",
    "    \n",
    "    def bark(self):\n",
    "        print('{} the {} is barking.'.format(self.name, self.breed))\n",
    "        \n",
    "class Dobermann(Dog):\n",
    "    \"\"\"Simple class for Dobermann.\"\"\"\n",
    "    breed = \"Dobermann\"\n",
    "    \n",
    "    def bark(self):\n",
    "        print('{} the {} is barking.'.format(self.name, self.breed))\n",
    "\n",
    "        \n",
    "judy = Labrador('Judy', 4)\n",
    "jim = Dobermann('Jim', 3)\n",
    "\n",
    "judy.bark()\n",
    "jim.bark()"
   ]
  },
  {
   "cell_type": "markdown",
   "metadata": {},
   "source": [
    "Here the method `bark` is overwritten for both subclasses `Labrador` and `Dobermann` identically. This should be improved:"
   ]
  },
  {
   "cell_type": "code",
   "execution_count": 21,
   "metadata": {},
   "outputs": [
    {
     "name": "stdout",
     "output_type": "stream",
     "text": [
      "Judy the Labrador is barking.\n",
      "Jim the Dobermann is barking.\n"
     ]
    }
   ],
   "source": [
    "class DogWithBreed(Dog):\n",
    "    def bark(self):\n",
    "        print('{} the {} is barking.'.format(self.name, self.breed))\n",
    "\n",
    "class Labrador(DogWithBreed):\n",
    "    \"\"\"Simple class for Labrador.\"\"\"\n",
    "    breed = \"Labrador\"\n",
    "        \n",
    "class Dobermann(DogWithBreed):\n",
    "    \"\"\"Simple class for Dobermann.\"\"\"\n",
    "    breed = \"Dobermann\"\n",
    "\n",
    "judy = Labrador('Judy', 24)\n",
    "jim = Dobermann('Jim', 23)\n",
    "\n",
    "judy.bark()\n",
    "jim.bark()"
   ]
  },
  {
   "cell_type": "markdown",
   "metadata": {},
   "source": [
    "Inheritance serves to specialize classes and to extend their behavior. This prevents repetition of code and creates flexible programming structures. Sometimes one needs use functionality of the parent class when extending the subclasses. In particular if the `__init__` method shall be overwritten. Then the function [`super`](https://docs.python.org/3/library/functions.html#super) is used."
   ]
  },
  {
   "cell_type": "code",
   "execution_count": 24,
   "metadata": {},
   "outputs": [
    {
     "name": "stdout",
     "output_type": "stream",
     "text": [
      "Judy the Labrador mix is barking.\n",
      "Jim the Dobermann is barking.\n"
     ]
    }
   ],
   "source": [
    "class DogWithBreed(Dog):\n",
    "    \n",
    "    def __init__(self, name, age, special_breed=''):\n",
    "        # call __init__ from parent class but bound\n",
    "        # to this instance\n",
    "        super().__init__(name, age)\n",
    "        if special_breed:\n",
    "            self.breed = special_breed\n",
    "        \n",
    "    def bark(self):\n",
    "        print(\n",
    "            '{} the {} is barking.'.format(\n",
    "                self.name, self.breed\n",
    "            )\n",
    "        )\n",
    "\n",
    "class Labrador(DogWithBreed):\n",
    "    \"\"\"Simple class for Labrador.\"\"\"\n",
    "    breed = \"Labrador\"\n",
    "        \n",
    "class Dobermann(DogWithBreed):\n",
    "    \"\"\"Simple class for Dobermann.\"\"\"\n",
    "    breed = \"Dobermann\"\n",
    "\n",
    "judy = Labrador('Judy', 24, special_breed='Labrador mix')\n",
    "jim = Dobermann('Jim', 23)\n",
    "\n",
    "judy.bark()\n",
    "jim.bark()"
   ]
  }
 ],
 "metadata": {
  "kernelspec": {
   "display_name": "Python 3",
   "language": "python",
   "name": "python3"
  },
  "language_info": {
   "codemirror_mode": {
    "name": "ipython",
    "version": 3
   },
   "file_extension": ".py",
   "mimetype": "text/x-python",
   "name": "python",
   "nbconvert_exporter": "python",
   "pygments_lexer": "ipython3",
   "version": "3.8.2"
  }
 },
 "nbformat": 4,
 "nbformat_minor": 4
}
