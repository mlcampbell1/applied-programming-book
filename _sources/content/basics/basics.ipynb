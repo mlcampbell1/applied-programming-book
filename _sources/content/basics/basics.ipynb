{
 "cells": [
  {
   "cell_type": "markdown",
   "metadata": {},
   "source": [
    "# Basics\n",
    "\n",
    "This chapter introduces the basic and most common elements of a structured programming language. The structure of the chapter is\n",
    "\n",
    "* [Data Types](/content/basics/primitive_data_types) introduces the basics data types common to most programming languages and a few types that are special to python\n",
    "* [Program Flow](/content/basics/program_flow_and_structure) introduces constructs typical for structured programming languages such as branching and loops\n",
    "* [Functions](/content/basics/functions) introduces the concept of functions for code re-usability and how in Python functions are defined\n"
   ]
  },
  {
   "cell_type": "markdown",
   "metadata": {},
   "source": [
    "Although we are using Python as an example language throughout this book, the general ideas are not specific or limited to Python. \n",
    "\n",
    "But before we dive in, let's start with some fundamentals"
   ]
  },
  {
   "cell_type": "markdown",
   "metadata": {},
   "source": [
    "## Comments\n",
    "Comments are lines in the source code that are not interpreted by the Python interpreter.\n",
    "Their purpose is solely to make the source code more readable and understandable for other programmer, but also for yourself.\n",
    "Typically, after a week or two, a programmer is not able to remember the details of an implementation he has coded himself.\n",
    "So comments help you to remember why you have chosen a particular solution to a problem.\n",
    "However, to many comments make the code less readable.\n",
    "So a good balance is needed.\n",
    "A general rule is to add comments where you made a non-trivial decision on a particular choice of implementation.\n",
    "\n",
    "In Python a comment starts with `#`: "
   ]
  },
  {
   "cell_type": "code",
   "execution_count": 52,
   "metadata": {},
   "outputs": [],
   "source": [
    "# This is a comment\n",
    "spam = 1  # second comment...\n",
    "          # ... and the third!\n",
    "text = \"# this is NOT a comment!\""
   ]
  },
  {
   "cell_type": "markdown",
   "metadata": {},
   "source": [
    "Note that the last line does not contain a comment.\n",
    "Double or single quotes (`\"`, `'`) enclose a text sequence, typically called `string`, which we will learn more about in the next section."
   ]
  },
  {
   "cell_type": "markdown",
   "metadata": {},
   "source": [
    "## Expressions\n",
    "Expressions are instructions that take input data, do some operation on it and possibly return some output data.\n",
    "Arithmetic expressions are an example of an expression.\n",
    "But also comparisons or the call to some function are expressions.\n",
    "\n",
    "In Python, expressions can be grouped using brackets and arithmetic expressions follow the same rules as one would expect such as the associative law and commutative law.\n",
    "\n",
    "Here are some examples:"
   ]
  },
  {
   "cell_type": "code",
   "execution_count": 54,
   "metadata": {
    "tags": [
     "remove_output"
    ]
   },
   "outputs": [
    {
     "data": {
      "text/plain": [
       "True"
      ]
     },
     "execution_count": 54,
     "metadata": {},
     "output_type": "execute_result"
    }
   ],
   "source": [
    "(50 - 5 * 6) / 7\n",
    "17 // 3\n",
    "17 % 3.0\n",
    "16. ** 0.5\n",
    "(5+1j) * 1j\n",
    "5. == 5\n",
    "(5 > 3) and (8 < 10)"
   ]
  },
  {
   "cell_type": "markdown",
   "metadata": {},
   "source": [
    "Logical expression, that are expression which are either `True` or `False`, can be combined using logical operators such as `and` or `or`."
   ]
  },
  {
   "cell_type": "markdown",
   "metadata": {},
   "source": [
    "## Operators\n",
    "\n",
    "Here is a list of common operators available on numeric data, for a complete list of operator symbols have a look at the [Python documentation](https://docs.python.org/3/library/operator.html#mapping-operators-to-functions).\n",
    "\n",
    "Operator|Description\n",
    "--------|-------------\n",
    "\\+      | Summation\n",
    "\\-      | Subtraction\n",
    "\\*      | Multiplication\n",
    "/       | Division\n",
    "//      | Explicit floor division\n",
    "\\%      | Modulo for division of integer operands\n",
    "\\*\\*    | Exponentiation\n",
    "==      | Equal\n",
    "!=      | Unequal\n",
    "+=, -=, *=, /=, //=, ... | Summation, subtraction etc. with simultaneous assignment\n",
    "\n",
    "Some of the operators such as `+` and `*` are also available for sequence data, but we will cover this later.\n",
    "As we will see in the section [object-oriented programming](/content/basics/oop), it is also possible to define a custom meaning of an operator symbol when defining your own data types by implementing special methods."
   ]
  },
  {
   "cell_type": "markdown",
   "metadata": {},
   "source": [
    "## Assigning variables\n",
    "\n",
    "Variables are symbols, which represent data in the memory. Data can be assigned to symbols with the assignment operator `=`."
   ]
  },
  {
   "cell_type": "code",
   "execution_count": 63,
   "metadata": {
    "tags": [
     "hide_output"
    ]
   },
   "outputs": [],
   "source": [
    "width = 20\n",
    "height = 5 * 9\n",
    "n = 4."
   ]
  },
  {
   "cell_type": "markdown",
   "metadata": {},
   "source": [
    "Assignments can be used straightforward for further calculations. The names, or symbols, defined in the assignment statements above, are used as placeholders for the data they are assigned to."
   ]
  },
  {
   "cell_type": "code",
   "execution_count": 64,
   "metadata": {
    "tags": [
     "remove_output"
    ]
   },
   "outputs": [
    {
     "data": {
      "text/plain": [
       "80.0"
      ]
     },
     "execution_count": 64,
     "metadata": {},
     "output_type": "execute_result"
    }
   ],
   "source": [
    "width * height\n",
    "width * n"
   ]
  },
  {
   "cell_type": "markdown",
   "metadata": {},
   "source": [
    "Variables can also be assigned expressions that may contain variables too."
   ]
  },
  {
   "cell_type": "code",
   "execution_count": 65,
   "metadata": {
    "tags": [
     "hide_output"
    ]
   },
   "outputs": [],
   "source": [
    "area = width * height"
   ]
  },
  {
   "cell_type": "markdown",
   "metadata": {},
   "source": [
    "Multiple assignments in one line are also possible"
   ]
  },
  {
   "cell_type": "code",
   "execution_count": 66,
   "metadata": {
    "tags": [
     "hide_output"
    ]
   },
   "outputs": [],
   "source": [
    "a = b = 3.\n",
    "a, b, c = 1, 2, 3"
   ]
  },
  {
   "cell_type": "markdown",
   "metadata": {},
   "source": [
    "To inspect the content of an assigned variable, we can use the [`print()`](https://docs.python.org/3/library/functions.html#print) function, to output the content of the variable."
   ]
  },
  {
   "cell_type": "code",
   "execution_count": 61,
   "metadata": {},
   "outputs": [
    {
     "name": "stdout",
     "output_type": "stream",
     "text": [
      "900\n",
      "1 2\n",
      "Are the width and height equal? False "
     ]
    }
   ],
   "source": [
    "print(area)\n",
    "print(a, b)\n",
    "print("Are the width and height equal?", width==height)"
   ]
  },
  {
   "cell_type": "markdown",
   "metadata": {},
   "source": [
    "In an interactive session, such as Jupyter Lab, simply putting the variable name on the last line will also output the content of the variable"
   ]
  },
  {
   "cell_type": "code",
   "execution_count": 62,
   "metadata": {},
   "outputs": [
    {
     "data": {
      "text/plain": [
       "3"
      ]
     },
     "execution_count": 62,
     "metadata": {},
     "output_type": "execute_result"
    }
   ],
   "source": [
    "c"
   ]
  },
  {
   "cell_type": "markdown",
   "metadata": {},
   "source": [
    "## Getting Help\n",
    "\n",
    "Reading the documentation of the programming language and software packages frequent task of a programmer.\n",
    "Nobody is expected to memorize all the details on how some function is exactly invoked and the names of all of its arguments.\n",
    "Therefore, it is important to quickly find the information you need to continue to be productive.\n",
    "The [IPython](https://ipython.org/) interpreter that is running under the hood of Python Jupyter kernels offers a very convenient way of accessing documentation to functions, modules, packages or simply assigned variables.\n",
    "Put a question mark `?` right after the name you want to know something about.\n",
    "To learn something about the `print` function, use"
   ]
  },
  {
   "cell_type": "code",
   "execution_count": 47,
   "metadata": {
    "tags": [
     "hide_output"
    ]
   },
   "outputs": [
    {
     "data": {
      "text/plain": [
       "\u001b[0;31mDocstring:\u001b[0m\n",
       "print(value, ..., sep=' ', end='\\n', file=sys.stdout, flush=False)\n",
       "\n",
       "Prints the values to a stream, or to sys.stdout by default.\n",
       "Optional keyword arguments:\n",
       "file:  a file-like object (stream); defaults to the current sys.stdout.\n",
       "sep:   string inserted between values, default a space.\n",
       "end:   string appended after the last value, default a newline.\n",
       "flush: whether to forcibly flush the stream.\n",
       "\u001b[0;31mType:\u001b[0m      builtin_function_or_method\n"
      ]
     },
     "metadata": {},
     "output_type": "display_data"
    }
   ],
   "source": [
    "print?"
   ]
  },
  {
   "cell_type": "markdown",
   "metadata": {},
   "source": [
    "or "
   ]
  },
  {
   "cell_type": "code",
   "execution_count": 48,
   "metadata": {
    "tags": [
     "hide_output"
    ]
   },
   "outputs": [
    {
     "name": "stdout",
     "output_type": "stream",
     "text": [
      "Help on built-in function print in module builtins:\n",
      "\n",
      "print(...)\n",
      "    print(value, ..., sep=' ', end='\\n', file=sys.stdout, flush=False)\n",
      "    \n",
      "    Prints the values to a stream, or to sys.stdout by default.\n",
      "    Optional keyword arguments:\n",
      "    file:  a file-like object (stream); defaults to the current sys.stdout.\n",
      "    sep:   string inserted between values, default a space.\n",
      "    end:   string appended after the last value, default a newline.\n",
      "    flush: whether to forcibly flush the stream.\n",
      "\n"
     ]
    }
   ],
   "source": [
    "help(print)"
   ]
  },
  {
   "cell_type": "markdown",
   "metadata": {},
   "source": [
    "To get some information about the variable `area`, do"
   ]
  },
  {
   "cell_type": "code",
   "execution_count": 67,
   "metadata": {
    "tags": [
     "hide_output"
    ]
   },
   "outputs": [
    {
     "data": {
      "text/plain": [
       "\u001b[0;31mType:\u001b[0m        int\n",
       "\u001b[0;31mString form:\u001b[0m 900\n",
       "\u001b[0;31mDocstring:\u001b[0m  \n",
       "int([x]) -> integer\n",
       "int(x, base=10) -> integer\n",
       "\n",
       "Convert a number or string to an integer, or return 0 if no arguments\n",
       "are given.  If x is a number, return x.__int__().  For floating point\n",
       "numbers, this truncates towards zero.\n",
       "\n",
       "If x is not a number or if base is given, then x must be a string,\n",
       "bytes, or bytearray instance representing an integer literal in the\n",
       "given base.  The literal can be preceded by '+' or '-' and be surrounded\n",
       "by whitespace.  The base defaults to 10.  Valid bases are 0 and 2-36.\n",
       "Base 0 means to interpret the base from the string as an integer literal.\n",
       ">>> int('0b100', base=0)\n",
       "4\n"
      ]
     },
     "metadata": {},
     "output_type": "display_data"
    }
   ],
   "source": [
    "area?"
   ]
  },
  {
   "cell_type": "markdown",
   "metadata": {},
   "source": [
    "The information you are getting on the variable is actually the documentation of the data type of that variable.\n",
    "\n",
    "When you start to feel comfortable using Python, it is also very beneficial to take a look at the [Python documentation](https://docs.python.org/3/index.html) to get a broader and deeper understanding about the language itself."
   ]
  },
  {
   "cell_type": "markdown",
   "metadata": {},
   "source": [
    "## Errors\n",
    "\n",
    "Errors and mistakes are an essential part of the programming process.\n",
    "However, one has to distinguish between errors you as a programmer are doing and errors the users of your software might do.\n",
    "Let us concentrate on the first type of errors: coding errors (or bugs).\n",
    "\n",
    "Do not be disappointed if you code does not work at the first time.\n",
    "It almost never does, either because your syntax is not correct (a *syntax error*) or your code tries to do something that is not well-defined (an *exception*)\n",
    "Most languages, and also Python, do have some mechanism to deal with errors that occur during the runtime of the program.\n",
    "If the Python interpreter encounters some error it raises an exception.\n",
    "An exception raised due to a syntax error may look like this"
   ]
  },
  {
   "cell_type": "code",
   "execution_count": 1,
   "metadata": {},
   "outputs": [
    {
     "ename": "SyntaxError",
     "evalue": "invalid syntax (<ipython-input-1-933321c6757f>, line 1)",
     "output_type": "error",
     "traceback": [
      "\u001b[0;36m  File \u001b[0;32m\"<ipython-input-1-933321c6757f>\"\u001b[0;36m, line \u001b[0;32m1\u001b[0m\n\u001b[0;31m    a = 5 when 3 < 9\u001b[0m\n\u001b[0m          ^\u001b[0m\n\u001b[0;31mSyntaxError\u001b[0m\u001b[0;31m:\u001b[0m invalid syntax\n"
     ]
    }
   ],
   "source": [
    "a = 5 when 3 < 9"
   ]
  },
  {
   "cell_type": "markdown",
   "metadata": {},
   "source": [
    "This code raises a `SyntaxError` exception, since Python does not know a `when` key word.\n",
    "The `^` symbol in the output points to the exact location where the syntax is wrong.\n",
    "This greatly helps to find typos in your code.\n",
    "\n",
    "But there are a lot more exceptions, such as arithmetic exceptions, raised if an invalid operation occurs:"
   ]
  },
  {
   "cell_type": "code",
   "execution_count": 2,
   "metadata": {},
   "outputs": [
    {
     "ename": "ZeroDivisionError",
     "evalue": "division by zero",
     "output_type": "error",
     "traceback": [
      "\u001b[0;31m---------------------------------------------------------------------------\u001b[0m",
      "\u001b[0;31mZeroDivisionError\u001b[0m                         Traceback (most recent call last)",
      "\u001b[0;32m<ipython-input-2-51f8442ebea1>\u001b[0m in \u001b[0;36m<module>\u001b[0;34m\u001b[0m\n\u001b[1;32m      1\u001b[0m \u001b[0ma\u001b[0m \u001b[0;34m=\u001b[0m \u001b[0;36m1\u001b[0m\u001b[0;34m\u001b[0m\u001b[0;34m\u001b[0m\u001b[0m\n\u001b[1;32m      2\u001b[0m \u001b[0mb\u001b[0m \u001b[0;34m=\u001b[0m \u001b[0;36m0\u001b[0m\u001b[0;34m\u001b[0m\u001b[0;34m\u001b[0m\u001b[0m\n\u001b[0;32m----> 3\u001b[0;31m \u001b[0mc\u001b[0m \u001b[0;34m=\u001b[0m \u001b[0ma\u001b[0m \u001b[0;34m/\u001b[0m \u001b[0mb\u001b[0m\u001b[0;34m\u001b[0m\u001b[0;34m\u001b[0m\u001b[0m\n\u001b[0m",
      "\u001b[0;31mZeroDivisionError\u001b[0m: division by zero"
     ]
    }
   ],
   "source": [
    "a = 1\n",
    "b = 0\n",
    "c = a / b"
   ]
  },
  {
   "cell_type": "markdown",
   "metadata": {},
   "source": [
    "Here we try to divide by zero which is a not well-defined mathematical operation.\n",
    "Hence, the interpreter complains and in the output the `---->` marks the line in the code where the interpreter raised the exception.\n",
    "Note that in many cases, unlike in this simple example, the occurrence of an exception depends on the conditions at runtime, i.e. when the program is executed.\n",
    "Such conditions could be the data that are fed into the program, which may be different for each execution.\n",
    "\n",
    "Often, when we use functions or packages, the exception is raised inside some function that may not even be part of our own code.\n",
    "To still be able to identify the origin of the issue, the Python interpreter provides a *traceback*, that is a list of all lines that are executed until the program went wrong."
   ]
  },
  {
   "cell_type": "code",
   "execution_count": 22,
   "metadata": {},
   "outputs": [
    {
     "ename": "ZeroDivisionError",
     "evalue": "division by zero",
     "output_type": "error",
     "traceback": [
      "\u001b[0;31m---------------------------------------------------------------------------\u001b[0m",
      "\u001b[0;31mZeroDivisionError\u001b[0m                         Traceback (most recent call last)",
      "\u001b[0;32m<ipython-input-22-bfb4d7ae17ad>\u001b[0m in \u001b[0;36m<module>\u001b[0;34m\u001b[0m\n\u001b[1;32m      6\u001b[0m     \u001b[0;32mreturn\u001b[0m \u001b[0ma\u001b[0m \u001b[0;34m/\u001b[0m \u001b[0mb\u001b[0m\u001b[0;34m\u001b[0m\u001b[0;34m\u001b[0m\u001b[0m\n\u001b[1;32m      7\u001b[0m \u001b[0;34m\u001b[0m\u001b[0m\n\u001b[0;32m----> 8\u001b[0;31m \u001b[0mresult\u001b[0m \u001b[0;34m=\u001b[0m \u001b[0mouter\u001b[0m\u001b[0;34m(\u001b[0m\u001b[0;36m1\u001b[0m\u001b[0;34m,\u001b[0m \u001b[0;36m0\u001b[0m\u001b[0;34m)\u001b[0m\u001b[0;34m\u001b[0m\u001b[0;34m\u001b[0m\u001b[0m\n\u001b[0m",
      "\u001b[0;32m<ipython-input-22-bfb4d7ae17ad>\u001b[0m in \u001b[0;36mouter\u001b[0;34m(a, b)\u001b[0m\n\u001b[1;32m      1\u001b[0m \u001b[0;32mdef\u001b[0m \u001b[0mouter\u001b[0m\u001b[0;34m(\u001b[0m\u001b[0ma\u001b[0m\u001b[0;34m,\u001b[0m \u001b[0mb\u001b[0m\u001b[0;34m)\u001b[0m\u001b[0;34m:\u001b[0m\u001b[0;34m\u001b[0m\u001b[0;34m\u001b[0m\u001b[0m\n\u001b[0;32m----> 2\u001b[0;31m     \u001b[0mc\u001b[0m \u001b[0;34m=\u001b[0m \u001b[0mfunction2\u001b[0m\u001b[0;34m(\u001b[0m\u001b[0ma\u001b[0m\u001b[0;34m,\u001b[0m \u001b[0mb\u001b[0m\u001b[0;34m)\u001b[0m\u001b[0;34m\u001b[0m\u001b[0;34m\u001b[0m\u001b[0m\n\u001b[0m\u001b[1;32m      3\u001b[0m     \u001b[0;32mreturn\u001b[0m \u001b[0mc\u001b[0m\u001b[0;34m\u001b[0m\u001b[0;34m\u001b[0m\u001b[0m\n\u001b[1;32m      4\u001b[0m \u001b[0;34m\u001b[0m\u001b[0m\n\u001b[1;32m      5\u001b[0m \u001b[0;32mdef\u001b[0m \u001b[0minner\u001b[0m\u001b[0;34m(\u001b[0m\u001b[0ma\u001b[0m\u001b[0;34m,\u001b[0m \u001b[0mb\u001b[0m\u001b[0;34m)\u001b[0m\u001b[0;34m:\u001b[0m\u001b[0;34m\u001b[0m\u001b[0;34m\u001b[0m\u001b[0m\n",
      "\u001b[0;32m<ipython-input-21-9e9aa47843e7>\u001b[0m in \u001b[0;36mfunction2\u001b[0;34m(a, b)\u001b[0m\n\u001b[1;32m      4\u001b[0m \u001b[0;34m\u001b[0m\u001b[0m\n\u001b[1;32m      5\u001b[0m \u001b[0;32mdef\u001b[0m \u001b[0mfunction2\u001b[0m\u001b[0;34m(\u001b[0m\u001b[0ma\u001b[0m\u001b[0;34m,\u001b[0m \u001b[0mb\u001b[0m\u001b[0;34m)\u001b[0m\u001b[0;34m:\u001b[0m\u001b[0;34m\u001b[0m\u001b[0;34m\u001b[0m\u001b[0m\n\u001b[0;32m----> 6\u001b[0;31m     \u001b[0;32mreturn\u001b[0m \u001b[0ma\u001b[0m \u001b[0;34m/\u001b[0m \u001b[0mb\u001b[0m\u001b[0;34m\u001b[0m\u001b[0;34m\u001b[0m\u001b[0m\n\u001b[0m\u001b[1;32m      7\u001b[0m \u001b[0;34m\u001b[0m\u001b[0m\n\u001b[1;32m      8\u001b[0m \u001b[0mresult\u001b[0m \u001b[0;34m=\u001b[0m \u001b[0mfunction1\u001b[0m\u001b[0;34m(\u001b[0m\u001b[0;36m1\u001b[0m\u001b[0;34m,\u001b[0m \u001b[0;36m0\u001b[0m\u001b[0;34m)\u001b[0m\u001b[0;34m\u001b[0m\u001b[0;34m\u001b[0m\u001b[0m\n",
      "\u001b[0;31mZeroDivisionError\u001b[0m: division by zero"
     ]
    }
   ],
   "source": [
    "def outer(a, b):\n",
    "    c = function2(a, b)\n",
    "    return c\n",
    "\n",
    "def inner(a, b):\n",
    "    return a / b\n",
    "\n",
    "result = outer(1, 0)"
   ]
  },
  {
   "cell_type": "markdown",
   "metadata": {},
   "source": [
    "In this example, two functions, `outer` and `inner` are defined where `outer` is simply calling `inner` with it's own parameters.\n",
    "In the last line, we call `outer` with the parameters `1` and `0`.\n",
    "In the last block of the traceback, we can see that the exception has been raised within the function `inner`.\n",
    "The second last block tells us, that the function `inner` has been called within the function `outer`.\n",
    "And finally, in the first block we see that the function `outer` has been called in the eighth line of the cell with the arguments `1` and `0`.\n",
    "Hence, a traceback is best read backwards, allowing to trace the occurrence of an error back to it's origin."
   ]
  },
  {
   "cell_type": "markdown",
   "metadata": {},
   "source": [
    "Note that for the syntax error, the output looks different.\n",
    "The reason is that the syntax error is raised while the interpreter reads the source code and before the code is executed.\n",
    "All other exceptions are raised during the execution of the program.\n",
    "See the [Pyhon documentation](https://docs.python.org/3/tutorial/errors.html) to learn more about errors and exceptions and how to deal with them."
   ]
  }
 ],
 "metadata": {
  "kernelspec": {
   "display_name": "Python 3",
   "language": "python",
   "name": "python3"
  },
  "language_info": {
   "codemirror_mode": {
    "name": "ipython",
    "version": 3
   },
   "file_extension": ".py",
   "mimetype": "text/x-python",
   "name": "python",
   "nbconvert_exporter": "python",
   "pygments_lexer": "ipython3",
   "version": "3.9.2"
  }
 },
 "nbformat": 4,
 "nbformat_minor": 4
}
