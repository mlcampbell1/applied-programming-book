{
 "cells": [
  {
   "cell_type": "code",
   "execution_count": null,
   "metadata": {
    "tags": [
     "hide_input"
    ]
   },
   "outputs": [],
   "source": [
    "%matplotlib inline\n",
    "import matplotlib.pyplot as plt\n",
    "from myturtle import Turtle"
   ]
  },
  {
   "cell_type": "markdown",
   "metadata": {},
   "source": [
    "# Functions\n",
    "\n",
    "In one of the previous examples we have seen that data, which is used at different parts of the code, should be represented by a named variable. The same holds for code structures which repeatedly process the same or similar data. This can be achieved by defining *functions*. It prevents redundancy in the code and makes the code more readable and maintainable."
   ]
  },
  {
   "cell_type": "markdown",
   "metadata": {},
   "source": [
    "## Defining functions\n",
    "\n",
    "Every definition of a function starts with the *function signiture*. The signature starts with the keyword `def`, followed by the name of the function and the definition of possible arguments in round brackets, and ends with a colon. The signature is followed by the indented *body* of the function, consisting of at least one command."
   ]
  },
  {
   "cell_type": "code",
   "execution_count": 3,
   "metadata": {},
   "outputs": [],
   "source": [
    "def hello_world():\n",
    "    print(\"Hello world\")"
   ]
  },
  {
   "cell_type": "markdown",
   "metadata": {},
   "source": [
    "After a function is defined, it can be *called*. It is important to use the round brackets, even if the function does not need any argument."
   ]
  },
  {
   "cell_type": "code",
   "execution_count": 5,
   "metadata": {},
   "outputs": [
    {
     "name": "stdout",
     "output_type": "stream",
     "text": [
      "Hello world\n"
     ]
    }
   ],
   "source": [
    "hello_world()"
   ]
  },
  {
   "cell_type": "markdown",
   "metadata": {},
   "source": [
    "Functions always return a value. This value can be defined with the keyword `return`. If no return value is defined, the function returns [`None`](https://docs.python.org/3.7/library/constants.html#None).\n",
    "\n",
    "The following function does not print the string \"Hello world\" but it will return it when called. "
   ]
  },
  {
   "cell_type": "code",
   "execution_count": 7,
   "metadata": {},
   "outputs": [],
   "source": [
    "def hello_world_string():\n",
    "    return 'Hello world'"
   ]
  },
  {
   "cell_type": "markdown",
   "metadata": {},
   "source": [
    "It is also possible to return multiple objects by writing them as tuples:"
   ]
  },
  {
   "cell_type": "code",
   "execution_count": 9,
   "metadata": {},
   "outputs": [],
   "source": [
    "def give_words():\n",
    "    return \"ham\", \"spam\", \"eggs\"\n",
    "\n",
    "words = give_words()       # This is a tuple with three elements\n",
    "w1, w2, w3 = give_words()  # Directly unpackes the tuple"
   ]
  },
  {
   "cell_type": "markdown",
   "metadata": {},
   "source": [
    "An important task in programming is the documentation of your code, that is to describe in words, what it does and how one uses it. In Python, this is done by writing *docstrings* into the code. For functions, the docstring is a string at the beginning of the function body. Usually it is a multiline string , enclosed by three quotation marks `\"\"\"`. This string is returned by the [`help()`](https://docs.python.org/3/library/functions.html#help) function."
   ]
  },
  {
   "cell_type": "code",
   "execution_count": 13,
   "metadata": {
    "tags": [
     "hide_output"
    ]
   },
   "outputs": [
    {
     "name": "stdout",
     "output_type": "stream",
     "text": [
      "Help on function hello_world_string in module __main__:\n",
      "\n",
      "hello_world_string()\n",
      "    Returns the string \"Hello World\".\n",
      "\n"
     ]
    },
    {
     "data": {
      "text/plain": [
       "\u001b[0;31mSignature:\u001b[0m \u001b[0mhello_world_string\u001b[0m\u001b[0;34m(\u001b[0m\u001b[0;34m)\u001b[0m\u001b[0;34m\u001b[0m\u001b[0;34m\u001b[0m\u001b[0m\n",
       "\u001b[0;31mDocstring:\u001b[0m Returns the string \"Hello World\".\n",
       "\u001b[0;31mFile:\u001b[0m      ~/Documents/applied-programming-book/content/basics/<ipython-input-13-44357a835bb6>\n",
       "\u001b[0;31mType:\u001b[0m      function\n"
      ]
     },
     "metadata": {},
     "output_type": "display_data"
    }
   ],
   "source": [
    "def hello_world_string():\n",
    "    \"\"\"Returns the string \"Hello World\".\"\"\"\n",
    "    s = \"Hello World\"\n",
    "    return s\n",
    "\n",
    "help(hello_world_string)\n",
    "# or\n",
    "hello_world_string?"
   ]
  },
  {
   "cell_type": "markdown",
   "metadata": {},
   "source": [
    "When a function is defined, it is an object as any other variable. Thus it can be allocated to another variable or passed to other functions as an argument."
   ]
  },
  {
   "cell_type": "markdown",
   "metadata": {},
   "source": [
    "## Arguments and Parameters\n",
    "\n",
    "Functions are used to execute a once defined sequence of tasks on some set of data that can be different from execution to execution. This data is *passed* to the function via arguments when calling the function. The names of the arguments that are used within the function body are called *parameters* and are defined in the round brackets within the function signature. For Python, arguments do not have a defined type, it can change during the runtime of the program. Hence, the language is dynamically typed.\n",
    "\n",
    "When calling a function in Python, arguments can either be passed as *positional arguments* or *keyword arguments*."
   ]
  },
  {
   "cell_type": "markdown",
   "metadata": {},
   "source": [
    "### Positional arguments\n",
    "\n",
    "Positional arguments are used by simply giving the value of the argument when calling a function. The example below uses positional arguments when calling the function `greet`. Note that the type of the arguments differ in both calls to the function."
   ]
  },
  {
   "cell_type": "code",
   "execution_count": 15,
   "metadata": {
    "tags": [
     "hide_output"
    ]
   },
   "outputs": [
    {
     "name": "stdout",
     "output_type": "stream",
     "text": [
      "Hello Martin\n",
      "Hello 4\n"
     ]
    }
   ],
   "source": [
    "def greet(name):\n",
    "    print(\"Hello {}\".format(name))\n",
    "\n",
    "greet(\"Martin\")\n",
    "greet(4)"
   ]
  },
  {
   "cell_type": "markdown",
   "metadata": {},
   "source": [
    "A function can also take multiple arguments. The arguments and the corresponding parameters are given as a comma separated list in the function call and its' signature, respectively."
   ]
  },
  {
   "cell_type": "code",
   "execution_count": 26,
   "metadata": {},
   "outputs": [
    {
     "name": "stdout",
     "output_type": "stream",
     "text": [
      "0.7142857142857143\n",
      "1.4\n"
     ]
    }
   ],
   "source": [
    "def div(numerator, denominator):\n",
    "    return numerator / denominator\n",
    "\n",
    "print(div(5, 7))\n",
    "print(div(7, 5))"
   ]
  },
  {
   "cell_type": "markdown",
   "metadata": {},
   "source": [
    "The example above illustrates why it is called positional arguments. It is the position of the values in the function call that determines which variables they are assigned to in the function body. "
   ]
  },
  {
   "cell_type": "markdown",
   "metadata": {},
   "source": [
    "### Keyword arguments\n",
    "Arguments can also be passed as `key=value` pairs which enhances the readability of the code. Using keyword arguments allows to neglect the order of arguments as given by the function signature."
   ]
  },
  {
   "cell_type": "code",
   "execution_count": 20,
   "metadata": {},
   "outputs": [
    {
     "name": "stdout",
     "output_type": "stream",
     "text": [
      "0.5\n",
      "0.5\n"
     ]
    }
   ],
   "source": [
    "def div(numerator, denominator):\n",
    "    return numerator / denominator\n",
    "\n",
    "print(div(numerator=3, denominator=6.))\n",
    "print(div(denominator=6., numerator=3))"
   ]
  },
  {
   "cell_type": "markdown",
   "metadata": {},
   "source": [
    "We can also mix the use of positional and keyword arguments. However, we then have to put the positional arguments first followed by the keyword arguments. In any case, the association between the arguments and parameters must be unambiguous."
   ]
  },
  {
   "cell_type": "code",
   "execution_count": 28,
   "metadata": {
    "tags": [
     "hide_output"
    ]
   },
   "outputs": [
    {
     "ename": "SyntaxError",
     "evalue": "positional argument follows keyword argument (<ipython-input-28-50a9eacaf465>, line 2)",
     "output_type": "error",
     "traceback": [
      "\u001b[0;36m  File \u001b[0;32m\"<ipython-input-28-50a9eacaf465>\"\u001b[0;36m, line \u001b[0;32m2\u001b[0m\n\u001b[0;31m    print(div(nominator=3, 6))  ## this is a syntax error\u001b[0m\n\u001b[0m                           ^\u001b[0m\n\u001b[0;31mSyntaxError\u001b[0m\u001b[0;31m:\u001b[0m positional argument follows keyword argument\n"
     ]
    }
   ],
   "source": [
    "print(div(3, denominator=6))\n",
    "print(div(nominator=3, 6))  ## this is a syntax error"
   ]
  },
  {
   "cell_type": "code",
   "execution_count": 27,
   "metadata": {
    "tags": [
     "hide_output"
    ]
   },
   "outputs": [
    {
     "ename": "TypeError",
     "evalue": "div() got an unexpected keyword argument 'nominator'",
     "output_type": "error",
     "traceback": [
      "\u001b[0;31m---------------------------------------------------------------------------\u001b[0m",
      "\u001b[0;31mTypeError\u001b[0m                                 Traceback (most recent call last)",
      "\u001b[0;32m<ipython-input-27-7691ef50def9>\u001b[0m in \u001b[0;36m<module>\u001b[0;34m\u001b[0m\n\u001b[0;32m----> 1\u001b[0;31m \u001b[0mprint\u001b[0m\u001b[0;34m(\u001b[0m\u001b[0mdiv\u001b[0m\u001b[0;34m(\u001b[0m\u001b[0;36m3\u001b[0m\u001b[0;34m,\u001b[0m \u001b[0mnominator\u001b[0m\u001b[0;34m=\u001b[0m\u001b[0;36m6\u001b[0m\u001b[0;34m)\u001b[0m\u001b[0;34m)\u001b[0m  \u001b[0;31m# this is a type error\u001b[0m\u001b[0;34m\u001b[0m\u001b[0;34m\u001b[0m\u001b[0m\n\u001b[0m",
      "\u001b[0;31mTypeError\u001b[0m: div() got an unexpected keyword argument 'nominator'"
     ]
    }
   ],
   "source": [
    "print(div(3, nominator=6))  # this is a type error"
   ]
  },
  {
   "cell_type": "markdown",
   "metadata": {},
   "source": [
    "### Default values\n",
    "Often one would like to define a default value for a certain parameter. This can be done with an assignment in the function signature. When calling the function, we may then omit the argument that has a default value defined."
   ]
  },
  {
   "cell_type": "code",
   "execution_count": 29,
   "metadata": {},
   "outputs": [
    {
     "name": "stdout",
     "output_type": "stream",
     "text": [
      "Hello Bruce. Good morning!\n",
      "Hello Bruce. How do you do?\n",
      "Hello Bruce. Good morning!\n"
     ]
    }
   ],
   "source": [
    "def greet(name, msg=\"How do you do?\"):\n",
    "    \"\"\"\n",
    "    This function greets to the person with the provided message.\n",
    "\n",
    "    If message is not provided, it defaults to \"How do you do?\"\n",
    "    \"\"\"\n",
    "    print(\"Hello {}. {}\".format(name, msg))\n",
    "    \n",
    "greet(name=\"Bruce\", msg=\"Good morning!\")\n",
    "greet(name=\"Bruce\")\n",
    "greet(\"Bruce\", msg=\"Good morning!\")"
   ]
  },
  {
   "cell_type": "markdown",
   "metadata": {},
   "source": [
    "To have an unambiguous map between arguments and parameters all parameters having a default value must be at the end of the parameter list in the function signature. "
   ]
  },
  {
   "cell_type": "code",
   "execution_count": 32,
   "metadata": {},
   "outputs": [
    {
     "ename": "SyntaxError",
     "evalue": "non-default argument follows default argument (<ipython-input-32-83f329bb83cb>, line 1)",
     "output_type": "error",
     "traceback": [
      "\u001b[0;36m  File \u001b[0;32m\"<ipython-input-32-83f329bb83cb>\"\u001b[0;36m, line \u001b[0;32m1\u001b[0m\n\u001b[0;31m    def div(a=1, b):\u001b[0m\n\u001b[0m            ^\u001b[0m\n\u001b[0;31mSyntaxError\u001b[0m\u001b[0;31m:\u001b[0m non-default argument follows default argument\n"
     ]
    }
   ],
   "source": [
    "def div(a=1, b):\n",
    "    return a / b"
   ]
  },
  {
   "cell_type": "markdown",
   "metadata": {},
   "source": [
    "```{note}\n",
    "The evaluation of the assignment expression in the function signature happens only once when the interpreter reads the function signature.\n",
    "```"
   ]
  },
  {
   "cell_type": "code",
   "execution_count": 33,
   "metadata": {},
   "outputs": [
    {
     "name": "stdout",
     "output_type": "stream",
     "text": [
      "6\n",
      "6\n"
     ]
    }
   ],
   "source": [
    "a = 5\n",
    "def sum_5(n1, n2=a):\n",
    "    return n1 + n2\n",
    "\n",
    "print(sum_5(1))\n",
    "a = 6\n",
    "print(sum_5(1))"
   ]
  },
  {
   "cell_type": "markdown",
   "metadata": {},
   "source": [
    "```{warning}\n",
    "When a `mutable` data type is used as the default value a reference is set to it. Hence, the default value can change during runtime which is commonly considered **undesired behavior**! Thus **never use a `mutable` data type as a default!**\n",
    "```"
   ]
  },
  {
   "cell_type": "code",
   "execution_count": 34,
   "metadata": {},
   "outputs": [
    {
     "name": "stdout",
     "output_type": "stream",
     "text": [
      "[1, 5]\n",
      "[1, 6]\n",
      "[1]\n",
      "[6, 5]\n"
     ]
    }
   ],
   "source": [
    "a = [1]\n",
    "def append_element(e, l=a):\n",
    "    return l + [e]\n",
    "print(append_element(5))\n",
    "print(append_element(6))\n",
    "print(a)\n",
    "a[0]=6\n",
    "print(append_element(5))"
   ]
  },
  {
   "cell_type": "markdown",
   "metadata": {},
   "source": [
    "### Variable number of parameters\n",
    "\n",
    "It is possible to define a function which accepts a variable number of arguments. To have access to these variable parameters, there is the `*` and `**` notation in the function signature. `*` is used for positional arguments and a `**` is used for keyword arguments and these are always at the end of the parameter list."
   ]
  },
  {
   "cell_type": "code",
   "execution_count": 35,
   "metadata": {},
   "outputs": [],
   "source": [
    "def func_pos_args(*args):\n",
    "    print(args)\n",
    "    \n",
    "def func_kw_args(**kwargs):\n",
    "    print(kwargs)\n",
    "\n",
    "def func_general_varargs(arg1, arg2, arg3='some value', *args, **kwargs):\n",
    "    print(arg1)\n",
    "    print(arg2)\n",
    "    print(arg3)\n",
    "    print(args)\n",
    "    print(kwargs)"
   ]
  },
  {
   "cell_type": "markdown",
   "metadata": {},
   "source": [
    "In the examples above, `args` is a tuple of all additional positional arguments that have been passed to the function. `kwargs` is a dictionary mapping the keys to the values of all additional keyword arguments given in the function call. Additional here means that these arguments do not match a parameter that is explicitly defined in the function signature."
   ]
  },
  {
   "cell_type": "markdown",
   "metadata": {},
   "source": [
    "Using an analogous notation, a sequence or a dictionary of arguments can be passed to a function."
   ]
  },
  {
   "cell_type": "code",
   "execution_count": 37,
   "metadata": {},
   "outputs": [
    {
     "name": "stdout",
     "output_type": "stream",
     "text": [
      "9\n",
      "9\n"
     ]
    }
   ],
   "source": [
    "def sum(a, b):\n",
    "    return a + b\n",
    "\n",
    "numbers = (4, 5)\n",
    "print(sum(*numbers))\n",
    "\n",
    "numbers_dict = {'a': 4, 'b': 5}\n",
    "print(sum(**numbers_dict))"
   ]
  },
  {
   "cell_type": "markdown",
   "metadata": {},
   "source": [
    "This allows, for example, the definition of *function wrappers*. The following function `wrapper` accepts any function as first argument and calls it after the `print` command with the given arguments:"
   ]
  },
  {
   "cell_type": "code",
   "execution_count": 39,
   "metadata": {},
   "outputs": [
    {
     "name": "stdout",
     "output_type": "stream",
     "text": [
      "Function sum executed with Arguments (2,) and {'b': 3}\n"
     ]
    },
    {
     "data": {
      "text/plain": [
       "5"
      ]
     },
     "execution_count": 39,
     "metadata": {},
     "output_type": "execute_result"
    }
   ],
   "source": [
    "def wrapper(func, *args, **kwargs):\n",
    "    print(\n",
    "        \"Function {} executed with Arguments {} and {}\".format(\n",
    "            func.__name__, args, kwargs\n",
    "        )\n",
    "    )\n",
    "    return_value = func(*args, **kwargs)\n",
    "    return return_value\n",
    "\n",
    "wrapper(sum, 2, b=3)"
   ]
  },
  {
   "cell_type": "markdown",
   "metadata": {},
   "source": [
    "## Scope\n",
    "\n",
    "The *scope* defines the visibility of a name (object) within a block of code. Names which are used in their own scope are called *local*. Names from an enclosing scope are called *global*. The local scope always supersedes the global scope. This means for functions:"
   ]
  },
  {
   "cell_type": "markdown",
   "metadata": {},
   "source": [
    "-   Names that are **defined outside** the function body are **visible** within the function body as global variables."
   ]
  },
  {
   "cell_type": "code",
   "execution_count": 43,
   "metadata": {},
   "outputs": [
    {
     "name": "stdout",
     "output_type": "stream",
     "text": [
      "I love Paris!\n",
      "I love London!\n"
     ]
    }
   ],
   "source": [
    "def f():\n",
    "    print(s)\n",
    "    \n",
    "s = 'I love Paris!'\n",
    "f()\n",
    "s = 'I love London!'\n",
    "f()"
   ]
  },
  {
   "cell_type": "markdown",
   "metadata": {},
   "source": [
    "-   Names that are **defined within** the function body, are **not visible** outside."
   ]
  },
  {
   "cell_type": "code",
   "execution_count": 44,
   "metadata": {},
   "outputs": [
    {
     "name": "stdout",
     "output_type": "stream",
     "text": [
      "I love Paris\n"
     ]
    },
    {
     "ename": "NameError",
     "evalue": "name 's2' is not defined",
     "output_type": "error",
     "traceback": [
      "\u001b[0;31m---------------------------------------------------------------------------\u001b[0m",
      "\u001b[0;31mNameError\u001b[0m                                 Traceback (most recent call last)",
      "\u001b[0;32m<ipython-input-44-b3ce25f1140c>\u001b[0m in \u001b[0;36m<module>\u001b[0;34m\u001b[0m\n\u001b[1;32m      4\u001b[0m \u001b[0;34m\u001b[0m\u001b[0m\n\u001b[1;32m      5\u001b[0m \u001b[0mf\u001b[0m\u001b[0;34m(\u001b[0m\u001b[0;34m'Paris'\u001b[0m\u001b[0;34m)\u001b[0m\u001b[0;34m\u001b[0m\u001b[0;34m\u001b[0m\u001b[0m\n\u001b[0;32m----> 6\u001b[0;31m \u001b[0mprint\u001b[0m\u001b[0;34m(\u001b[0m\u001b[0ms2\u001b[0m\u001b[0;34m)\u001b[0m   \u001b[0;31m# This throws a name error\u001b[0m\u001b[0;34m\u001b[0m\u001b[0;34m\u001b[0m\u001b[0m\n\u001b[0m",
      "\u001b[0;31mNameError\u001b[0m: name 's2' is not defined"
     ]
    }
   ],
   "source": [
    "def f(city):\n",
    "    s2 = \"I love {}\".format(city)\n",
    "    print(s2)\n",
    "\n",
    "f('Paris')\n",
    "print(s2)   # This throws a name error"
   ]
  },
  {
   "cell_type": "markdown",
   "metadata": {},
   "source": [
    "- Is a name defined both inside and outside, the **local** definition supersedes the global within the function body."
   ]
  },
  {
   "cell_type": "code",
   "execution_count": 45,
   "metadata": {},
   "outputs": [
    {
     "name": "stdout",
     "output_type": "stream",
     "text": [
      "I love Paris\n",
      "I hate Paris\n"
     ]
    }
   ],
   "source": [
    "s3 = \"I hate {}\"\n",
    "def f(city):\n",
    "    s3 = \"I love {}\"\n",
    "    print(s3.format(city))\n",
    "    \n",
    "f('Paris')\n",
    "print(s3.format('Paris'))"
   ]
  },
  {
   "cell_type": "markdown",
   "metadata": {},
   "source": [
    "```{note}\n",
    "-   In principal it is possible to change global variables within the function body, if they are `mutable`. Such a function is called to have side effects. Usually this is **not desired**, since this can lead to errors, that are hard to identify. This also applies to `mutable` arguments passed to a function.\n",
    "-   Python also offers the possibility to change global `immutable` variables within the function body. Therefore the keyword `global` is introduced. For the same reasons as above, this is not recommended!\n",
    "```"
   ]
  }
 ],
 "metadata": {
  "kernelspec": {
   "display_name": "Python 3",
   "language": "python",
   "name": "python3"
  },
  "language_info": {
   "codemirror_mode": {
    "name": "ipython",
    "version": 3
   },
   "file_extension": ".py",
   "mimetype": "text/x-python",
   "name": "python",
   "nbconvert_exporter": "python",
   "pygments_lexer": "ipython3",
   "version": "3.8.2"
  }
 },
 "nbformat": 4,
 "nbformat_minor": 4
}
