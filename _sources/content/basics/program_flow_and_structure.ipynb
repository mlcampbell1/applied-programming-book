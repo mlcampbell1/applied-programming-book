{
 "cells": [
  {
   "cell_type": "code",
   "execution_count": 11,
   "metadata": {
    "tags": [
     "hide_input"
    ]
   },
   "outputs": [],
   "source": [
    "%matplotlib inline\n",
    "import matplotlib.pyplot as plt\n",
    "from math import sin, cos, tan, pi, acos\n",
    "from graphviz import Digraph\n",
    "from IPython import display\n",
    "display.Image(\"path-to-image\")\n",
    "\n",
    "graph_attr = dict(\n",
    "    rankdir='LR',\n",
    "#     size='30',\n",
    "    splines='ortho'\n",
    ")\n",
    "start_node = dict(\n",
    "    shape='box',\n",
    "    style='rounded, filled',\n",
    "    fillcolor='#e5f5e0',\n",
    "    color=\"#a1d99b\"\n",
    ")\n",
    "instr_node = dict(\n",
    "    shape='box',\n",
    "    style='filled',\n",
    "    fillcolor='#d9d9d9',\n",
    "    color=\"#bdbdbd\"\n",
    ")\n",
    "branch_node = dict(\n",
    "    shape=\"diamond\",\n",
    "    style=\"filled\",\n",
    "    fillcolor=\"#cab2d6\",\n",
    "    color=\"#6a3d9a\"\n",
    ")\n",
    "dummy_attr = dict(\n",
    "    shape = \"point\",\n",
    "    width = \"0\",\n",
    ")"
   ]
  },
  {
   "cell_type": "markdown",
   "metadata": {},
   "source": [
    "# Program Flow and Structure\n",
    "A program consists of commands, which are executed in a certain order. This order is called the process flow. The following types of structures describe the process flow:\n",
    "\n",
    "- Sequence\n",
    "- Branching\n",
    "- Iteration\n",
    "\n",
    "With those structures, the process flow can be described by [flow charts](https://de.wikipedia.org/wiki/Programmablaufplan).\n",
    "\n",
    "<a title=\"Erik Streb / CC BY-SA (https://creativecommons.org/licenses/by-sa/3.0)\" href=\"https://commons.wikimedia.org/wiki/File:Flowchart_en.svg\"><img width=\"256\" alt=\"Flowchart en\" src=\"https://upload.wikimedia.org/wikipedia/commons/thumb/3/3c/Flowchart_en.svg/256px-Flowchart_en.svg.png\"></a>\n"
   ]
  },
  {
   "cell_type": "markdown",
   "metadata": {},
   "source": [
    "## If Statements\n",
    "\n",
    "In many cases, one would like the program to execute a task only if a certain condition is met.\n",
    "This is called branching. \n",
    "In Python, as in most other high-level languages, branching is done with an `if` structure.\n",
    "The syntax is as follows:\n",
    "```\n",
    "if <condition>:\n",
    "    <conditional code>\n",
    "<unconditional code>\n",
    "```\n",
    "where `<condition>` is a statement that can be interpreted as `True` or `False`.\n",
    "The part which is only executed conditional must be **indented**.\n",
    "It does not matter how it is indented, but it must be consistent within the block of conditional code.\n",
    "The convention is to use 4 white spaces or a tab for indentation.\n",
    "\n",
    "Here is an example:"
   ]
  },
  {
   "cell_type": "code",
   "execution_count": 2,
   "metadata": {},
   "outputs": [],
   "source": [
    "x = 10\n",
    "y = 5\n",
    "\n",
    "if x < y:\n",
    "    print('x is smaller than y')"
   ]
  },
  {
   "cell_type": "markdown",
   "metadata": {},
   "source": [
    "The corresponding flow chart is"
   ]
  },
  {
   "cell_type": "markdown",
   "metadata": {},
   "source": [
    "<img src=\"Images/thirdloopflow.png\" style=\"max-width:55%;\" />"
   ]
  },
  {
   "cell_type": "markdown",
   "metadata": {},
   "source": [
    "The flow chart shows that the process is branched at the purple node.\n",
    "Depending on the result of the condition, only one branch of the program is executed.\n",
    "In this example, there are two possible branches in the process flow.\n",
    "Unlike for sequences, it is now possible that an instruction may follow two preceding ones or two instructions may follow on one preceding one."
   ]
  },
  {
   "cell_type": "markdown",
   "metadata": {},
   "source": [
    "The process can also be split into more than two branches using alternative conditions.\n",
    "To do this you use the `elif` statement together with an condition or the `else` statement which contains the code if none of the conditions is met.\n",
    "Here is one example and the corresponding flow chart."
   ]
  },
  {
   "cell_type": "code",
   "execution_count": 3,
   "metadata": {},
   "outputs": [],
   "source": [
    "x = 10\n",
    "y = 5\n",
    "z = 20\n",
    "\n",
    "if x < y:\n",
    "    print('x is smaller than y')\n",
    "elif x < y:\n",
    "    print('x is larger than y')\n",
    "elif y*5 < z:\n",
    "    print('y multiplied by 5 is larger than z')\n",
    "else: \n",
    "    print('None of the statements are true')"
   ]
  },
  {
   "cell_type": "markdown",
   "metadata": {},
   "source": [
    "<img src=\"Images/secondloopflow.png\" style=\"max-width:90%;\" />"
   ]
  },
  {
   "cell_type": "markdown",
   "metadata": {},
   "source": [
    "## Iteration\n",
    "\n",
    "In many cases a tasks shall be repeated as long as a specific condition holds or the task shall be executed for each element of a list.\n",
    "For those cases structured programing languages offer loops.\n",
    "In Python, two loop structures are available: the `while` and the `for` loop."
   ]
  },
  {
   "cell_type": "markdown",
   "metadata": {},
   "source": [
    "### While Loop\n",
    "\n",
    "```{margin}\n",
    "A *code block* is a small unit of the program that represents a branch in the process flow. In Python, code blocks have the same level of indentation.\n",
    "```\n",
    "The `while` loop executes a *code block* as long as a specific condition is fulfilled.\n",
    "This code block is called *loop body* and we say the program iterates the loop body. \n",
    "The syntax is\n",
    "```\n",
    "while <condition>:\n",
    "    <loop body>\n",
    "```\n",
    "Note that the condition is always checked when entering the loop body.\n",
    "See the example below with the respective flow chart. Also note that it is common that you see `i` defined when looping, this is because it acts as a counter to count the iterations of a loop. \n",
    "\n",
    "For example:\n"
   ]
  },
  {
   "cell_type": "code",
   "execution_count": 4,
   "metadata": {
    "tags": [
     "hide_output"
    ]
   },
   "outputs": [],
   "source": [
    "i = 1\n",
    "\n",
    "while i < 6:\n",
    "    print(i)\n",
    "    i+=1"
   ]
  },
  {
   "cell_type": "markdown",
   "metadata": {},
   "source": [
    "<img src=\"Images/thirdloopflow.png\" style=\"max-width:55%;\" >"
   ]
  },
  {
   "cell_type": "markdown",
   "metadata": {},
   "source": [
    "### `break` and `continue`\n",
    "\n",
    "In all types of loops the iteration can be aborted with a `break` statement.\n",
    "This terminates the loop and the program jumps to the first instruction after the loop body.\n",
    "A `break` can be used to define alternative conditions for a `while` loop or the check the termination condition at a different location in the flow chart.\n",
    "\n",
    "To only stop the current iteration, the `continue` statement is used.\n",
    "On encountering a `continue`, the program jumps to the end of the loop body and starts the next iteration.\n",
    "\n",
    "See the example below and the corresponding flow chart."
   ]
  },
  {
   "cell_type": "code",
   "execution_count": 5,
   "metadata": {},
   "outputs": [],
   "source": [
    "# program to find first 5 multiples of 6\n",
    "\n",
    "i = 1\n",
    "\n",
    "while i <= 10:\n",
    "    print('6 * ',(i), '=',6 * i)\n",
    "\n",
    "    if i >= 5:\n",
    "        break\n",
    "    \n",
    "    i = i + 1"
   ]
  },
  {
   "cell_type": "markdown",
   "metadata": {},
   "source": [
    "<img src=\"Images/fourthloopflow.png\" style=\"max-width:55%;\" >"
   ]
  },
  {
   "cell_type": "markdown",
   "metadata": {},
   "source": [
    "### For Loop\n",
    "\n",
    "```{margin}\n",
    "Because it is common to iterate over a sequence of integers, python offers a function to generate such a sequence: [range([start], stop, [stride])](https://docs.python.org/3/library/stdtypes.html#typesseq-range).\n",
    "```\n",
    "The `for` loop is a counting loop.\n",
    "The loop body is executed for all elements of a sequence, e.g. a list of integers or any other object.\n",
    "For every iteration the respective object from the sequence is assigned to a variable. The for loops are more commonly used as they are easier to keep track of, for example a while loop can more easily get \"stuck\" and run to infinity."
   ]
  },
  {
   "cell_type": "code",
   "execution_count": 6,
   "metadata": {
    "tags": [
     "hide_output"
    ]
   },
   "outputs": [],
   "source": [
    "for i in [0, 1, 2, 3]:\n",
    "    print(i)"
   ]
  },
  {
   "cell_type": "markdown",
   "metadata": {},
   "source": [
    "<img src=\"data:image/svg+xml;base64,PHN2ZyB4bWxucz0iaHR0cDovL3d3dy53My5vcmcvMjAwMC9zdmciIHhtbG5zOnhsaW5rPSJodHRw\n",
    "Oi8vd3d3LnczLm9yZy8xOTk5L3hsaW5rIiB2ZXJzaW9uPSIxLjEiIHdpZHRoPSI1NDRweCIgaGVp\n",
    "Z2h0PSIyMDlweCIgdmlld0JveD0iLTAuNSAtMC41IDU0NCAyMDkiPjxkZWZzLz48Zz48cGF0aCBk\n",
    "PSJNIDEwMSA3Ni42NSBMIDEyMC44MiA3Ni42NSBMIDEzNC40NiA3Ni42NSIgZmlsbD0ibm9uZSIg\n",
    "c3Ryb2tlPSIjMDAwMDAwIiBzdHJva2UtbWl0ZXJsaW1pdD0iMTAiIHBvaW50ZXItZXZlbnRzPSJu\n",
    "b25lIi8+PHBhdGggZD0iTSAxMzkuNzEgNzYuNjUgTCAxMzIuNzEgODAuMTUgTCAxMzQuNDYgNzYu\n",
    "NjUgTCAxMzIuNzEgNzMuMTUgWiIgZmlsbD0iIzAwMDAwMCIgc3Ryb2tlPSIjMDAwMDAwIiBzdHJv\n",
    "a2UtbWl0ZXJsaW1pdD0iMTAiIHBvaW50ZXItZXZlbnRzPSJub25lIi8+PGVsbGlwc2UgY3g9IjUx\n",
    "IiBjeT0iNzciIHJ4PSI1MCIgcnk9IjMwIiBmaWxsPSIjZDVlOGQ0IiBzdHJva2U9IiM4MmIzNjYi\n",
    "IHN0cm9rZS13aWR0aD0iMiIgcG9pbnRlci1ldmVudHM9Im5vbmUiLz48ZyB0cmFuc2Zvcm09InRy\n",
    "YW5zbGF0ZSgyOS41LDY1LjUpIj48c3dpdGNoPjxmb3JlaWduT2JqZWN0IHN0eWxlPSJvdmVyZmxv\n",
    "dzp2aXNpYmxlOyIgcG9pbnRlci1ldmVudHM9ImFsbCIgd2lkdGg9IjQyIiBoZWlnaHQ9IjIyIiBy\n",
    "ZXF1aXJlZEZlYXR1cmVzPSJodHRwOi8vd3d3LnczLm9yZy9UUi9TVkcxMS9mZWF0dXJlI0V4dGVu\n",
    "c2liaWxpdHkiPjxkaXYgeG1sbnM9Imh0dHA6Ly93d3cudzMub3JnLzE5OTkveGh0bWwiIHN0eWxl\n",
    "PSJkaXNwbGF5OiBpbmxpbmUtYmxvY2s7IGZvbnQtc2l6ZTogMTJweDsgZm9udC1mYW1pbHk6IEhl\n",
    "bHZldGljYTsgY29sb3I6IHJnYigwLCAwLCAwKTsgbGluZS1oZWlnaHQ6IDEuMjsgdmVydGljYWwt\n",
    "YWxpZ246IHRvcDsgd2lkdGg6IDQzcHg7IHdoaXRlLXNwYWNlOiBub3dyYXA7IG92ZXJmbG93LXdy\n",
    "YXA6IG5vcm1hbDsgdGV4dC1hbGlnbjogY2VudGVyOyI+PGRpdiB4bWxucz0iaHR0cDovL3d3dy53\n",
    "My5vcmcvMTk5OS94aHRtbCIgc3R5bGU9ImRpc3BsYXk6aW5saW5lLWJsb2NrO3RleHQtYWxpZ246\n",
    "aW5oZXJpdDt0ZXh0LWRlY29yYXRpb246aW5oZXJpdDsiPjxmb250IHN0eWxlPSJmb250LXNpemU6\n",
    "IDIwcHgiPlN0YXJ0PC9mb250PjwvZGl2PjwvZGl2PjwvZm9yZWlnbk9iamVjdD48dGV4dCB4PSIy\n",
    "MSIgeT0iMTciIGZpbGw9IiMwMDAwMDAiIHRleHQtYW5jaG9yPSJtaWRkbGUiIGZvbnQtc2l6ZT0i\n",
    "MTJweCIgZm9udC1mYW1pbHk9IkhlbHZldGljYSI+W05vdCBzdXBwb3J0ZWQgYnkgdmlld2VyXTwv\n",
    "dGV4dD48L3N3aXRjaD48L2c+PHBhdGggZD0iTSAxOTEuNDEgMTI3IEwgMTkxLjQxIDE0Ny4yNCBM\n",
    "IDE5MS40MSAxNDAuODciIGZpbGw9Im5vbmUiIHN0cm9rZT0iIzAwMDAwMCIgc3Ryb2tlLW1pdGVy\n",
    "bGltaXQ9IjEwIiBwb2ludGVyLWV2ZW50cz0ibm9uZSIvPjxwYXRoIGQ9Ik0gMTkxLjQxIDE0Ni4x\n",
    "MiBMIDE4Ny45MSAxMzkuMTIgTCAxOTEuNDEgMTQwLjg3IEwgMTk0LjkxIDEzOS4xMiBaIiBmaWxs\n",
    "PSIjMDAwMDAwIiBzdHJva2U9IiMwMDAwMDAiIHN0cm9rZS1taXRlcmxpbWl0PSIxMCIgcG9pbnRl\n",
    "ci1ldmVudHM9Im5vbmUiLz48ZyB0cmFuc2Zvcm09InRyYW5zbGF0ZSgyMDQuNSwxMjEuNSkiPjxz\n",
    "d2l0Y2g+PGZvcmVpZ25PYmplY3Qgc3R5bGU9Im92ZXJmbG93OnZpc2libGU7IiBwb2ludGVyLWV2\n",
    "ZW50cz0iYWxsIiB3aWR0aD0iMTIiIGhlaWdodD0iMTEiIHJlcXVpcmVkRmVhdHVyZXM9Imh0dHA6\n",
    "Ly93d3cudzMub3JnL1RSL1NWRzExL2ZlYXR1cmUjRXh0ZW5zaWJpbGl0eSI+PGRpdiB4bWxucz0i\n",
    "aHR0cDovL3d3dy53My5vcmcvMTk5OS94aHRtbCIgc3R5bGU9ImRpc3BsYXk6IGlubGluZS1ibG9j\n",
    "azsgZm9udC1zaXplOiAxMXB4OyBmb250LWZhbWlseTogSGVsdmV0aWNhOyBjb2xvcjogcmdiKDAs\n",
    "IDAsIDApOyBsaW5lLWhlaWdodDogMS4yOyB2ZXJ0aWNhbC1hbGlnbjogdG9wOyB3aGl0ZS1zcGFj\n",
    "ZTogbm93cmFwOyB0ZXh0LWFsaWduOiBjZW50ZXI7Ij48ZGl2IHhtbG5zPSJodHRwOi8vd3d3Lncz\n",
    "Lm9yZy8xOTk5L3hodG1sIiBzdHlsZT0iZGlzcGxheTppbmxpbmUtYmxvY2s7dGV4dC1hbGlnbjpp\n",
    "bmhlcml0O3RleHQtZGVjb3JhdGlvbjppbmhlcml0O2JhY2tncm91bmQtY29sb3I6I2ZmZmZmZjsi\n",
    "PnllczwvZGl2PjwvZGl2PjwvZm9yZWlnbk9iamVjdD48dGV4dCB4PSI2IiB5PSIxMSIgZmlsbD0i\n",
    "IzAwMDAwMCIgdGV4dC1hbmNob3I9Im1pZGRsZSIgZm9udC1zaXplPSIxMXB4IiBmb250LWZhbWls\n",
    "eT0iSGVsdmV0aWNhIj55ZXM8L3RleHQ+PC9zd2l0Y2g+PC9nPjxwYXRoIGQ9Ik0gMjQxIDc2LjY1\n",
    "IEwgMjYwLjgyIDc2LjY1IEwgMjYxLjUxIDc2LjY1IiBmaWxsPSJub25lIiBzdHJva2U9IiMwMDAw\n",
    "MDAiIHN0cm9rZS1taXRlcmxpbWl0PSIxMCIgcG9pbnRlci1ldmVudHM9Im5vbmUiLz48cGF0aCBk\n",
    "PSJNIDI2Ni43NiA3Ni42NSBMIDI1OS43NiA4MC4xNSBMIDI2MS41MSA3Ni42NSBMIDI1OS43NiA3\n",
    "My4xNSBaIiBmaWxsPSIjMDAwMDAwIiBzdHJva2U9IiMwMDAwMDAiIHN0cm9rZS1taXRlcmxpbWl0\n",
    "PSIxMCIgcG9pbnRlci1ldmVudHM9Im5vbmUiLz48cGF0aCBkPSJNIDE5MSAyNyBMIDI0MSA3NyBM\n",
    "IDE5MSAxMjcgTCAxNDEgNzcgWiIgZmlsbD0iI2UxZDVlNyIgc3Ryb2tlPSIjOTY3M2E2IiBzdHJv\n",
    "a2Utd2lkdGg9IjIiIHN0cm9rZS1taXRlcmxpbWl0PSIxMCIgcG9pbnRlci1ldmVudHM9Im5vbmUi\n",
    "Lz48ZyB0cmFuc2Zvcm09InRyYW5zbGF0ZSgxNTguNSw1OC41KSI+PHN3aXRjaD48Zm9yZWlnbk9i\n",
    "amVjdCBzdHlsZT0ib3ZlcmZsb3c6dmlzaWJsZTsiIHBvaW50ZXItZXZlbnRzPSJhbGwiIHdpZHRo\n",
    "PSI2MyIgaGVpZ2h0PSIzNiIgcmVxdWlyZWRGZWF0dXJlcz0iaHR0cDovL3d3dy53My5vcmcvVFIv\n",
    "U1ZHMTEvZmVhdHVyZSNFeHRlbnNpYmlsaXR5Ij48ZGl2IHhtbG5zPSJodHRwOi8vd3d3LnczLm9y\n",
    "Zy8xOTk5L3hodG1sIiBzdHlsZT0iZGlzcGxheTogaW5saW5lLWJsb2NrOyBmb250LXNpemU6IDEy\n",
    "cHg7IGZvbnQtZmFtaWx5OiBIZWx2ZXRpY2E7IGNvbG9yOiByZ2IoMCwgMCwgMCk7IGxpbmUtaGVp\n",
    "Z2h0OiAxLjI7IHZlcnRpY2FsLWFsaWduOiB0b3A7IHdpZHRoOiA2NHB4OyB3aGl0ZS1zcGFjZTog\n",
    "bm93cmFwOyBvdmVyZmxvdy13cmFwOiBub3JtYWw7IHRleHQtYWxpZ246IGNlbnRlcjsiPjxkaXYg\n",
    "eG1sbnM9Imh0dHA6Ly93d3cudzMub3JnLzE5OTkveGh0bWwiIHN0eWxlPSJkaXNwbGF5OmlubGlu\n",
    "ZS1ibG9jazt0ZXh0LWFsaWduOmluaGVyaXQ7dGV4dC1kZWNvcmF0aW9uOmluaGVyaXQ7Ij48c3Bh\n",
    "biBzdHlsZT0iZm9udC1zaXplOiAxNnB4Ij5zZXF1ZW5jZTxiciAvPmVtcHR5PzxiciAvPjwvc3Bh\n",
    "bj48L2Rpdj48L2Rpdj48L2ZvcmVpZ25PYmplY3Q+PHRleHQgeD0iMzIiIHk9IjI0IiBmaWxsPSIj\n",
    "MDAwMDAwIiB0ZXh0LWFuY2hvcj0ibWlkZGxlIiBmb250LXNpemU9IjEycHgiIGZvbnQtZmFtaWx5\n",
    "PSJIZWx2ZXRpY2EiPltOb3Qgc3VwcG9ydGVkIGJ5IHZpZXdlcl08L3RleHQ+PC9zd2l0Y2g+PC9n\n",
    "PjxwYXRoIGQ9Ik0gNDgyIDU3IEwgNDgyIDcuMjQgTCAxMjAuODIgNy4yNCBMIDEyMC44MiA3MC4y\n",
    "OCIgZmlsbD0ibm9uZSIgc3Ryb2tlPSIjMDAwMDAwIiBzdHJva2UtbWl0ZXJsaW1pdD0iMTAiIHBv\n",
    "aW50ZXItZXZlbnRzPSJub25lIi8+PHBhdGggZD0iTSAxMjAuODIgNzUuNTMgTCAxMTcuMzIgNjgu\n",
    "NTMgTCAxMjAuODIgNzAuMjggTCAxMjQuMzIgNjguNTMgWiIgZmlsbD0iIzAwMDAwMCIgc3Ryb2tl\n",
    "PSIjMDAwMDAwIiBzdHJva2UtbWl0ZXJsaW1pdD0iMTAiIHBvaW50ZXItZXZlbnRzPSJub25lIi8+\n",
    "PHJlY3QgeD0iNDIyLjUiIHk9IjU3IiB3aWR0aD0iMTIwIiBoZWlnaHQ9IjQwIiByeD0iNyIgcnk9\n",
    "IjciIGZpbGw9IiNmNWY1ZjUiIHN0cm9rZT0iIzY2NjY2NiIgc3Ryb2tlLXdpZHRoPSIyIiBwb2lu\n",
    "dGVyLWV2ZW50cz0ibm9uZSIvPjxnIHRyYW5zZm9ybT0idHJhbnNsYXRlKDQ1My41LDY1LjUpIj48\n",
    "c3dpdGNoPjxmb3JlaWduT2JqZWN0IHN0eWxlPSJvdmVyZmxvdzp2aXNpYmxlOyIgcG9pbnRlci1l\n",
    "dmVudHM9ImFsbCIgd2lkdGg9IjU3IiBoZWlnaHQ9IjIyIiByZXF1aXJlZEZlYXR1cmVzPSJodHRw\n",
    "Oi8vd3d3LnczLm9yZy9UUi9TVkcxMS9mZWF0dXJlI0V4dGVuc2liaWxpdHkiPjxkaXYgeG1sbnM9\n",
    "Imh0dHA6Ly93d3cudzMub3JnLzE5OTkveGh0bWwiIHN0eWxlPSJkaXNwbGF5OiBpbmxpbmUtYmxv\n",
    "Y2s7IGZvbnQtc2l6ZTogMTJweDsgZm9udC1mYW1pbHk6IEhlbHZldGljYTsgY29sb3I6IHJnYig1\n",
    "MSwgNTEsIDUxKTsgbGluZS1oZWlnaHQ6IDEuMjsgdmVydGljYWwtYWxpZ246IHRvcDsgd2lkdGg6\n",
    "IDU4cHg7IHdoaXRlLXNwYWNlOiBub3dyYXA7IG92ZXJmbG93LXdyYXA6IG5vcm1hbDsgdGV4dC1h\n",
    "bGlnbjogY2VudGVyOyI+PGRpdiB4bWxucz0iaHR0cDovL3d3dy53My5vcmcvMTk5OS94aHRtbCIg\n",
    "c3R5bGU9ImRpc3BsYXk6aW5saW5lLWJsb2NrO3RleHQtYWxpZ246aW5oZXJpdDt0ZXh0LWRlY29y\n",
    "YXRpb246aW5oZXJpdDsiPjxzcGFuIHN0eWxlPSJmb250LXNpemU6IDIwcHgiPnByaW50KGkpPC9z\n",
    "cGFuPjwvZGl2PjwvZGl2PjwvZm9yZWlnbk9iamVjdD48dGV4dCB4PSIyOSIgeT0iMTciIGZpbGw9\n",
    "IiMzMzMzMzMiIHRleHQtYW5jaG9yPSJtaWRkbGUiIGZvbnQtc2l6ZT0iMTJweCIgZm9udC1mYW1p\n",
    "bHk9IkhlbHZldGljYSI+W05vdCBzdXBwb3J0ZWQgYnkgdmlld2VyXTwvdGV4dD48L3N3aXRjaD48\n",
    "L2c+PHBhdGggZD0iTSAxNzEuNjEgMTQ3IEwgMjEwLjM5IDE0NyBDIDIyNy4yOSAxNDcgMjQxIDE2\n",
    "MC40MyAyNDEgMTc3IEMgMjQxIDE5My41NyAyMjcuMjkgMjA3IDIxMC4zOSAyMDcgTCAxNzEuNjEg\n",
    "MjA3IEMgMTU0LjcxIDIwNyAxNDEgMTkzLjU3IDE0MSAxNzcgQyAxNDEgMTYwLjQzIDE1NC43MSAx\n",
    "NDcgMTcxLjYxIDE0NyBaIiBmaWxsPSIjZDVlOGQ0IiBzdHJva2U9IiM4MmIzNjYiIHN0cm9rZS13\n",
    "aWR0aD0iMiIgc3Ryb2tlLW1pdGVybGltaXQ9IjEwIiBwb2ludGVyLWV2ZW50cz0ibm9uZSIvPjxn\n",
    "IHRyYW5zZm9ybT0idHJhbnNsYXRlKDE3Mi41LDE2NS41KSI+PHN3aXRjaD48Zm9yZWlnbk9iamVj\n",
    "dCBzdHlsZT0ib3ZlcmZsb3c6dmlzaWJsZTsiIHBvaW50ZXItZXZlbnRzPSJhbGwiIHdpZHRoPSIz\n",
    "NiIgaGVpZ2h0PSIyMiIgcmVxdWlyZWRGZWF0dXJlcz0iaHR0cDovL3d3dy53My5vcmcvVFIvU1ZH\n",
    "MTEvZmVhdHVyZSNFeHRlbnNpYmlsaXR5Ij48ZGl2IHhtbG5zPSJodHRwOi8vd3d3LnczLm9yZy8x\n",
    "OTk5L3hodG1sIiBzdHlsZT0iZGlzcGxheTogaW5saW5lLWJsb2NrOyBmb250LXNpemU6IDEycHg7\n",
    "IGZvbnQtZmFtaWx5OiBIZWx2ZXRpY2E7IGNvbG9yOiByZ2IoMCwgMCwgMCk7IGxpbmUtaGVpZ2h0\n",
    "OiAxLjI7IHZlcnRpY2FsLWFsaWduOiB0b3A7IHdpZHRoOiAzN3B4OyB3aGl0ZS1zcGFjZTogbm93\n",
    "cmFwOyBvdmVyZmxvdy13cmFwOiBub3JtYWw7IHRleHQtYWxpZ246IGNlbnRlcjsiPjxkaXYgeG1s\n",
    "bnM9Imh0dHA6Ly93d3cudzMub3JnLzE5OTkveGh0bWwiIHN0eWxlPSJkaXNwbGF5OmlubGluZS1i\n",
    "bG9jazt0ZXh0LWFsaWduOmluaGVyaXQ7dGV4dC1kZWNvcmF0aW9uOmluaGVyaXQ7Ij48Zm9udCBz\n",
    "dHlsZT0iZm9udC1zaXplOiAyMHB4Ij5FbmQ8L2ZvbnQ+PC9kaXY+PC9kaXY+PC9mb3JlaWduT2Jq\n",
    "ZWN0Pjx0ZXh0IHg9IjE4IiB5PSIxNyIgZmlsbD0iIzAwMDAwMCIgdGV4dC1hbmNob3I9Im1pZGRs\n",
    "ZSIgZm9udC1zaXplPSIxMnB4IiBmb250LWZhbWlseT0iSGVsdmV0aWNhIj5bTm90IHN1cHBvcnRl\n",
    "ZCBieSB2aWV3ZXJdPC90ZXh0Pjwvc3dpdGNoPjwvZz48cGF0aCBkPSJNIDM4OCA3Ni42NSBMIDQw\n",
    "Ny44OCA3Ni42NSBMIDQxNS42MyA3Ni42NSIgZmlsbD0ibm9uZSIgc3Ryb2tlPSIjMDAwMDAwIiBz\n",
    "dHJva2UtbWl0ZXJsaW1pdD0iMTAiIHBvaW50ZXItZXZlbnRzPSJub25lIi8+PHBhdGggZD0iTSA0\n",
    "MjAuODggNzYuNjUgTCA0MTMuODggODAuMTUgTCA0MTUuNjMgNzYuNjUgTCA0MTMuODggNzMuMTUg\n",
    "WiIgZmlsbD0iIzAwMDAwMCIgc3Ryb2tlPSIjMDAwMDAwIiBzdHJva2UtbWl0ZXJsaW1pdD0iMTAi\n",
    "IHBvaW50ZXItZXZlbnRzPSJub25lIi8+PHJlY3QgeD0iMjY4IiB5PSI0NyIgd2lkdGg9IjEyMCIg\n",
    "aGVpZ2h0PSI2MCIgcng9IjciIHJ5PSI3IiBmaWxsPSIjZjVmNWY1IiBzdHJva2U9IiM2NjY2NjYi\n",
    "IHN0cm9rZS13aWR0aD0iMiIgcG9pbnRlci1ldmVudHM9Im5vbmUiLz48ZyB0cmFuc2Zvcm09InRy\n",
    "YW5zbGF0ZSgyNzkuNSw1My41KSI+PHN3aXRjaD48Zm9yZWlnbk9iamVjdCBzdHlsZT0ib3ZlcmZs\n",
    "b3c6dmlzaWJsZTsiIHBvaW50ZXItZXZlbnRzPSJhbGwiIHdpZHRoPSI5NyIgaGVpZ2h0PSI0NiIg\n",
    "cmVxdWlyZWRGZWF0dXJlcz0iaHR0cDovL3d3dy53My5vcmcvVFIvU1ZHMTEvZmVhdHVyZSNFeHRl\n",
    "bnNpYmlsaXR5Ij48ZGl2IHhtbG5zPSJodHRwOi8vd3d3LnczLm9yZy8xOTk5L3hodG1sIiBzdHls\n",
    "ZT0iZGlzcGxheTogaW5saW5lLWJsb2NrOyBmb250LXNpemU6IDEycHg7IGZvbnQtZmFtaWx5OiBI\n",
    "ZWx2ZXRpY2E7IGNvbG9yOiByZ2IoNTEsIDUxLCA1MSk7IGxpbmUtaGVpZ2h0OiAxLjI7IHZlcnRp\n",
    "Y2FsLWFsaWduOiB0b3A7IHdpZHRoOiA5OHB4OyB3aGl0ZS1zcGFjZTogbm93cmFwOyBvdmVyZmxv\n",
    "dy13cmFwOiBub3JtYWw7IHRleHQtYWxpZ246IGNlbnRlcjsiPjxkaXYgeG1sbnM9Imh0dHA6Ly93\n",
    "d3cudzMub3JnLzE5OTkveGh0bWwiIHN0eWxlPSJkaXNwbGF5OmlubGluZS1ibG9jazt0ZXh0LWFs\n",
    "aWduOmluaGVyaXQ7dGV4dC1kZWNvcmF0aW9uOmluaGVyaXQ7Ij48c3BhbiBzdHlsZT0iZm9udC1z\n",
    "aXplOiAyMHB4Ij5pID0gbmV4dDxiciAvPmVsZW1lbnQ8YnIgLz48L3NwYW4+PC9kaXY+PC9kaXY+\n",
    "PC9mb3JlaWduT2JqZWN0Pjx0ZXh0IHg9IjQ5IiB5PSIyOSIgZmlsbD0iIzMzMzMzMyIgdGV4dC1h\n",
    "bmNob3I9Im1pZGRsZSIgZm9udC1zaXplPSIxMnB4IiBmb250LWZhbWlseT0iSGVsdmV0aWNhIj5b\n",
    "Tm90IHN1cHBvcnRlZCBieSB2aWV3ZXJdPC90ZXh0Pjwvc3dpdGNoPjwvZz48L2c+PC9zdmc+Cg==\" style=\"max-width:50%;\" />"
   ]
  },
  {
   "cell_type": "markdown",
   "metadata": {},
   "source": [
    "```{margin}\n",
    "A loop within the body of another loop is called *nested*. The enclosing loop is called *outer loop*.\n",
    "```\n",
    "Of course, loops can also be *nested*. Here is an example to find all prime numbers between 2 and 99:"
   ]
  },
  {
   "cell_type": "code",
   "execution_count": 7,
   "metadata": {
    "tags": [
     "hide_output"
    ]
   },
   "outputs": [],
   "source": [
    "for n in range(2, 100):\n",
    "    for x in range(2, n):\n",
    "        if n % x == 0:\n",
    "            break\n",
    "    else:\n",
    "        print(\"{:d} is a prime number\".format(n))"
   ]
  },
  {
   "cell_type": "markdown",
   "metadata": {},
   "source": [
    "#### Useful functions for iterations\n",
    "\n",
    "Besides `range()`, python provides further useful functions to iterate over sequences.\n",
    "In particular, the following should be mentioned:\n",
    "\n",
    "-   [enumerate(seq)](https://docs.python.org/3/library/functions.html#enumerate): Returns the elements of a sequence together with a counter."
   ]
  },
  {
   "cell_type": "code",
   "execution_count": 8,
   "metadata": {
    "tags": [
     "hide_output"
    ]
   },
   "outputs": [],
   "source": [
    "for i, element in enumerate(['a', 'b', 'c', 'd']):\n",
    "    print(i, element)"
   ]
  },
  {
   "cell_type": "markdown",
   "metadata": {},
   "source": [
    "-   [zip(seq1, seq2, ...)](https://docs.python.org/3/library/functions.html#zip): Takes multiple sequences and returns a tuple of the respective elements for each iteration."
   ]
  },
  {
   "cell_type": "code",
   "execution_count": 9,
   "metadata": {
    "tags": [
     "hide_output"
    ]
   },
   "outputs": [],
   "source": [
    "for n, v, a in zip(('ham', 'spam', 'eggs'),\n",
    "                   ('is', 'was', 'has been'),\n",
    "                   ('good', 'mouldy', 'sticky')):\n",
    "    print(n, v, a)"
   ]
  }
 ],
 "metadata": {
  "kernelspec": {
   "display_name": "Python 3 (ipykernel)",
   "language": "python",
   "name": "python3"
  },
  "language_info": {
   "codemirror_mode": {
    "name": "ipython",
    "version": 3
   },
   "file_extension": ".py",
   "mimetype": "text/x-python",
   "name": "python",
   "nbconvert_exporter": "python",
   "pygments_lexer": "ipython3",
   "version": "3.10.6"
  }
 },
 "nbformat": 4,
 "nbformat_minor": 4
}
