{
 "cells": [
  {
   "cell_type": "markdown",
   "metadata": {},
   "source": [
    "# Primitive Data Types\n",
    "In programing data is organized in structures called *data types*. The most simple data types are called *primitive data types* and represent the smallest possible unit for information. In contrast, *non-primitive data types* consist of primitive ones and are used to organize more complex or larger amounts of data. To get the type of an object in Python you can use the built-in function [`type()`](https://docs.python.org/3.8/library/functions.html#type).\n",
    "\n",
    "As in most languages, the [primitive data types in Python](https://docs.python.org/3/library/stdtypes.html#built-in-typ) are:\n",
    "-   Boolean\n",
    "-   Integer\n",
    "-   Float\n",
    "-   Complex\n",
    "-   String"
   ]
  },
  {
   "cell_type": "markdown",
   "metadata": {},
   "source": [
    "## Boolean\n",
    "\n",
    "Booleans are used for truth values of a binary logic. A boolean variable can take two different values, true or false, represented in Python by two constant objects: `True` and `False`. **Note the capitalization!** The type, that is the kind of data, of a boolean or logical variable is `bool`. Typically, booleans are returned if comparative operations are performed."
   ]
  },
  {
   "cell_type": "code",
   "execution_count": 20,
   "metadata": {
    "tags": [
     "hide_output"
    ]
   },
   "outputs": [
    {
     "name": "stdout",
     "output_type": "stream",
     "text": [
      "<class 'bool'> <class 'bool'>\n",
      "<class 'bool'>\n",
      "True\n",
      "True\n"
     ]
    }
   ],
   "source": [
    "print(type(True), type(False))\n",
    "\n",
    "print(type(1 == 1))\n",
    "print(1 + 1 == 2)\n",
    "\n",
    "x = 5\n",
    "print(3 < x <= 5)"
   ]
  },
  {
   "cell_type": "markdown",
   "metadata": {},
   "source": [
    "Python knows the following comparative operators:\n",
    "\n",
    "Operator  | Meaning\n",
    "----------|----------\n",
    "`<`       | less then\n",
    "`<=`      | less or equal\n",
    "`>`       | greater\n",
    "`>=`      | greater or equal\n",
    "`==`      | equal\n",
    "`!=`      | unequal\n",
    "`is`      | same object\n",
    "`is not`  | not the same object\n",
    "\n",
    "Additionally, boolean expressions can be written with the logical operators `and`, `or` and `not`:"
   ]
  },
  {
   "cell_type": "code",
   "execution_count": 2,
   "metadata": {
    "tags": [
     "hide_output"
    ]
   },
   "outputs": [
    {
     "name": "stdout",
     "output_type": "stream",
     "text": [
      "True\n",
      "True\n",
      "True\n"
     ]
    }
   ],
   "source": [
    "print((3 < 4) and (5 > 2))\n",
    "\n",
    "x = 21\n",
    "print((x % 7 == 0) or (x % 5 == 0))\n",
    "\n",
    "print((x % 7 == 0) and not (x % 5 == 0))"
   ]
  },
  {
   "cell_type": "markdown",
   "metadata": {},
   "source": [
    "The function [`bool()`](https://docs.python.org/3.8/library/functions.html#bool) transforms any object to a booleans. Any object is considered \"to be `True`\" except:\n",
    "-  `None` and `False`.\n",
    "-  zero of any numeric type: `0`, `0.0`, `0j`, `Decimal(0)`, `Fraction(0, 1)`\n",
    "-  empty sequences and collections: `''`, `()`, `[]`, `{}`, `set()`, `range(0)`\n",
    "which are considered to be `False`."
   ]
  },
  {
   "cell_type": "markdown",
   "metadata": {},
   "source": [
    "## Integer\n",
    "Integers correspond to the set of natural numbers in mathematics. They include the zero and can be positive or negative."
   ]
  },
  {
   "cell_type": "code",
   "execution_count": 3,
   "metadata": {},
   "outputs": [],
   "source": [
    "positive_number = 42\n",
    "negative_number = -13\n",
    "null = 0"
   ]
  },
  {
   "cell_type": "markdown",
   "metadata": {},
   "source": [
    "In most programming languages, there are several integer data types, depending if they can be negative and how large the value range may be.\n",
    "As all data, integer numbers are stored in the memory of a computer in a binary representation as a sequence of 0 and 1, called *bits*.\n",
    "A sequence of `1011` converts to an unsigned integer as $1 \\cdot 2^3 + 0 \\cdot 2^2 + 1 \\cdot 2^1 + 1 \\cdot 2^0 = 8 + 2 + 1 = 11$.\n",
    "If we also include a sign the first bit determines whether the number is positive or negate.\n",
    "\n",
    "In this example, we have four bits. Eight bits are called a *byte*.\n",
    "A typical integer is encoded as either four or eight bytes, that are 32 or 64 bits. This gives a maximum value of either $2^{32}=4294967296$ or $2^{64}=18446744073709551616$ for unsigned integer and $2^{31}=2147483648$ or $2^{63}=9223372036854775808$ for signed integer.\n",
    "The fixed value range can be dangerous. If we add two very large integers, the result may be outside the valid range.\n",
    "This is called a overflow and might cause program malfunction.\n",
    "\n",
    "Unlike other programing languages, Python only has one integer data type that does not have a fixed length in memory.\n",
    "Hence, we can store as big integers as we like and we do not have to care about overflows."
   ]
  },
  {
   "cell_type": "code",
   "execution_count": 10,
   "metadata": {},
   "outputs": [
    {
     "name": "stdout",
     "output_type": "stream",
     "text": [
      "<class 'int'>\n"
     ]
    }
   ],
   "source": [
    "# This interger would be to big for many other programming languages\n",
    "big_number = 1000000000000000000000000000000000\n",
    "print(type(big_number))"
   ]
  },
  {
   "cell_type": "markdown",
   "metadata": {},
   "source": [
    "It is possible to transform other primitive data types to integer using the function [`int`](https://docs.python.org/3.8/library/functions.html#int)."
   ]
  },
  {
   "cell_type": "code",
   "execution_count": 7,
   "metadata": {},
   "outputs": [
    {
     "name": "stdout",
     "output_type": "stream",
     "text": [
      "42\n",
      "1999\n",
      "5\n"
     ]
    }
   ],
   "source": [
    "decimal_number = 42.1\n",
    "print(int(decimal_number))\n",
    "\n",
    "year = \"1999\"\n",
    "print(int(year))\n",
    "\n",
    "print(int('101', 2))"
   ]
  },
  {
   "cell_type": "markdown",
   "metadata": {},
   "source": [
    "## Float\n",
    "Floats are real numbers and have the type `float`. They are used to represent decimal numbers."
   ]
  },
  {
   "cell_type": "code",
   "execution_count": 30,
   "metadata": {},
   "outputs": [
    {
     "name": "stdout",
     "output_type": "stream",
     "text": [
      "<class 'float'>\n"
     ]
    }
   ],
   "source": [
    "dezimal_number = 42.33\n",
    "different_dezimal_number = -34.2424\n",
    "print(type(dezimal_number))"
   ]
  },
  {
   "cell_type": "markdown",
   "metadata": {},
   "source": [
    "The function [`isinstance()`](https://docs.python.org/3.8/library/functions.html#isinstance) can be used to check whether an object is a float (or actually of any other data type)."
   ]
  },
  {
   "cell_type": "code",
   "execution_count": 31,
   "metadata": {},
   "outputs": [
    {
     "name": "stdout",
     "output_type": "stream",
     "text": [
      "True\n"
     ]
    }
   ],
   "source": [
    "print(isinstance(4.5, float))"
   ]
  },
  {
   "cell_type": "markdown",
   "metadata": {},
   "source": [
    "Integers need to be written without a decimal point, but floats always need the dot! The numbers `55` and `55.0` have the same value, but are of different type!"
   ]
  },
  {
   "cell_type": "code",
   "execution_count": 33,
   "metadata": {},
   "outputs": [
    {
     "name": "stdout",
     "output_type": "stream",
     "text": [
      "True\n",
      "False\n"
     ]
    }
   ],
   "source": [
    "a = 55\n",
    "b = 55.0\n",
    "print(a == b)\n",
    "print(a is b)"
   ]
  },
  {
   "cell_type": "markdown",
   "metadata": {},
   "source": [
    "The function [`float()`](https://docs.python.org/3.8/library/functions.html#float) transforms different data types to floats"
   ]
  },
  {
   "cell_type": "code",
   "execution_count": 17,
   "metadata": {},
   "outputs": [
    {
     "name": "stdout",
     "output_type": "stream",
     "text": [
      "5.0\n",
      "33.0\n"
     ]
    }
   ],
   "source": [
    "number = 5\n",
    "print(float(number))\n",
    "\n",
    "address_number = \"33\"\n",
    "print(float(address_number))"
   ]
  },
  {
   "cell_type": "markdown",
   "metadata": {},
   "source": [
    "When we do calculations with floats, we may encounter a situation like this:"
   ]
  },
  {
   "cell_type": "code",
   "execution_count": 22,
   "metadata": {},
   "outputs": [
    {
     "data": {
      "text/plain": [
       "0.30000000000000004"
      ]
     },
     "execution_count": 22,
     "metadata": {},
     "output_type": "execute_result"
    }
   ],
   "source": [
    "0.1 + 0.2"
   ]
  },
  {
   "cell_type": "markdown",
   "metadata": {},
   "source": [
    "The reason for the inexact result is the internal [representation](https://docs.python.org/3.7/tutorial/floatingpoint.html) of floats in memory.\n",
    "These errors are called *round off errors* and are inevitable. Situations where they may have a significant effect on the result of a calculation must be avoided, such as adding very large and very small numbers."
   ]
  },
  {
   "cell_type": "markdown",
   "metadata": {},
   "source": [
    "## Complex\n",
    "\n",
    "Complex numbers have the type `complex` and are written as `<real part>+<imaginary part>j`.\n",
    "Note the `j` right after the imaginary part which represents the imaginary unit.\n",
    "There is also the built-in function [`complex()`](https://docs.python.org/3.8/library/functions.html#complex) for creating a complex number."
   ]
  },
  {
   "cell_type": "code",
   "execution_count": 29,
   "metadata": {
    "tags": [
     "hide_output"
    ]
   },
   "outputs": [
    {
     "name": "stdout",
     "output_type": "stream",
     "text": [
      "True\n",
      "<class 'complex'>\n"
     ]
    }
   ],
   "source": [
    "# this is a complex number\n",
    "3 + 1j\n",
    "print(3 + 1j == complex(3, 1))\n",
    "print(type(3+1j))"
   ]
  },
  {
   "cell_type": "code",
   "execution_count": 26,
   "metadata": {
    "tags": [
     "hide_output"
    ]
   },
   "outputs": [
    {
     "ename": "SyntaxError",
     "evalue": "invalid syntax (<ipython-input-26-4d6b0a85eab6>, line 7)",
     "output_type": "error",
     "traceback": [
      "\u001b[0;36m  File \u001b[0;32m\"<ipython-input-26-4d6b0a85eab6>\"\u001b[0;36m, line \u001b[0;32m7\u001b[0m\n\u001b[0;31m    3 + 1 j\u001b[0m\n\u001b[0m          ^\u001b[0m\n\u001b[0;31mSyntaxError\u001b[0m\u001b[0;31m:\u001b[0m invalid syntax\n"
     ]
    }
   ],
   "source": [
    "# this is a syntax error\n",
    "3 + 1 j"
   ]
  },
  {
   "cell_type": "markdown",
   "metadata": {},
   "source": [
    "We can do any kind of arithmetics with complex numbers."
   ]
  },
  {
   "cell_type": "code",
   "execution_count": 40,
   "metadata": {},
   "outputs": [
    {
     "name": "stdout",
     "output_type": "stream",
     "text": [
      "2j\n",
      "(1+4j)\n",
      "(-0-1j)\n"
     ]
    }
   ],
   "source": [
    "z = 1j\n",
    "print(2 * z)\n",
    "print(z + 1 + 3j)\n",
    "print(z**3)"
   ]
  },
  {
   "cell_type": "markdown",
   "metadata": {},
   "source": [
    "Unlike floats and integers, the complex data type offers so called attributes to access the real and imaginary part of the complex number.\n",
    "An Attribute is some peace of data that is part of an object.\n",
    "To access the data of the attribute one uses the dot notation: `<object>.<attribute>`.\n",
    "The real and imaginary part of a complex number is accessible as the attribute `real` and `imag`."
   ]
  },
  {
   "cell_type": "code",
   "execution_count": 45,
   "metadata": {
    "tags": [
     "hide_output"
    ]
   },
   "outputs": [
    {
     "name": "stdout",
     "output_type": "stream",
     "text": [
      "3.0 2.0\n"
     ]
    }
   ],
   "source": [
    "z = 3 + 2j\n",
    "print(z.real, z.imag)"
   ]
  },
  {
   "cell_type": "markdown",
   "metadata": {},
   "source": [
    "In addition to attributes, the complex data type also has a method called `conjugate`.\n",
    "A method is something like a function that is attached to an object and that does something with the data of the object.\n",
    "In case of `conjugate`, the method compute the complex conjugate of the number.\n",
    "Note the brackets when `conjugate` is called.\n",
    "Since the returned value is of type `complex`, we can directly access its imaginary part for example. "
   ]
  },
  {
   "cell_type": "code",
   "execution_count": 47,
   "metadata": {},
   "outputs": [
    {
     "name": "stdout",
     "output_type": "stream",
     "text": [
      "(3-2j)\n",
      "-2.0\n"
     ]
    }
   ],
   "source": [
    "print(z.conjugate())\n",
    "print(z.conjugate().imag)"
   ]
  },
  {
   "cell_type": "markdown",
   "metadata": {},
   "source": [
    "## Strings\n",
    "\n",
    "A string is simply a sequence of characters (so basically text) and need to be enclosed by single or double quotation marks."
   ]
  },
  {
   "cell_type": "code",
   "execution_count": 50,
   "metadata": {
    "tags": [
     "hide_output"
    ]
   },
   "outputs": [
    {
     "name": "stdout",
     "output_type": "stream",
     "text": [
      "This is a string\n",
      "This is a text that contains \"quotation marks\"\n"
     ]
    }
   ],
   "source": [
    "text = \"This is a string\"\n",
    "print(text)\n",
    "\n",
    "text2 = 'This is also a string'\n",
    "text3 = 'This is a text that contains \"quotation marks\"'\n",
    "print(text3)"
   ]
  },
  {
   "cell_type": "markdown",
   "metadata": {},
   "source": [
    "In Python 3, all strings are encoded in [Unicode](https://de.wikipedia.org/wiki/Unicode). So they can contain special characters."
   ]
  },
  {
   "cell_type": "code",
   "execution_count": 51,
   "metadata": {
    "tags": [
     "hide_output"
    ]
   },
   "outputs": [
    {
     "name": "stdout",
     "output_type": "stream",
     "text": [
      "∂η/∂t + ∂(Hu)/∂x + ∂(Hv)/∂y = 0\n"
     ]
    }
   ],
   "source": [
    "coordinates = \"0°N 23°W\"\n",
    "equations   = \"∂η/∂t + ∂(Hu)/∂x + ∂(Hv)/∂y = 0\"\n",
    "print(equations)"
   ]
  },
  {
   "cell_type": "markdown",
   "metadata": {},
   "source": [
    "In fact, in Python 3 also the source code may contain Unicode characters."
   ]
  },
  {
   "cell_type": "code",
   "execution_count": 52,
   "metadata": {
    "tags": [
     "hide_output"
    ]
   },
   "outputs": [
    {
     "name": "stdout",
     "output_type": "stream",
     "text": [
      "9\n"
     ]
    }
   ],
   "source": [
    "Ψ = 3 ** 2\n",
    "print(Ψ)"
   ]
  },
  {
   "cell_type": "markdown",
   "metadata": {},
   "source": [
    "Strings have very useful *methods* to work with, e.g. [`capitalize()`](https://docs.python.org/3/library/stdtypes.html#str.capitalize).\n",
    "Processing text, that is string manipulation, is an important everyday task in programming, also in scientific programming.\n",
    "So take some time an have a look at the available [string methods](https://docs.python.org/3/library/stdtypes.html#string-methods)."
   ]
  },
  {
   "cell_type": "code",
   "execution_count": 53,
   "metadata": {
    "tags": [
     "hide_output"
    ]
   },
   "outputs": [
    {
     "name": "stdout",
     "output_type": "stream",
     "text": [
      "Bernd\n"
     ]
    }
   ],
   "source": [
    "first_name = 'bernd'\n",
    "print(first_name.capitalize())"
   ]
  },
  {
   "cell_type": "markdown",
   "metadata": {},
   "source": [
    "A extremely useful string method is [`format`](https://docs.python.org/3/library/stdtypes.html#str.format).\n",
    "It is used to insert data into string templates.\n",
    "Take a look at the method documentation and the [format string syntax](https://docs.python.org/3/library/string.html#formatstrings).\n",
    "Do not forget to also have a look at [formatting examples](https://docs.python.org/3/library/string.html#format-examples)."
   ]
  },
  {
   "cell_type": "code",
   "execution_count": 54,
   "metadata": {
    "tags": [
     "hide_output"
    ]
   },
   "outputs": [
    {
     "data": {
      "text/plain": [
       "'The sum of 5 + 5 is 10'"
      ]
     },
     "execution_count": 54,
     "metadata": {},
     "output_type": "execute_result"
    }
   ],
   "source": [
    "\"The sum of 5 + 5 is {0}\".format(5+5)"
   ]
  }
 ],
 "metadata": {
  "kernelspec": {
   "display_name": "Python 3",
   "language": "python",
   "name": "python3"
  },
  "language_info": {
   "codemirror_mode": {
    "name": "ipython",
    "version": 3
   },
   "file_extension": ".py",
   "mimetype": "text/x-python",
   "name": "python",
   "nbconvert_exporter": "python",
   "pygments_lexer": "ipython3",
   "version": "3.9.2"
  }
 },
 "nbformat": 4,
 "nbformat_minor": 4
}
