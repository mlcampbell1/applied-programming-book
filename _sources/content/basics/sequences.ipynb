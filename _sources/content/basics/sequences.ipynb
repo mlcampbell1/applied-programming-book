{
 "cells": [
  {
   "cell_type": "markdown",
   "metadata": {},
   "source": [
    "# Sequences\n",
    "\n",
    "Sequences are types of data, which consists of an ordered chain of elements.\n",
    "This means that certain elements of a sequence can be accessed with an index of type integer.\n",
    "The index is written in square brackets to distinguish it from the notation of calling a function."
   ]
  },
  {
   "cell_type": "markdown",
   "metadata": {},
   "source": [
    "## Strings as Sequences\n",
    "\n",
    "In Python strings are sequences! We may assign a string to a variable and then we can access the the individual characters of the string by their location relative to the start of the string."
   ]
  },
  {
   "cell_type": "code",
   "execution_count": 1,
   "metadata": {},
   "outputs": [
    {
     "name": "stdout",
     "output_type": "stream",
     "text": [
      "P\n",
      "h\n"
     ]
    }
   ],
   "source": [
    "word = 'Python'\n",
    "print(word[0])\n",
    "print(word[3])"
   ]
  },
  {
   "cell_type": "markdown",
   "metadata": {},
   "source": [
    "We can also use negative numbers as an index. We then locate the elements relative to the end of the sequence."
   ]
  },
  {
   "cell_type": "code",
   "execution_count": 2,
   "metadata": {},
   "outputs": [
    {
     "name": "stdout",
     "output_type": "stream",
     "text": [
      "n\n",
      "t\n"
     ]
    }
   ],
   "source": [
    "print(word[-1])\n",
    "print(word[-4])"
   ]
  },
  {
   "cell_type": "markdown",
   "metadata": {},
   "source": [
    "Note that indexing starts with `0` in Python! For the string `Python`, the indices of the individual characters are given by\n",
    "```\n",
    "+---+---+---+---+---+---+\n",
    "| P | y | t | h | o | n |\n",
    "+---+---+---+---+---+---+\n",
    "0   1   2   3   4   5   6\n",
    "-6  -5  -4  -3  -2  -1\n",
    "```"
   ]
  },
  {
   "cell_type": "markdown",
   "metadata": {},
   "source": [
    "We can also assign all elements of a sequence directly by using a multiple assignment operation."
   ]
  },
  {
   "cell_type": "code",
   "execution_count": 3,
   "metadata": {
    "tags": [
     "hide_output"
    ]
   },
   "outputs": [
    {
     "name": "stdout",
     "output_type": "stream",
     "text": [
      "a\n",
      "b\n",
      "c\n"
     ]
    }
   ],
   "source": [
    "word2 = \"abc\"\n",
    "c1, c2, c3 = word2\n",
    "print(c1)\n",
    "print(c2)\n",
    "print(c3)"
   ]
  },
  {
   "cell_type": "markdown",
   "metadata": {},
   "source": [
    "Here, the sequence `word2` on the right side of the assignment operator is expanded into its elements before the assignment is done.\n",
    "\n",
    "Sequences also support a limited set of arithmetics, that is a `+` and `*` operation.\n",
    "Summing two sequences means concatenating them."
   ]
  },
  {
   "cell_type": "code",
   "execution_count": 4,
   "metadata": {},
   "outputs": [
    {
     "name": "stdout",
     "output_type": "stream",
     "text": [
      "Foobar\n"
     ]
    }
   ],
   "source": [
    "word1 = \"Foo\"\n",
    "word2 = \"bar\"\n",
    "print(word1 + word2)"
   ]
  },
  {
   "cell_type": "markdown",
   "metadata": {},
   "source": [
    "A sequence can also be multiplied with an integer. The result is a sequence that repeats itself accordingly."
   ]
  },
  {
   "cell_type": "code",
   "execution_count": 5,
   "metadata": {},
   "outputs": [
    {
     "name": "stdout",
     "output_type": "stream",
     "text": [
      "blablabla\n"
     ]
    }
   ],
   "source": [
    "word1 = \"bla\"\n",
    "print(3 * word1)"
   ]
  },
  {
   "cell_type": "markdown",
   "metadata": {},
   "source": [
    "There are more [common operations on sequences](https://docs.python.org/3/library/stdtypes.html#common-sequence-operations), such as `min()`, `max()`, `len()` and `in`. Take a look at the documentation to familiarize yourself with them."
   ]
  },
  {
   "cell_type": "markdown",
   "metadata": {},
   "source": [
    "## Slicing\n",
    "\n",
    "[Slicing](https://docs.python.org/3/library/functions.html?highlight=slice#slice) creates a new sequence from another one.\n",
    "For this we use the `start:stop:step` notation when indexing the sequence.\n",
    "`start` is the index of the first element, `stop` the index of the last possible element of the slice and `step` is the distance between two selected elements.\n",
    "\n",
    "To get the second to sixth character of the word `Python`, we do"
   ]
  },
  {
   "cell_type": "code",
   "execution_count": 6,
   "metadata": {},
   "outputs": [
    {
     "name": "stdout",
     "output_type": "stream",
     "text": [
      "ytho\n"
     ]
    }
   ],
   "source": [
    "word = 'Python'\n",
    "print(word[1:5:1])"
   ]
  },
  {
   "cell_type": "markdown",
   "metadata": {},
   "source": [
    "Remember that Python starts counting the elements at zero!\n",
    "If one of the parameters `start`, `stop` or `step` is omitted, the following default values are used: `start=0`, `stop=end`, `step=1`."
   ]
  },
  {
   "cell_type": "code",
   "execution_count": 7,
   "metadata": {
    "tags": [
     "hide_output"
    ]
   },
   "outputs": [
    {
     "name": "stdout",
     "output_type": "stream",
     "text": [
      "hon\n",
      "Pyt\n",
      "yt\n",
      "Pto\n",
      "nohtyP\n"
     ]
    }
   ],
   "source": [
    "print(word[3:])\n",
    "print(word[:3])\n",
    "print(word[1:3])\n",
    "print(word[::2])\n",
    "print(word[::-1])"
   ]
  },
  {
   "cell_type": "markdown",
   "metadata": {},
   "source": [
    "Of course, we can also use negative indices here."
   ]
  },
  {
   "cell_type": "code",
   "execution_count": 8,
   "metadata": {
    "tags": [
     "hide_output"
    ]
   },
   "outputs": [
    {
     "name": "stdout",
     "output_type": "stream",
     "text": [
      "on\n"
     ]
    }
   ],
   "source": [
    "print(word[-2:])"
   ]
  },
  {
   "cell_type": "markdown",
   "metadata": {},
   "source": [
    "The length of the stride is given by `(stop - start) // step`.\n",
    "Hence, if `stop` equals `start`, we get a sequence of length zero, i.e. it does not contain any element."
   ]
  },
  {
   "cell_type": "code",
   "execution_count": 9,
   "metadata": {
    "tags": [
     "hide_output"
    ]
   },
   "outputs": [
    {
     "data": {
      "text/plain": [
       "''"
      ]
     },
     "execution_count": 9,
     "metadata": {},
     "output_type": "execute_result"
    }
   ],
   "source": [
    "word[2:2]  # This is a empty string"
   ]
  },
  {
   "cell_type": "markdown",
   "metadata": {},
   "source": [
    "## Tuples\n",
    "\n",
    "[Tuples](https://docs.python.org/3/tutorial/datastructures.html#tuples-and-sequences) are ordered sequences of arbitrary data objects. A tuple is build with a comma separated list of expressions which can be set in round brackets:"
   ]
  },
  {
   "cell_type": "code",
   "execution_count": 10,
   "metadata": {
    "tags": [
     "hide_output"
    ]
   },
   "outputs": [
    {
     "name": "stdout",
     "output_type": "stream",
     "text": [
      "(1, 23.45, 'some text')\n",
      "True\n"
     ]
    }
   ],
   "source": [
    "t = 1, 23.45, \"some text\"\n",
    "print(t)\n",
    "\n",
    "t2 = (1, 23.45, \"some text\")\n",
    "print(t == t2)"
   ]
  },
  {
   "cell_type": "markdown",
   "metadata": {},
   "source": [
    "Tuples can have any object as an element, so also tuples can be an element of a tuple."
   ]
  },
  {
   "cell_type": "code",
   "execution_count": 11,
   "metadata": {
    "tags": [
     "hide_output"
    ]
   },
   "outputs": [
    {
     "name": "stdout",
     "output_type": "stream",
     "text": [
      "(56.0, 1, (45, 7, 78, 3))\n"
     ]
    }
   ],
   "source": [
    "t2 = 56., 1, (45, 7, 78, 3)\n",
    "print(t2)"
   ]
  },
  {
   "cell_type": "markdown",
   "metadata": {},
   "source": [
    "Since tuples are sequences, elements of tuples can be accessed using a integer index in the same way as we have seen for strings."
   ]
  },
  {
   "cell_type": "code",
   "execution_count": 12,
   "metadata": {
    "tags": [
     "hide_output"
    ]
   },
   "outputs": [
    {
     "name": "stdout",
     "output_type": "stream",
     "text": [
      "1\n",
      "some text\n"
     ]
    }
   ],
   "source": [
    "print(t[0])\n",
    "print(t[-1])"
   ]
  },
  {
   "cell_type": "markdown",
   "metadata": {},
   "source": [
    "And, of course, also slicing and sequence arithmetics are possible."
   ]
  },
  {
   "cell_type": "code",
   "execution_count": 13,
   "metadata": {
    "tags": [
     "hide_output"
    ]
   },
   "outputs": [
    {
     "name": "stdout",
     "output_type": "stream",
     "text": [
      "(1, 23.45, 1, 23.45, 1, 23.45)\n"
     ]
    }
   ],
   "source": [
    "print(3 * t[:2])"
   ]
  },
  {
   "cell_type": "markdown",
   "metadata": {},
   "source": [
    "## Lists\n",
    "\n",
    "[Lists](https://docs.python.org/3/tutorial/datastructures.html#more-on-lists) are sequences of arbitrary objects, similar to tuples. Lists are always set in square brackets."
   ]
  },
  {
   "cell_type": "code",
   "execution_count": 14,
   "metadata": {},
   "outputs": [
    {
     "name": "stdout",
     "output_type": "stream",
     "text": [
      "1\n",
      "[9, 16, 25]\n",
      "[1, 4, 9, 16, 25, 36, 49]\n"
     ]
    }
   ],
   "source": [
    "squares = [1, 4, 9, 16, 25]\n",
    "print(squares[0])\n",
    "print(squares[-3:])\n",
    "print(squares + [36, 49])"
   ]
  },
  {
   "cell_type": "markdown",
   "metadata": {},
   "source": [
    "The difference to tuples is, that lists are *changeable*.\n",
    "We say a list is `mutable`.\n",
    "As a consequence, we can replace, add or remove elements of an existing list without the need to create a new list. "
   ]
  },
  {
   "cell_type": "code",
   "execution_count": 15,
   "metadata": {},
   "outputs": [
    {
     "name": "stdout",
     "output_type": "stream",
     "text": [
      "[1, 8, 27, 65, 125]\n",
      "[1, 8, 27, 64, 125]\n"
     ]
    }
   ],
   "source": [
    "cubes = [1, 8, 27, 65, 125]\n",
    "print(cubes)\n",
    "\n",
    "# replace the fourth element of the list\n",
    "cubes[3] = 4**3\n",
    "print(cubes)"
   ]
  },
  {
   "cell_type": "code",
   "execution_count": 16,
   "metadata": {},
   "outputs": [
    {
     "name": "stdout",
     "output_type": "stream",
     "text": [
      "['a', 'b', 'C', 'D', 'E', 'f', 'g']\n"
     ]
    }
   ],
   "source": [
    "letters = ['a','b','c','d','e','f','g']\n",
    "\n",
    "# replace multiple values at the same time\n",
    "letters[2:5] = ['C','D','E']\n",
    "print(letters)"
   ]
  },
  {
   "cell_type": "code",
   "execution_count": 17,
   "metadata": {},
   "outputs": [
    {
     "name": "stdout",
     "output_type": "stream",
     "text": [
      "['a', 'b', 'f', 'g']\n"
     ]
    }
   ],
   "source": [
    "# remove elements from the list\n",
    "letters[2:5] = []\n",
    "print(letters)"
   ]
  },
  {
   "cell_type": "code",
   "execution_count": 18,
   "metadata": {},
   "outputs": [
    {
     "name": "stdout",
     "output_type": "stream",
     "text": [
      "[]\n"
     ]
    }
   ],
   "source": [
    "# remove all elements\n",
    "letters[:] = []\n",
    "print(letters)"
   ]
  },
  {
   "cell_type": "markdown",
   "metadata": {},
   "source": [
    "Lists offer [methods](https://docs.python.org/3/tutorial/datastructures.html#more-on-lists) to manipulate their content:\n",
    "\n",
    "Method | Description\n",
    "-----------|--------------\n",
    "`list.append(x)` | Appends element x at the end of a list\n",
    "`list.extend(l)` | Appends list l to another list\n",
    "`list.insert(i,x)` | Inserts element x at index i\n",
    "`list.remove(x)` | Removes the first element with value x\n",
    "`list.index(x)`  | Index of the first element with value x\n",
    "`list.count(x)`  | Counts elements with value x\n",
    "`list.sort(...)` | Sorts the list (in place), available arguments change the order (read the docs)\n",
    "`list.reverse()` | Reverses the order of elements (in place)\n",
    "`list.pop([i])`  | Removes and returns the element at index i"
   ]
  },
  {
   "cell_type": "markdown",
   "metadata": {},
   "source": [
    "Here are some examples of applying list methods:"
   ]
  },
  {
   "cell_type": "code",
   "execution_count": 19,
   "metadata": {},
   "outputs": [
    {
     "name": "stdout",
     "output_type": "stream",
     "text": [
      "[1, 'ham', 'eggs', 42.0, 'spam']\n"
     ]
    }
   ],
   "source": [
    "stuff = [1, 'ham', 'eggs', 42.]\n",
    "\n",
    "# add a single element\n",
    "stuff.append('spam')\n",
    "print(stuff)"
   ]
  },
  {
   "cell_type": "code",
   "execution_count": 20,
   "metadata": {},
   "outputs": [
    {
     "name": "stdout",
     "output_type": "stream",
     "text": [
      "[1, 'ham', 'eggs', 42.0, 'spam', 'a', 'b', 'c']\n"
     ]
    }
   ],
   "source": [
    "# add several eleme\n",
    "stuff.extend(['a', 'b', 'c'])\n",
    "print(stuff)"
   ]
  },
  {
   "cell_type": "markdown",
   "metadata": {},
   "source": [
    "## Mutable and Immutable: reference or copy?\n",
    "\n",
    "All types in Python are either `mutable` or `immutable`.\n",
    "While the distinction may not seem to be very important, it causes a fundamentally different behavior when assigning to a variable.\n",
    "Assignments to `immutable` types always creates a **copy** of the object.\n",
    "Assigning to a `mutable` type creates a **reference** to the data.\n",
    "To understand what is meant by reference, consider the following code example:"
   ]
  },
  {
   "cell_type": "code",
   "execution_count": 34,
   "metadata": {},
   "outputs": [
    {
     "name": "stdout",
     "output_type": "stream",
     "text": [
      "[1, 5, 3]\n",
      "[1, 5, 3]\n"
     ]
    }
   ],
   "source": [
    "a = [1, 2, 3]\n",
    "b = a\n",
    "b[1] = 5\n",
    "print(a)\n",
    "print(b)"
   ]
  },
  {
   "cell_type": "markdown",
   "metadata": {},
   "source": [
    "We assign the name `b` to the data associated with variable `a`, that is the list `[1, 2, 3]`.\n",
    "A list is `mutable`.\n",
    "Hence, in the assignment, we **do not** create a second list in the memory of the computer with the same content that `a` and call it `b`.\n",
    "We rather instruct the computer that `b` is pointing to the same location in memory, hence the identical data, than `a`.\n",
    "If we change `b`, we also change the content of `a`.\n",
    "\n",
    "We can actually check if two variables point to the same data in memory (are identical) by using the `is` operator."
   ]
  },
  {
   "cell_type": "code",
   "execution_count": 35,
   "metadata": {},
   "outputs": [
    {
     "name": "stdout",
     "output_type": "stream",
     "text": [
      "True\n"
     ]
    }
   ],
   "source": [
    "print(a is b)"
   ]
  },
  {
   "cell_type": "markdown",
   "metadata": {},
   "source": [
    "Sometimes, we need to create a copy instead of a reference.\n",
    "For example, if we want to manipulate the content of a dictionary while keeping a unchanged version.\n",
    "Most `mutable` types offer a copy method to create a copy."
   ]
  },
  {
   "cell_type": "code",
   "execution_count": 36,
   "metadata": {},
   "outputs": [
    {
     "name": "stdout",
     "output_type": "stream",
     "text": [
      "True\n",
      "False\n"
     ]
    }
   ],
   "source": [
    "a = {'a': 1}\n",
    "\n",
    "# this is not a copy\n",
    "b = a\n",
    "print(a is b)\n",
    "\n",
    "# this is a copy\n",
    "c = a.copy()\n",
    "print(a is c)"
   ]
  },
  {
   "cell_type": "markdown",
   "metadata": {},
   "source": [
    "If we slice a list, we will also get a copy of the values."
   ]
  },
  {
   "cell_type": "code",
   "execution_count": 37,
   "metadata": {},
   "outputs": [
    {
     "name": "stdout",
     "output_type": "stream",
     "text": [
      "False\n"
     ]
    }
   ],
   "source": [
    "list_1 = [1, 2, 3]\n",
    "list_2 = list_1[:]\n",
    "print(list_1 is list_2)"
   ]
  }
 ],
 "metadata": {
  "kernelspec": {
   "display_name": "Python 3",
   "language": "python",
   "name": "python3"
  },
  "language_info": {
   "codemirror_mode": {
    "name": "ipython",
    "version": 3
   },
   "file_extension": ".py",
   "mimetype": "text/x-python",
   "name": "python",
   "nbconvert_exporter": "python",
   "pygments_lexer": "ipython3",
   "version": "3.6.9"
  }
 },
 "nbformat": 4,
 "nbformat_minor": 4
}
