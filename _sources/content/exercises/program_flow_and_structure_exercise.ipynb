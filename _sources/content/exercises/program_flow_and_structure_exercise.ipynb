{
 "cells": [
  {
   "cell_type": "markdown",
   "metadata": {},
   "source": [
    "# Exercise"
   ]
  },
  {
   "cell_type": "code",
   "execution_count": 1,
   "metadata": {
    "tags": [
     "hide_input"
    ]
   },
   "outputs": [],
   "source": [
    "%matplotlib inline\n",
    "import matplotlib.pyplot as plt\n",
    "from math import sin, cos, tan, pi, acos\n",
    "from myturtle import Turtle"
   ]
  },
  {
   "cell_type": "markdown",
   "metadata": {},
   "source": [
    "## Coding exercise"
   ]
  },
  {
   "cell_type": "markdown",
   "metadata": {},
   "source": [
    "- Explain what the following program does.\n",
    "```python\n",
    "t = Turtle()\n",
    "t.forward(1)\n",
    "t.left(120)\n",
    "t.forward(1)\n",
    "t.left(120)\n",
    "t.forward(1)\n",
    "t.left(120)\n",
    "```\n",
    "  - run the program yourself and see if you are right.\n",
    "  - Write a program that draws a square."
   ]
  },
  {
   "cell_type": "code",
   "execution_count": null,
   "metadata": {},
   "outputs": [],
   "source": []
  },
  {
   "cell_type": "markdown",
   "metadata": {},
   "source": [
    "- Execute the example and explain what happens.\n",
    "```python\n",
    "t = Turtle()\n",
    "t.forward(3.2)\n",
    "if t.x > 3:\n",
    "    t.left(180)\n",
    "    t.forward(t.x - 3)\n",
    "    t.left(180)\n",
    "t.left(180)\n",
    "t.forward(1)    \n",
    "```\n",
    "  - Change the threshold from 3 to 2.\n",
    "  - How could you improve this code to make it more maintainable?"
   ]
  },
  {
   "cell_type": "code",
   "execution_count": null,
   "metadata": {},
   "outputs": [],
   "source": []
  },
  {
   "cell_type": "markdown",
   "metadata": {},
   "source": [
    "- Execute the following code for different numerical values in the second line and explain what happens.\n",
    "```python\n",
    "t = Turtle()\n",
    "t.forward(1)\n",
    "if 1 <= t.x < 2:\n",
    "    t.left(45)\n",
    "elif 2 <= t.x < 3:\n",
    "    t.left(90)\n",
    "elif 3 <= t.x < 4:\n",
    "    t.left(135)\n",
    "else:\n",
    "    t.left(180)\n",
    "t.forward(1)\n",
    "```\n",
    "  - What happens, if the second condition is changed to `1 <= t.x < 3` and the initial step size is set to 1?"
   ]
  },
  {
   "cell_type": "code",
   "execution_count": null,
   "metadata": {},
   "outputs": [],
   "source": []
  },
  {
   "cell_type": "markdown",
   "metadata": {},
   "source": [
    "- Execute the following code and explain what happens.\n",
    "```python\n",
    "t = Turtle()\n",
    "while t.x <= 5:\n",
    "    t.forward(1)\n",
    "```\n",
    " - Insert a `t.left(90)` before the loop and execute the code. What happens? (you can interrupt the program by hitting `<ctrl>-c` or `i` twice)\n",
    " - Explain what risk arise when a `while` loop is used."
   ]
  },
  {
   "cell_type": "code",
   "execution_count": null,
   "metadata": {},
   "outputs": [],
   "source": []
  },
  {
   "cell_type": "markdown",
   "metadata": {},
   "source": [
    "-   Execute the code below and explain what it does in colloquial words.\n",
    "```python\n",
    "t = Turtle()\n",
    "while t.x <= 5:\n",
    "    t.forward(0.1)\n",
    "    if t.y > 2:\n",
    "        break\n",
    "    if t.x > 3:\n",
    "        continue\n",
    "    t.left(1)\n",
    "```\n",
    "  - In which area will the cursor stay?"
   ]
  },
  {
   "cell_type": "code",
   "execution_count": null,
   "metadata": {},
   "outputs": [],
   "source": []
  },
  {
   "cell_type": "markdown",
   "metadata": {},
   "source": [
    "-   What is the difference between the following programs?\n",
    "```python\n",
    "t = Turtle()\n",
    "while t.x < 5:\n",
    "    t.forward(1)\n",
    "```\n",
    "   and\n",
    "```python\n",
    "t = Turtle()\n",
    "while True:\n",
    "    t.forward(1)\n",
    "    if t.x < 5:\n",
    "        break\n",
    "```"
   ]
  },
  {
   "cell_type": "markdown",
   "metadata": {},
   "source": [
    "- Rewrite this code, such that the `range` function is used in the loop header.\n",
    "```python\n",
    "for i in [0, 1, 2, 3]:\n",
    "    print(i)\n",
    "```"
   ]
  },
  {
   "cell_type": "code",
   "execution_count": null,
   "metadata": {},
   "outputs": [],
   "source": []
  },
  {
   "cell_type": "markdown",
   "metadata": {},
   "source": [
    "- Write a program with `Turtle`, which draws a circle (approximately)."
   ]
  },
  {
   "cell_type": "code",
   "execution_count": null,
   "metadata": {},
   "outputs": [],
   "source": []
  },
  {
   "cell_type": "markdown",
   "metadata": {},
   "source": [
    "- Write a program, which draws a equilateral triangle, rectangle, penta- and hexagon - one after anonther.\n",
    "  The number of edges, the angles and side length are defined in the lists `N`, `alpha` and `a` below. Try to use the function `zip()`!"
   ]
  },
  {
   "cell_type": "code",
   "execution_count": null,
   "metadata": {},
   "outputs": [],
   "source": [
    "N = range(3, 7)\n",
    "alpha = [360 / n for n in N]\n",
    "a = [sin(pi / n) for n in N]"
   ]
  },
  {
   "cell_type": "markdown",
   "metadata": {},
   "source": [
    "## Bonus Exercise\n",
    "\n",
    "- Write a program, which causes Turtle to move in a circle with its' center at (0, 1.35) and a radius of 3.\n",
    "- When Turtle hits the edge of the circle, it should be reflected physically correct. Angle of incidence is equal to angle of reflection.\n",
    "- Turtle should travel a distance of 500.\n",
    "\n",
    "The cell below already give you a head start.\n",
    "\n",
    "Note that you do have the trigonometric function (`sin`, `cos`, `tan`, `acos`) and the constant `pi` from the `math` package available.\n",
    "\n",
    "Hint: Until you are sure everything works as it should, start with a distance of 15."
   ]
  },
  {
   "cell_type": "code",
   "execution_count": null,
   "metadata": {},
   "outputs": [],
   "source": [
    "O = (0, 1.35)       # center of the circle\n",
    "r = 3               # radius of the circle\n",
    "dl = .1             # distrance travelled at each iteration\n",
    "dmax = 500          # maximum distance travelled\n",
    "N = int(dmax // dl) # number of iterations\n",
    "\n",
    "# draw circle\n",
    "plt.gca().add_patch(plt.Circle(O, r));\n",
    "plt.axis('equal');\n",
    "\n",
    "t = Turtle()\n",
    "\n",
    "# ..."
   ]
  }
 ],
 "metadata": {
  "kernelspec": {
   "display_name": "Python 3",
   "language": "python",
   "name": "python3"
  },
  "language_info": {
   "codemirror_mode": {
    "name": "ipython",
    "version": 3
   },
   "file_extension": ".py",
   "mimetype": "text/x-python",
   "name": "python",
   "nbconvert_exporter": "python",
   "pygments_lexer": "ipython3",
   "version": "3.9.2"
  }
 },
 "nbformat": 4,
 "nbformat_minor": 4
}
