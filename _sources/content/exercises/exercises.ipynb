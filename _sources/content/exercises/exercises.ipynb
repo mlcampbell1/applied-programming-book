{
 "cells": [
  {
   "cell_type": "markdown",
   "metadata": {},
   "source": [
    "# Exercises\n",
    "\n",
    "The following exercises are meant for practice. They are grouped in three difficulty levels: **Basic, Intermediate, Advanced**. Assess your own abilities and start with exercises that challenge you. If you have problems, try to:\n",
    "\n",
    "1.   look for helpful examples in the previous chapters\n",
    "2.   read the documentation of the functions and classes \n",
    "3.   look for information on the internet\n",
    "4.   ask fellow students\n",
    "5.   ask the tutor"
   ]
  },
  {
   "cell_type": "code",
   "execution_count": 1,
   "metadata": {},
   "outputs": [],
   "source": [
    "from myturtle import Turtle\n",
    "import numpy as np\n",
    "import matplotlib.pyplot as plt"
   ]
  },
  {
   "cell_type": "markdown",
   "metadata": {},
   "source": [
    "---\n",
    "## Level: Basic"
   ]
  },
  {
   "cell_type": "markdown",
   "metadata": {},
   "source": [
    "**Exercise 1:** Draw a single step of a stair with turtle."
   ]
  },
  {
   "cell_type": "code",
   "execution_count": null,
   "metadata": {},
   "outputs": [],
   "source": []
  },
  {
   "cell_type": "markdown",
   "metadata": {},
   "source": [
    "**Exercise 2:** Wrap the drawing of a step of a stair in a function. The first argument should be the `Turtle` object. Two additional arguments should be the width and the height of the step, both with a default of 1.\n",
    "\n",
    "Draw a stair with three steps."
   ]
  },
  {
   "cell_type": "code",
   "execution_count": null,
   "metadata": {},
   "outputs": [],
   "source": []
  },
  {
   "cell_type": "markdown",
   "metadata": {},
   "source": [
    "**Exercise 3:** Write a function which draws a stair with an arbitrary number of steps. Reuse the code of the previous exercises."
   ]
  },
  {
   "cell_type": "code",
   "execution_count": null,
   "metadata": {},
   "outputs": [],
   "source": []
  },
  {
   "cell_type": "markdown",
   "metadata": {},
   "source": [
    "**Exercise 4:** Modify the code in a way, that you can draw a staircase, meaning various opposed stairs. Write another function, which draws a house. Draw a house with a three-storied staircase."
   ]
  },
  {
   "cell_type": "code",
   "execution_count": null,
   "metadata": {},
   "outputs": [],
   "source": []
  },
  {
   "cell_type": "markdown",
   "metadata": {},
   "source": [
    "---\n",
    "## Level: Intermediate"
   ]
  },
  {
   "cell_type": "markdown",
   "metadata": {},
   "source": [
    "**Exercise 1:** Write a function, which returns the absolute gravitational acceleration by a body of mass `M`. The gravitational acceleration is given by:\n",
    "\n",
    "$$ a = \\frac{\\Gamma M}{r^2} $$\n",
    "\n",
    "with $\\Gamma = 6,672 \\cdot 10^{-11} \\frac{\\text{m}³}{\\text{kg}\\,\\text{s}²}$ and $r$ is the distance between the two masses."
   ]
  },
  {
   "cell_type": "code",
   "execution_count": null,
   "metadata": {},
   "outputs": [],
   "source": []
  },
  {
   "cell_type": "markdown",
   "metadata": {},
   "source": [
    "**Exercise 2:** Rewrite the function in such a way, that it returns\n",
    "\n",
    "$$ \\vec{a} = \\frac{\\Gamma M}{\\Vert\\vec{r}\\Vert^2}\\frac{\\vec{r}}{\\Vert\\vec{r}\\Vert}$$"
   ]
  },
  {
   "cell_type": "code",
   "execution_count": null,
   "metadata": {},
   "outputs": [],
   "source": []
  },
  {
   "cell_type": "markdown",
   "metadata": {},
   "source": [
    "**Exercise 3:** Write a program, which simulates the flight of a canonball. You can (but do not have to) assume a constant gravitational acceleration of $g = 9.80665 \\frac{\\text{m}}{\\text{s}²}$.\n",
    "\n",
    "Necessary parameters for the computation:\n",
    "\n",
    "-   Initial speed and angle. Combining to one vector is advised.\n",
    "-   Time increment $dt$ of the simulation. Use $dt = 0.1\\text{s}$\n",
    "\n",
    "Approximate the velocity vector for every time increment $n$ with $t = n\\cdot dt$ through\n",
    "\n",
    "$$ \\vec{v}_{n+1} = \\vec{v}_n + dt\\cdot\\vec{g}$$\n",
    "\n",
    "The change in position is then given by\n",
    "\n",
    "$$ d\\vec{r}_{n+1} = dt\\cdot\\vec{v}_{n+1}$$\n",
    "\n",
    "Use the method `move` from `Turtle` to change the position. The current position is obtained by the attribute `position`.\n",
    "\n",
    "Start with a `for`-loop with 20 iteration steps. If you have the feeling that the result is right, rewrite the programme in a way, that it aborts when the canonball hits the floor."
   ]
  },
  {
   "cell_type": "code",
   "execution_count": null,
   "metadata": {},
   "outputs": [],
   "source": []
  },
  {
   "cell_type": "markdown",
   "metadata": {},
   "source": [
    "**Exercise 4:** Wrap the program in a function with arguments\n",
    "\n",
    "-   `Turtle` object\n",
    "-   Initial speed\n",
    "-   Initial angle\n",
    "-   Time increment (Default 0.1 s) (Compute the accuracy of the distance measurement)\n",
    "\n",
    "Write a program, which computes the shot range depending on the initial angle and velocity. Use angles between 10° and 70° in 1° steps and initial velocities between $50 \\frac{\\text{m}}{\\text{s}}$ and $200 \\frac{\\text{m}}{\\text{s}}$ in $10 \\frac{\\text{m}}{\\text{s}}$ steps. Organize the result in a nested list.\n",
    "\n",
    "The two following cells contain code to visualize the results.\n",
    "\n",
    "Tip: Turn off the graphical output of `Turtle` with the method `set_draw` before running the simulation."
   ]
  },
  {
   "cell_type": "code",
   "execution_count": null,
   "metadata": {},
   "outputs": [],
   "source": []
  },
  {
   "cell_type": "code",
   "execution_count": null,
   "metadata": {},
   "outputs": [],
   "source": [
    "# speed: sequence containing the velocities\n",
    "# angle: sequence containg the angles\n",
    "# distance: nested list containing the shot ranges (shape: n_angle x n_speed) \n",
    "\n",
    "plt.contourf(speed, angle, distance)\n",
    "plt.colorbar()\n",
    "plt.ylabel('angle [°]')\n",
    "plt.xlabel('speed [m/s]')\n",
    "plt.title('Shooting distance [m]');"
   ]
  },
  {
   "cell_type": "code",
   "execution_count": null,
   "metadata": {},
   "outputs": [],
   "source": [
    "plt.plot(angle, distance[:, -1])\n",
    "plt.ylabel('shooting distance [m]')\n",
    "plt.xlabel('angle [°]')\n",
    "plt.title('Speed {} [m/s]'.format(speed[-1]));"
   ]
  },
  {
   "cell_type": "markdown",
   "metadata": {},
   "source": [
    "---\n",
    "## Level: Advanced"
   ]
  },
  {
   "cell_type": "markdown",
   "metadata": {},
   "source": [
    "**Exercise 1:** Expand the class `Turtle` by the functionality of the *Basic level* exercises. Objects of this class should be able to draw houses and staircases.\n",
    "\n",
    "Add a method, which draws houses with staircases. The argument should be the number of stories.\n",
    "\n",
    "Draw a city (~ 5-10 multilevel houses of different size)."
   ]
  },
  {
   "cell_type": "code",
   "execution_count": null,
   "metadata": {},
   "outputs": [],
   "source": []
  },
  {
   "cell_type": "markdown",
   "metadata": {},
   "source": [
    "**Exercise 2:**\n",
    "Expand the class `Turtle`:\n",
    "-   add the attributes velocity (list) and mass (float)\n",
    "-   Write a method, which computes the gravitational acceleration of an object from another object of the same type (see *Intermediate level* Exercise 2).\n",
    "-   Write a method, which sums the gravitational acceleration from a list of objects.\n",
    "-   Write a method to compute the velocity at the next time step (see *Intermediate level* Exercise 3)\n",
    "\n",
    "Consider the following objects:\n",
    "-   sun:\n",
    "    -   Position: (0, 0)\n",
    "    -   Velocity: (0, 0)\n",
    "    -   Mass: 1.989e30\n",
    "-   earth:\n",
    "    -   Position relative to the sun: (0, 1.496e11)\n",
    "    -   Velocity relative to the sun: (2.9780e4, 0)\n",
    "    -   Mass: 5.9722e24\n",
    "-   moon:\n",
    "    -   Position relative to the earth: (0, 3.844e8)\n",
    "    -   Velocity relative to the earth: (1.023e3, 0)\n",
    "    -   Mass: 7.349e22\n",
    "\n",
    "First simulate the orbit of the moon around the earth in geocentric coordinates. You can assume the earth to be fixed in space. Use a time increment of $dt = 5000s$ and simulate 30 days.\n",
    "\n",
    "Simulate the orbit of the moon around the earth, while it is orbiting around the sun.\n",
    "\n",
    "Try to simulate a [\"gravitational slingshot\"](https://en.wikipedia.org/wiki/Gravity_assist). "
   ]
  },
  {
   "cell_type": "code",
   "execution_count": null,
   "metadata": {},
   "outputs": [],
   "source": []
  }
 ],
 "metadata": {
  "kernelspec": {
   "name": "python392jvsc74a57bd0b00b6a08ff13e5c1f92744d202edaeb161dd1782b10992ae7e1d7f07b1716bf4",
   "display_name": "Python 3.9.2 64-bit ('applied_programming_book': conda)"
  },
  "language_info": {
   "codemirror_mode": {
    "name": "ipython",
    "version": 3
   },
   "file_extension": ".py",
   "mimetype": "text/x-python",
   "name": "python",
   "nbconvert_exporter": "python",
   "pygments_lexer": "ipython3",
   "version": "3.9.2"
  }
 },
 "nbformat": 4,
 "nbformat_minor": 4
}