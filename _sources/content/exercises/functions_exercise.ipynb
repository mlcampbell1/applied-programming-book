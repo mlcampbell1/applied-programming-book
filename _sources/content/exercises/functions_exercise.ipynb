{
 "cells": [
  {
   "cell_type": "markdown",
   "metadata": {},
   "source": [
    "# Exercise\n",
    "\n",
    "## Answer the Questions"
   ]
  },
  {
   "cell_type": "markdown",
   "metadata": {},
   "source": [
    "-   Which value does `hello_world` return?\n",
    "\n",
    "```python\n",
    "def hello_world():\n",
    "    print(\"Hello World\")\n",
    "```"
   ]
  },
  {
   "cell_type": "markdown",
   "metadata": {},
   "source": []
  },
  {
   "cell_type": "markdown",
   "metadata": {},
   "source": [
    "-   what is the difference between `hello_word` and `hello_world_string`?\n",
    "\n",
    "```python\n",
    "def hello_world_string():\n",
    "    return \"Hello World\"\n",
    "```"
   ]
  },
  {
   "cell_type": "markdown",
   "metadata": {},
   "source": []
  },
  {
   "cell_type": "markdown",
   "metadata": {},
   "source": [
    "-   What is the type of `hello_world_string` and `hello_world_string()`?"
   ]
  },
  {
   "cell_type": "markdown",
   "metadata": {},
   "source": []
  },
  {
   "cell_type": "markdown",
   "metadata": {},
   "source": [
    "-   Write a function with three arguments. Execute this function with different combinations of keyword and positional arguments. What is allowed, what is not? What rules can be derived from that result?"
   ]
  },
  {
   "cell_type": "markdown",
   "metadata": {},
   "source": []
  },
  {
   "cell_type": "markdown",
   "metadata": {},
   "source": [
    "-   Write a function with two arguments. One should have a default value. At which position does it need to be placed in the signature?"
   ]
  },
  {
   "cell_type": "markdown",
   "metadata": {},
   "source": []
  },
  {
   "cell_type": "markdown",
   "metadata": {},
   "source": [
    "-   Describe the behaviour of the following program. Change the code such that the function always returns the same data.\n",
    "\n",
    "```python\n",
    "def append_element(e, l=[1]):\n",
    "    l.append(e)\n",
    "    return l\n",
    "\n",
    "print(append_element(2))\n",
    "print(append_element(2, [5]))\n",
    "print(append_element(2))\n",
    "print(append_element(2))\n",
    "```"
   ]
  },
  {
   "cell_type": "markdown",
   "metadata": {},
   "source": []
  },
  {
   "cell_type": "markdown",
   "metadata": {},
   "source": [
    "-   Of what type are the parameter `args` and `kwargs` in the following function?\n",
    "\n",
    "```python\n",
    "def func_pos_args(*args, **kwargs):\n",
    "    print(args, kwargs)\n",
    "```"
   ]
  },
  {
   "cell_type": "markdown",
   "metadata": {},
   "source": []
  },
  {
   "cell_type": "markdown",
   "metadata": {},
   "source": [
    "-   Read [PEP257](https://www.python.org/dev/peps/pep-0257/) and write a proper `docstring` for the function `append_element` from above."
   ]
  },
  {
   "cell_type": "markdown",
   "metadata": {},
   "source": []
  },
  {
   "cell_type": "markdown",
   "metadata": {},
   "source": [
    "-   Swap the order of instructions in the body of the function below. What happens?\n",
    "\n",
    "```python\n",
    "s3 = \"I hate {}\"\n",
    "def f(city):\n",
    "    s3 = \"I love {}\"\n",
    "    print(s3.format(city))\n",
    "    \n",
    "f('Paris')\n",
    "print(s3.format('Paris'))\n",
    "```"
   ]
  },
  {
   "cell_type": "markdown",
   "metadata": {},
   "source": []
  },
  {
   "cell_type": "markdown",
   "metadata": {},
   "source": [
    "## Coding exercise\n",
    "\n",
    "Write the following functions with reasonable default values and a docstring:\n",
    "\n",
    "-   A function which checks, if a coordinate tuple lies within a circle with centre `M` and radius `r` (in 2D)."
   ]
  },
  {
   "cell_type": "code",
   "execution_count": null,
   "metadata": {},
   "outputs": [],
   "source": []
  },
  {
   "cell_type": "markdown",
   "metadata": {},
   "source": [
    "-   A function which returns the [angle between two vectors](https://en.wikipedia.org/wiki/Dot_product) in radians."
   ]
  },
  {
   "cell_type": "code",
   "execution_count": null,
   "metadata": {},
   "outputs": [],
   "source": []
  },
  {
   "cell_type": "markdown",
   "metadata": {},
   "source": [
    "-   A [congruencial generator](https://en.wikipedia.org/wiki/Linear_congruential_generator) with default values from \"Numerical Recipes\"."
   ]
  },
  {
   "cell_type": "code",
   "execution_count": null,
   "metadata": {},
   "outputs": [],
   "source": []
  },
  {
   "cell_type": "markdown",
   "metadata": {},
   "source": [
    "-   A function which returns the [refractive index of water and ice](https://en.wikipedia.org/wiki/Optical_properties_of_water_and_ice) for wavelengths between 0.2 μm and 1.2 μm. Conditions as they are typically on earths surface (e.g. right now) should be used as default."
   ]
  },
  {
   "cell_type": "code",
   "execution_count": null,
   "metadata": {},
   "outputs": [],
   "source": []
  }
 ],
 "metadata": {
  "kernelspec": {
   "display_name": "Python 3",
   "language": "python",
   "name": "python3"
  },
  "language_info": {
   "codemirror_mode": {
    "name": "ipython",
    "version": 3
   },
   "file_extension": ".py",
   "mimetype": "text/x-python",
   "name": "python",
   "nbconvert_exporter": "python",
   "pygments_lexer": "ipython3",
   "version": "3.9.2"
  }
 },
 "nbformat": 4,
 "nbformat_minor": 4
}
