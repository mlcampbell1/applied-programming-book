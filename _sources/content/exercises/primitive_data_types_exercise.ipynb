{
 "cells": [
  {
   "cell_type": "markdown",
   "id": "746d6a44",
   "metadata": {},
   "source": [
    "# Exercise\n",
    "\n",
    "\n",
    "## Answer the following questions\n",
    "\n",
    "-   Which numbers represent `False`, which `True`?"
   ]
  },
  {
   "cell_type": "markdown",
   "id": "6ee46f6f",
   "metadata": {},
   "source": []
  },
  {
   "cell_type": "markdown",
   "id": "7dcfb77a",
   "metadata": {},
   "source": [
    "-   Does `int()` round correctly?"
   ]
  },
  {
   "cell_type": "markdown",
   "id": "29fae2c0",
   "metadata": {},
   "source": []
  },
  {
   "cell_type": "markdown",
   "id": "038f963b",
   "metadata": {},
   "source": [
    "-   What happens, if a `String` does not represent a number?"
   ]
  },
  {
   "cell_type": "markdown",
   "id": "8eb3b093",
   "metadata": {},
   "source": []
  },
  {
   "cell_type": "markdown",
   "id": "68385af1",
   "metadata": {},
   "source": [
    "-   What is the meaning of `int('101', 2)`?"
   ]
  },
  {
   "cell_type": "markdown",
   "id": "3d2b9e01",
   "metadata": {},
   "source": []
  },
  {
   "cell_type": "markdown",
   "id": "6936d72b",
   "metadata": {},
   "source": [
    "-   What  decimal number represents `4F` in hexadecimal system?"
   ]
  },
  {
   "cell_type": "markdown",
   "id": "cbb737cc",
   "metadata": {},
   "source": []
  },
  {
   "cell_type": "markdown",
   "id": "00724bd7",
   "metadata": {},
   "source": [
    "-   What is the result of `55 == 55.0`? What does that mean?"
   ]
  },
  {
   "cell_type": "markdown",
   "id": "79ce3833",
   "metadata": {},
   "source": []
  },
  {
   "cell_type": "markdown",
   "id": "dba18f7d",
   "metadata": {},
   "source": [
    "-   What does the function `round()`?"
   ]
  },
  {
   "cell_type": "markdown",
   "id": "bf78b1f4",
   "metadata": {},
   "source": []
  },
  {
   "cell_type": "markdown",
   "id": "455c4353",
   "metadata": {},
   "source": [
    "-   Can `float()` transform from different numerical systems, as `int()` does?"
   ]
  },
  {
   "cell_type": "markdown",
   "id": "fc9e1a32",
   "metadata": {},
   "source": []
  },
  {
   "cell_type": "markdown",
   "id": "6b6552b4",
   "metadata": {},
   "source": [
    "-   What is the result of `0.1 + 0.2` and why?"
   ]
  },
  {
   "cell_type": "markdown",
   "id": "a0495c17",
   "metadata": {},
   "source": []
  },
  {
   "cell_type": "markdown",
   "id": "66755a0d",
   "metadata": {},
   "source": [
    "-   What is the difference between `5` and `5.`?"
   ]
  },
  {
   "cell_type": "markdown",
   "id": "47ec901c",
   "metadata": {},
   "source": []
  },
  {
   "cell_type": "markdown",
   "id": "7df88f2b",
   "metadata": {},
   "source": [
    "-   What is the meaning of `5+1j`?"
   ]
  },
  {
   "cell_type": "markdown",
   "id": "8875b7c2",
   "metadata": {},
   "source": []
  },
  {
   "cell_type": "markdown",
   "id": "64ec3b44",
   "metadata": {},
   "source": [
    "-   What is the meaning of `5. == 5`?"
   ]
  },
  {
   "cell_type": "markdown",
   "id": "0813b8d3",
   "metadata": {},
   "source": []
  },
  {
   "cell_type": "markdown",
   "id": "bdad8b53",
   "metadata": {},
   "source": [
    "-   What type is the result of\n",
    "    -   `17 // 3`\n",
    "    -   `17 // 3.`\n",
    "    -   `5. == 5`?"
   ]
  },
  {
   "cell_type": "markdown",
   "id": "f9afcf4a",
   "metadata": {},
   "source": []
  },
  {
   "cell_type": "markdown",
   "id": "e8527361",
   "metadata": {},
   "source": [
    "-   When is it appropriate to use single/double quotation marks?"
   ]
  },
  {
   "cell_type": "markdown",
   "id": "a1340638",
   "metadata": {},
   "source": []
  },
  {
   "cell_type": "markdown",
   "id": "e773648d",
   "metadata": {},
   "source": [
    "-   What do `\\n` and `\\t` mean?"
   ]
  },
  {
   "cell_type": "markdown",
   "id": "594f8286",
   "metadata": {},
   "source": []
  },
  {
   "cell_type": "markdown",
   "id": "8c84e593",
   "metadata": {},
   "source": [
    "-   How does the `format()` method work?"
   ]
  },
  {
   "cell_type": "markdown",
   "id": "86cd0a5e",
   "metadata": {},
   "source": []
  },
  {
   "cell_type": "markdown",
   "id": "62fdbd2a",
   "metadata": {},
   "source": [
    "-   How do I check, if a string represents a number?"
   ]
  },
  {
   "cell_type": "markdown",
   "id": "add00b59",
   "metadata": {},
   "source": []
  },
  {
   "cell_type": "markdown",
   "id": "f21a50b2",
   "metadata": {},
   "source": [
    "-   How do I check, if a string ends with a certain chain of characters?"
   ]
  },
  {
   "cell_type": "code",
   "execution_count": null,
   "id": "cdc4973c",
   "metadata": {},
   "outputs": [],
   "source": []
  }
 ],
 "metadata": {
  "kernelspec": {
   "display_name": "Python 3",
   "language": "python",
   "name": "python3"
  },
  "language_info": {
   "codemirror_mode": {
    "name": "ipython",
    "version": 3
   },
   "file_extension": ".py",
   "mimetype": "text/x-python",
   "name": "python",
   "nbconvert_exporter": "python",
   "pygments_lexer": "ipython3",
   "version": "3.9.2"
  }
 },
 "nbformat": 4,
 "nbformat_minor": 5
}
