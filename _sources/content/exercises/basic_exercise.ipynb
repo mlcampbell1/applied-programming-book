{
 "cells": [
  {
   "cell_type": "markdown",
   "id": "4a3fbabb",
   "metadata": {},
   "source": [
    "# Exercise"
   ]
  },
  {
   "cell_type": "markdown",
   "id": "e44762d6",
   "metadata": {},
   "source": [
    "## Answer the following questions\n",
    "-   Explain the difference between `/` and `//`?"
   ]
  },
  {
   "cell_type": "markdown",
   "id": "d1080f82",
   "metadata": {},
   "source": []
  },
  {
   "cell_type": "markdown",
   "id": "f943f9fa",
   "metadata": {},
   "source": [
    "-   Explain the meaning of `a += 5` in your own words"
   ]
  },
  {
   "cell_type": "markdown",
   "id": "c992543f",
   "metadata": {},
   "source": []
  },
  {
   "cell_type": "markdown",
   "id": "e86b53f4",
   "metadata": {},
   "source": [
    "## Coding Exercises\n",
    "\n",
    "###  Calculator\n",
    "-   Compute the square of `40`"
   ]
  },
  {
   "cell_type": "code",
   "execution_count": null,
   "id": "c4b496a1",
   "metadata": {},
   "outputs": [],
   "source": []
  },
  {
   "cell_type": "markdown",
   "id": "fc1d067d",
   "metadata": {},
   "source": [
    "-   Compute the square root of `2`"
   ]
  },
  {
   "cell_type": "code",
   "execution_count": null,
   "id": "89b52921",
   "metadata": {},
   "outputs": [],
   "source": []
  },
  {
   "cell_type": "markdown",
   "id": "5c2ba786",
   "metadata": {},
   "source": [
    "-   write a statement that checks if the cube root of `8` is `2`"
   ]
  },
  {
   "cell_type": "code",
   "execution_count": null,
   "id": "008fb6db",
   "metadata": {},
   "outputs": [],
   "source": []
  },
  {
   "cell_type": "markdown",
   "id": "bceee26e",
   "metadata": {},
   "source": [
    "### Time conversion\n",
    "-   Write some statements to find out how many full minutes and remaining seconds are 344 seconds?\n",
    "\n",
    "-   Add precise and brief comments to the code to explain the choice of operators.\n",
    "\n",
    "-   Assign the number of full minutes and remaining seconds to variables. Use expressive variable names!\n",
    "\n",
    "-   Use the `print` function for the output of the results"
   ]
  },
  {
   "cell_type": "code",
   "execution_count": null,
   "id": "5d8a8779",
   "metadata": {},
   "outputs": [],
   "source": []
  },
  {
   "cell_type": "markdown",
   "id": "e17fa572",
   "metadata": {},
   "source": [
    "### Access documentation\n",
    "-   Output the documentation of the built-in function `abs`."
   ]
  },
  {
   "cell_type": "code",
   "execution_count": null,
   "id": "4587e7e2",
   "metadata": {},
   "outputs": [],
   "source": []
  }
 ],
 "metadata": {
  "kernelspec": {
   "display_name": "Python 3",
   "language": "python",
   "name": "python3"
  },
  "language_info": {
   "codemirror_mode": {
    "name": "ipython",
    "version": 3
   },
   "file_extension": ".py",
   "mimetype": "text/x-python",
   "name": "python",
   "nbconvert_exporter": "python",
   "pygments_lexer": "ipython3",
   "version": "3.9.2"
  }
 },
 "nbformat": 4,
 "nbformat_minor": 5
}
