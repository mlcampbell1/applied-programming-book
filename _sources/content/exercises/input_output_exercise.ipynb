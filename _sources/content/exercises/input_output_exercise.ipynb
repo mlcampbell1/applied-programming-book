{
 "cells": [
  {
   "cell_type": "markdown",
   "metadata": {},
   "source": [
    "# Exercise\n",
    "\n",
    "## Text Data"
   ]
  },
  {
   "cell_type": "markdown",
   "metadata": {},
   "source": [
    "-  Load the data from `../../data/nao_station_monthly.txt`. Mask every missing value. Therefore you will need the following parameters of the function np.genfromtxt:\n",
    "\n",
    "    -   skipt_header\n",
    "    -   missing_values\n",
    "    -   usemask"
   ]
  },
  {
   "cell_type": "code",
   "execution_count": null,
   "metadata": {},
   "outputs": [],
   "source": []
  },
  {
   "cell_type": "markdown",
   "metadata": {},
   "source": [
    "-  Restructure the loaded data as arrays. Create a time vector (1D-array) called `time` and a 1D data vector called `nao`. Use the code below to plot the NAO time series."
   ]
  },
  {
   "cell_type": "code",
   "execution_count": null,
   "metadata": {},
   "outputs": [],
   "source": []
  },
  {
   "cell_type": "code",
   "execution_count": null,
   "metadata": {},
   "outputs": [],
   "source": [
    "plt.plot(time, nao)\n",
    "plt.xlabel('year')\n",
    "plt.ylabel('nao')\n",
    "plt.title('station based monthly NAO index');"
   ]
  },
  {
   "cell_type": "markdown",
   "metadata": {},
   "source": [
    "## NetCDF data"
   ]
  },
  {
   "cell_type": "markdown",
   "metadata": {},
   "source": [
    "-   Open the dataset `../../data/CRUTEM.4.6.0.0.anomalies.nc`"
   ]
  },
  {
   "cell_type": "code",
   "execution_count": null,
   "metadata": {},
   "outputs": [],
   "source": []
  },
  {
   "cell_type": "markdown",
   "metadata": {},
   "source": [
    "-  Inspect the content of the attributes `dimensions` and `variables`. How long are the dimensions `longitude` and `time`? Which unit and data type does the variable `temperature_anomaly` have and on which dimensions is it defined?"
   ]
  },
  {
   "cell_type": "code",
   "execution_count": null,
   "metadata": {},
   "outputs": [],
   "source": []
  },
  {
   "cell_type": "markdown",
   "metadata": {},
   "source": [
    "-  Read the last time step of the variable `temperature_anomaly` to the memory."
   ]
  },
  {
   "cell_type": "code",
   "execution_count": null,
   "metadata": {},
   "outputs": [],
   "source": []
  },
  {
   "cell_type": "markdown",
   "metadata": {},
   "source": [
    "-  Compute the globally averaged temperature anomaly. The data is given in spherical coordinates. Therefore single data points need to be weighted with the cosine of the latitude in radians:\n",
    "\n",
    "    $$t_{global} = \\frac{1}{N M}\\sum_{j=1}^M\\sum_{i=1}^{N} t_{anom}(j, i) \\cos(\\theta(j))$$\n",
    "\n",
    "    Try to use the broadcasting functionality and the mean function from numpy! Use the code below to plot the time series of globally averaged temperature anomaly."
   ]
  },
  {
   "cell_type": "code",
   "execution_count": null,
   "metadata": {},
   "outputs": [],
   "source": []
  },
  {
   "cell_type": "code",
   "execution_count": null,
   "metadata": {},
   "outputs": [],
   "source": [
    "# create a plotable time axis\n",
    "# encode numerical time representation into datetime information\n",
    "# comprehensible by matplotlib\n",
    "time = nc.num2date(\n",
    "    ds.variables['time'][:],\n",
    "    units=ds.variables['time'].units,\n",
    "    calendar=ds.variables['time'].calendar,\n",
    "    only_use_cftime_datetimes=False,\n",
    "    only_use_python_datetimes=True\n",
    ")\n",
    "\n",
    "plt.plot(time, t_global);"
   ]
  },
  {
   "cell_type": "markdown",
   "metadata": {},
   "source": [
    "-  Write the computed global mean temperature anomaly time series from above with all necessary metadata as a NetCDF data set. Include as many information from the source data set as possible.\n",
    "\n",
    "    Hint: To overwrite an existing data set, the argument `clobber=True` is needed for the creation of the data set."
   ]
  },
  {
   "cell_type": "code",
   "execution_count": null,
   "metadata": {},
   "outputs": [],
   "source": []
  }
 ],
 "metadata": {
  "kernelspec": {
   "display_name": "Python 3",
   "language": "python",
   "name": "python3"
  },
  "language_info": {
   "codemirror_mode": {
    "name": "ipython",
    "version": 3
   },
   "file_extension": ".py",
   "mimetype": "text/x-python",
   "name": "python",
   "nbconvert_exporter": "python",
   "pygments_lexer": "ipython3",
   "version": "3.9.2"
  }
 },
 "nbformat": 4,
 "nbformat_minor": 4
}
